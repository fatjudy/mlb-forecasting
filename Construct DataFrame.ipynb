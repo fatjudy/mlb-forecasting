{
 "cells": [
  {
   "cell_type": "code",
   "execution_count": 2,
   "id": "24e04d57",
   "metadata": {},
   "outputs": [],
   "source": [
    "import os\n",
    "import gc\n",
    "import sys\n",
    "import warnings\n",
    "from pathlib import Path\n",
    "\n",
    "import pandas as pd\n",
    "import numpy as np\n",
    "\n",
    "import seaborn as sns\n",
    "import matplotlib.pyplot as plt\n",
    "from statsmodels.tsa.seasonal import seasonal_decompose"
   ]
  },
  {
   "cell_type": "code",
   "execution_count": 54,
   "id": "db888b0b",
   "metadata": {},
   "outputs": [],
   "source": [
    "df_names = ['playerBoxScores', 'teamBoxScores', 'playerTwitterFollowers', 'teamTwitterFollowers', 'awards', 'events',\n",
    "           'games', 'standings', 'rosters', 'transactions']\n",
    "path = \"data/train_vs/\"\n",
    "\n",
    "train_dict = {}\n",
    "for index in range(len(df_names)):\n",
    "    train_dict[df_names[index]] = pd.read_pickle(os.path.join(path,df_names[index]) + \"_train.pkl\")"
   ]
  },
  {
   "cell_type": "code",
   "execution_count": 55,
   "id": "4e9d3630",
   "metadata": {},
   "outputs": [],
   "source": [
    "df_names = ['seasons', 'teams', 'players', 'awards']\n",
    "path = \"data/\"\n",
    "\n",
    "my_dict = {}\n",
    "for index in range(len(df_names)):\n",
    "    my_dict[df_names[index]] = pd.read_csv(os.path.join(path,df_names[index]) + \".csv\")"
   ]
  },
  {
   "cell_type": "code",
   "execution_count": 56,
   "id": "e5620ff1",
   "metadata": {},
   "outputs": [],
   "source": [
    "target_v = pd.read_pickle('data/target_v/nextDayPlayerEngagement_train.pkl')"
   ]
  },
  {
   "cell_type": "code",
   "execution_count": 94,
   "id": "098d9367",
   "metadata": {},
   "outputs": [],
   "source": [
    "target_dict = {id: target_v[target_v['playerId']==id].drop(\n",
    "    ['index'], axis = 1) for id in target_v['playerId'].unique()}    "
   ]
  },
  {
   "cell_type": "code",
   "execution_count": 95,
   "id": "ea1f4d5a",
   "metadata": {},
   "outputs": [
    {
     "data": {
      "text/html": [
       "<div>\n",
       "<style scoped>\n",
       "    .dataframe tbody tr th:only-of-type {\n",
       "        vertical-align: middle;\n",
       "    }\n",
       "\n",
       "    .dataframe tbody tr th {\n",
       "        vertical-align: top;\n",
       "    }\n",
       "\n",
       "    .dataframe thead th {\n",
       "        text-align: right;\n",
       "    }\n",
       "</style>\n",
       "<table border=\"1\" class=\"dataframe\">\n",
       "  <thead>\n",
       "    <tr style=\"text-align: right;\">\n",
       "      <th></th>\n",
       "      <th>engagementMetricsDate</th>\n",
       "      <th>playerId</th>\n",
       "      <th>target1</th>\n",
       "      <th>target2</th>\n",
       "      <th>target3</th>\n",
       "      <th>target4</th>\n",
       "      <th>date</th>\n",
       "    </tr>\n",
       "  </thead>\n",
       "  <tbody>\n",
       "    <tr>\n",
       "      <th>969</th>\n",
       "      <td>2018-01-02</td>\n",
       "      <td>112526</td>\n",
       "      <td>0.055277</td>\n",
       "      <td>5.496109</td>\n",
       "      <td>0.025839</td>\n",
       "      <td>16.176471</td>\n",
       "      <td>20180101</td>\n",
       "    </tr>\n",
       "    <tr>\n",
       "      <th>3556</th>\n",
       "      <td>2018-01-03</td>\n",
       "      <td>112526</td>\n",
       "      <td>0.060625</td>\n",
       "      <td>3.252914</td>\n",
       "      <td>0.030486</td>\n",
       "      <td>8.541353</td>\n",
       "      <td>20180102</td>\n",
       "    </tr>\n",
       "    <tr>\n",
       "      <th>5737</th>\n",
       "      <td>2018-01-04</td>\n",
       "      <td>112526</td>\n",
       "      <td>0.029341</td>\n",
       "      <td>1.648352</td>\n",
       "      <td>0.032613</td>\n",
       "      <td>10.490112</td>\n",
       "      <td>20180103</td>\n",
       "    </tr>\n",
       "  </tbody>\n",
       "</table>\n",
       "</div>"
      ],
      "text/plain": [
       "     engagementMetricsDate  playerId   target1   target2   target3    target4  \\\n",
       "969             2018-01-02    112526  0.055277  5.496109  0.025839  16.176471   \n",
       "3556            2018-01-03    112526  0.060625  3.252914  0.030486   8.541353   \n",
       "5737            2018-01-04    112526  0.029341  1.648352  0.032613  10.490112   \n",
       "\n",
       "          date  \n",
       "969   20180101  \n",
       "3556  20180102  \n",
       "5737  20180103  "
      ]
     },
     "execution_count": 95,
     "metadata": {},
     "output_type": "execute_result"
    }
   ],
   "source": [
    "target_dict[112526].head(3)"
   ]
  },
  {
   "cell_type": "markdown",
   "id": "787ed120",
   "metadata": {},
   "source": [
    "## Dictionary for playerBoxScores"
   ]
  },
  {
   "cell_type": "code",
   "execution_count": null,
   "id": "46b70bd0",
   "metadata": {},
   "outputs": [],
   "source": []
  },
  {
   "cell_type": "code",
   "execution_count": 198,
   "id": "e05106a0",
   "metadata": {},
   "outputs": [
    {
     "data": {
      "text/html": [
       "<div>\n",
       "<style scoped>\n",
       "    .dataframe tbody tr th:only-of-type {\n",
       "        vertical-align: middle;\n",
       "    }\n",
       "\n",
       "    .dataframe tbody tr th {\n",
       "        vertical-align: top;\n",
       "    }\n",
       "\n",
       "    .dataframe thead th {\n",
       "        text-align: right;\n",
       "    }\n",
       "</style>\n",
       "<table border=\"1\" class=\"dataframe\">\n",
       "  <thead>\n",
       "    <tr style=\"text-align: right;\">\n",
       "      <th></th>\n",
       "      <th>playerId</th>\n",
       "      <th>gamePk</th>\n",
       "      <th>gameDate</th>\n",
       "      <th>gameTimeUTC</th>\n",
       "      <th>teamId</th>\n",
       "      <th>date</th>\n",
       "    </tr>\n",
       "  </thead>\n",
       "  <tbody>\n",
       "    <tr>\n",
       "      <th>0</th>\n",
       "      <td>605131</td>\n",
       "      <td>529418</td>\n",
       "      <td>2018-03-29</td>\n",
       "      <td>2018-03-29T23:08:00Z</td>\n",
       "      <td>119</td>\n",
       "      <td>20180329</td>\n",
       "    </tr>\n",
       "    <tr>\n",
       "      <th>1</th>\n",
       "      <td>605480</td>\n",
       "      <td>529406</td>\n",
       "      <td>2018-03-29</td>\n",
       "      <td>2018-03-29T20:00:00Z</td>\n",
       "      <td>139</td>\n",
       "      <td>20180329</td>\n",
       "    </tr>\n",
       "    <tr>\n",
       "      <th>2</th>\n",
       "      <td>546318</td>\n",
       "      <td>529416</td>\n",
       "      <td>2018-03-29</td>\n",
       "      <td>2018-03-29T20:10:00Z</td>\n",
       "      <td>143</td>\n",
       "      <td>20180329</td>\n",
       "    </tr>\n",
       "  </tbody>\n",
       "</table>\n",
       "</div>"
      ],
      "text/plain": [
       "   playerId  gamePk    gameDate           gameTimeUTC  teamId      date\n",
       "0    605131  529418  2018-03-29  2018-03-29T23:08:00Z     119  20180329\n",
       "1    605480  529406  2018-03-29  2018-03-29T20:00:00Z     139  20180329\n",
       "2    546318  529416  2018-03-29  2018-03-29T20:10:00Z     143  20180329"
      ]
     },
     "execution_count": 198,
     "metadata": {},
     "output_type": "execute_result"
    }
   ],
   "source": [
    "perform_stats = pd.DataFrame()\n",
    "perform_stats = train_dict['playerBoxScores'][[\n",
    "    'playerId', 'gamePk', 'gameDate', 'gameTimeUTC', 'teamId', 'date']]\n",
    "perform_stats.head(3)"
   ]
  },
  {
   "cell_type": "code",
   "execution_count": 199,
   "id": "85fca198",
   "metadata": {},
   "outputs": [],
   "source": [
    "performance = train_dict['playerBoxScores']"
   ]
  },
  {
   "cell_type": "code",
   "execution_count": 200,
   "id": "fd69cdd0",
   "metadata": {},
   "outputs": [
    {
     "name": "stderr",
     "output_type": "stream",
     "text": [
      "C:\\ProgramData\\Anaconda3\\lib\\site-packages\\ipykernel_launcher.py:1: SettingWithCopyWarning: \n",
      "A value is trying to be set on a copy of a slice from a DataFrame.\n",
      "Try using .loc[row_indexer,col_indexer] = value instead\n",
      "\n",
      "See the caveats in the documentation: https://pandas.pydata.org/pandas-docs/stable/user_guide/indexing.html#returning-a-view-versus-a-copy\n",
      "  \"\"\"Entry point for launching an IPython kernel.\n",
      "C:\\ProgramData\\Anaconda3\\lib\\site-packages\\ipykernel_launcher.py:4: SettingWithCopyWarning: \n",
      "A value is trying to be set on a copy of a slice from a DataFrame.\n",
      "Try using .loc[row_indexer,col_indexer] = value instead\n",
      "\n",
      "See the caveats in the documentation: https://pandas.pydata.org/pandas-docs/stable/user_guide/indexing.html#returning-a-view-versus-a-copy\n",
      "  after removing the cwd from sys.path.\n"
     ]
    }
   ],
   "source": [
    "perform_stats['FPCT'] = (performance['putOuts']+performance['assists']) / performance['chances']\n",
    "\n",
    "# Not sure\n",
    "perform_stats['Out'] = performance['putOuts'] + performance['groundOuts'] + performance['strikeOuts'] + performance['flyOuts']"
   ]
  },
  {
   "cell_type": "code",
   "execution_count": 201,
   "id": "a4cc1846",
   "metadata": {},
   "outputs": [
    {
     "name": "stderr",
     "output_type": "stream",
     "text": [
      "C:\\ProgramData\\Anaconda3\\lib\\site-packages\\ipykernel_launcher.py:1: SettingWithCopyWarning: \n",
      "A value is trying to be set on a copy of a slice from a DataFrame.\n",
      "Try using .loc[row_indexer,col_indexer] = value instead\n",
      "\n",
      "See the caveats in the documentation: https://pandas.pydata.org/pandas-docs/stable/user_guide/indexing.html#returning-a-view-versus-a-copy\n",
      "  \"\"\"Entry point for launching an IPython kernel.\n",
      "C:\\ProgramData\\Anaconda3\\lib\\site-packages\\ipykernel_launcher.py:4: SettingWithCopyWarning: \n",
      "A value is trying to be set on a copy of a slice from a DataFrame.\n",
      "Try using .loc[row_indexer,col_indexer] = value instead\n",
      "\n",
      "See the caveats in the documentation: https://pandas.pydata.org/pandas-docs/stable/user_guide/indexing.html#returning-a-view-versus-a-copy\n",
      "  after removing the cwd from sys.path.\n",
      "C:\\ProgramData\\Anaconda3\\lib\\site-packages\\ipykernel_launcher.py:5: SettingWithCopyWarning: \n",
      "A value is trying to be set on a copy of a slice from a DataFrame.\n",
      "Try using .loc[row_indexer,col_indexer] = value instead\n",
      "\n",
      "See the caveats in the documentation: https://pandas.pydata.org/pandas-docs/stable/user_guide/indexing.html#returning-a-view-versus-a-copy\n",
      "  \"\"\"\n",
      "C:\\ProgramData\\Anaconda3\\lib\\site-packages\\ipykernel_launcher.py:7: SettingWithCopyWarning: \n",
      "A value is trying to be set on a copy of a slice from a DataFrame.\n",
      "Try using .loc[row_indexer,col_indexer] = value instead\n",
      "\n",
      "See the caveats in the documentation: https://pandas.pydata.org/pandas-docs/stable/user_guide/indexing.html#returning-a-view-versus-a-copy\n",
      "  import sys\n",
      "C:\\ProgramData\\Anaconda3\\lib\\site-packages\\ipykernel_launcher.py:8: SettingWithCopyWarning: \n",
      "A value is trying to be set on a copy of a slice from a DataFrame.\n",
      "Try using .loc[row_indexer,col_indexer] = value instead\n",
      "\n",
      "See the caveats in the documentation: https://pandas.pydata.org/pandas-docs/stable/user_guide/indexing.html#returning-a-view-versus-a-copy\n",
      "  \n",
      "C:\\ProgramData\\Anaconda3\\lib\\site-packages\\ipykernel_launcher.py:9: SettingWithCopyWarning: \n",
      "A value is trying to be set on a copy of a slice from a DataFrame.\n",
      "Try using .loc[row_indexer,col_indexer] = value instead\n",
      "\n",
      "See the caveats in the documentation: https://pandas.pydata.org/pandas-docs/stable/user_guide/indexing.html#returning-a-view-versus-a-copy\n",
      "  if __name__ == '__main__':\n",
      "C:\\ProgramData\\Anaconda3\\lib\\site-packages\\ipykernel_launcher.py:10: SettingWithCopyWarning: \n",
      "A value is trying to be set on a copy of a slice from a DataFrame.\n",
      "Try using .loc[row_indexer,col_indexer] = value instead\n",
      "\n",
      "See the caveats in the documentation: https://pandas.pydata.org/pandas-docs/stable/user_guide/indexing.html#returning-a-view-versus-a-copy\n",
      "  # Remove the CWD from sys.path while we load stuff.\n",
      "C:\\ProgramData\\Anaconda3\\lib\\site-packages\\ipykernel_launcher.py:11: SettingWithCopyWarning: \n",
      "A value is trying to be set on a copy of a slice from a DataFrame.\n",
      "Try using .loc[row_indexer,col_indexer] = value instead\n",
      "\n",
      "See the caveats in the documentation: https://pandas.pydata.org/pandas-docs/stable/user_guide/indexing.html#returning-a-view-versus-a-copy\n",
      "  # This is added back by InteractiveShellApp.init_path()\n",
      "C:\\ProgramData\\Anaconda3\\lib\\site-packages\\ipykernel_launcher.py:12: SettingWithCopyWarning: \n",
      "A value is trying to be set on a copy of a slice from a DataFrame.\n",
      "Try using .loc[row_indexer,col_indexer] = value instead\n",
      "\n",
      "See the caveats in the documentation: https://pandas.pydata.org/pandas-docs/stable/user_guide/indexing.html#returning-a-view-versus-a-copy\n",
      "  if sys.path[0] == '':\n",
      "C:\\ProgramData\\Anaconda3\\lib\\site-packages\\ipykernel_launcher.py:13: SettingWithCopyWarning: \n",
      "A value is trying to be set on a copy of a slice from a DataFrame.\n",
      "Try using .loc[row_indexer,col_indexer] = value instead\n",
      "\n",
      "See the caveats in the documentation: https://pandas.pydata.org/pandas-docs/stable/user_guide/indexing.html#returning-a-view-versus-a-copy\n",
      "  del sys.path[0]\n",
      "C:\\ProgramData\\Anaconda3\\lib\\site-packages\\ipykernel_launcher.py:14: SettingWithCopyWarning: \n",
      "A value is trying to be set on a copy of a slice from a DataFrame.\n",
      "Try using .loc[row_indexer,col_indexer] = value instead\n",
      "\n",
      "See the caveats in the documentation: https://pandas.pydata.org/pandas-docs/stable/user_guide/indexing.html#returning-a-view-versus-a-copy\n",
      "  \n",
      "C:\\ProgramData\\Anaconda3\\lib\\site-packages\\ipykernel_launcher.py:15: SettingWithCopyWarning: \n",
      "A value is trying to be set on a copy of a slice from a DataFrame.\n",
      "Try using .loc[row_indexer,col_indexer] = value instead\n",
      "\n",
      "See the caveats in the documentation: https://pandas.pydata.org/pandas-docs/stable/user_guide/indexing.html#returning-a-view-versus-a-copy\n",
      "  from ipykernel import kernelapp as app\n",
      "C:\\ProgramData\\Anaconda3\\lib\\site-packages\\ipykernel_launcher.py:16: SettingWithCopyWarning: \n",
      "A value is trying to be set on a copy of a slice from a DataFrame.\n",
      "Try using .loc[row_indexer,col_indexer] = value instead\n",
      "\n",
      "See the caveats in the documentation: https://pandas.pydata.org/pandas-docs/stable/user_guide/indexing.html#returning-a-view-versus-a-copy\n",
      "  app.launch_new_instance()\n",
      "C:\\ProgramData\\Anaconda3\\lib\\site-packages\\ipykernel_launcher.py:17: SettingWithCopyWarning: \n",
      "A value is trying to be set on a copy of a slice from a DataFrame.\n",
      "Try using .loc[row_indexer,col_indexer] = value instead\n",
      "\n",
      "See the caveats in the documentation: https://pandas.pydata.org/pandas-docs/stable/user_guide/indexing.html#returning-a-view-versus-a-copy\n",
      "C:\\ProgramData\\Anaconda3\\lib\\site-packages\\ipykernel_launcher.py:18: SettingWithCopyWarning: \n",
      "A value is trying to be set on a copy of a slice from a DataFrame.\n",
      "Try using .loc[row_indexer,col_indexer] = value instead\n",
      "\n",
      "See the caveats in the documentation: https://pandas.pydata.org/pandas-docs/stable/user_guide/indexing.html#returning-a-view-versus-a-copy\n",
      "C:\\ProgramData\\Anaconda3\\lib\\site-packages\\ipykernel_launcher.py:19: SettingWithCopyWarning: \n",
      "A value is trying to be set on a copy of a slice from a DataFrame.\n",
      "Try using .loc[row_indexer,col_indexer] = value instead\n",
      "\n",
      "See the caveats in the documentation: https://pandas.pydata.org/pandas-docs/stable/user_guide/indexing.html#returning-a-view-versus-a-copy\n"
     ]
    }
   ],
   "source": [
    "perform_stats['AB'] = performance['atBats']\n",
    "\n",
    "# Not sure\n",
    "perform_stats['B2'] = performance['doubles']\n",
    "perform_stats['B3'] = performance['triples']\n",
    "\n",
    "perform_stats['SB'] = performance['stolenBases']\n",
    "perform_stats['CS'] = performance['caughtStealing']\n",
    "perform_stats['H'] = performance['hits']\n",
    "perform_stats['HR'] = performance['homeRuns']\n",
    "perform_stats['IBB'] = performance['intentionalWalks']\n",
    "perform_stats['HBP'] = performance['hitByPitch']\n",
    "perform_stats['LOB'] = performance['leftOnBase']\n",
    "perform_stats['PA'] = performance['plateAppearances']\n",
    "perform_stats['TB'] = performance['totalBases']\n",
    "perform_stats['GIDP'] = performance['groundIntoDoublePlay']\n",
    "perform_stats['RBI'] = performance['rbi']\n",
    "perform_stats['BB'] = performance['baseOnBalls']\n",
    "perform_stats['SO'] = performance['strikeOuts']"
   ]
  },
  {
   "cell_type": "code",
   "execution_count": 202,
   "id": "cc4c5f08",
   "metadata": {},
   "outputs": [
    {
     "name": "stderr",
     "output_type": "stream",
     "text": [
      "C:\\ProgramData\\Anaconda3\\lib\\site-packages\\ipykernel_launcher.py:1: SettingWithCopyWarning: \n",
      "A value is trying to be set on a copy of a slice from a DataFrame.\n",
      "Try using .loc[row_indexer,col_indexer] = value instead\n",
      "\n",
      "See the caveats in the documentation: https://pandas.pydata.org/pandas-docs/stable/user_guide/indexing.html#returning-a-view-versus-a-copy\n",
      "  \"\"\"Entry point for launching an IPython kernel.\n",
      "C:\\ProgramData\\Anaconda3\\lib\\site-packages\\ipykernel_launcher.py:3: SettingWithCopyWarning: \n",
      "A value is trying to be set on a copy of a slice from a DataFrame.\n",
      "Try using .loc[row_indexer,col_indexer] = value instead\n",
      "\n",
      "See the caveats in the documentation: https://pandas.pydata.org/pandas-docs/stable/user_guide/indexing.html#returning-a-view-versus-a-copy\n",
      "  This is separate from the ipykernel package so we can avoid doing imports until\n",
      "C:\\ProgramData\\Anaconda3\\lib\\site-packages\\ipykernel_launcher.py:5: SettingWithCopyWarning: \n",
      "A value is trying to be set on a copy of a slice from a DataFrame.\n",
      "Try using .loc[row_indexer,col_indexer] = value instead\n",
      "\n",
      "See the caveats in the documentation: https://pandas.pydata.org/pandas-docs/stable/user_guide/indexing.html#returning-a-view-versus-a-copy\n",
      "  \"\"\"\n",
      "C:\\ProgramData\\Anaconda3\\lib\\site-packages\\ipykernel_launcher.py:7: SettingWithCopyWarning: \n",
      "A value is trying to be set on a copy of a slice from a DataFrame.\n",
      "Try using .loc[row_indexer,col_indexer] = value instead\n",
      "\n",
      "See the caveats in the documentation: https://pandas.pydata.org/pandas-docs/stable/user_guide/indexing.html#returning-a-view-versus-a-copy\n",
      "  import sys\n",
      "C:\\ProgramData\\Anaconda3\\lib\\site-packages\\ipykernel_launcher.py:9: SettingWithCopyWarning: \n",
      "A value is trying to be set on a copy of a slice from a DataFrame.\n",
      "Try using .loc[row_indexer,col_indexer] = value instead\n",
      "\n",
      "See the caveats in the documentation: https://pandas.pydata.org/pandas-docs/stable/user_guide/indexing.html#returning-a-view-versus-a-copy\n",
      "  if __name__ == '__main__':\n",
      "C:\\ProgramData\\Anaconda3\\lib\\site-packages\\ipykernel_launcher.py:11: SettingWithCopyWarning: \n",
      "A value is trying to be set on a copy of a slice from a DataFrame.\n",
      "Try using .loc[row_indexer,col_indexer] = value instead\n",
      "\n",
      "See the caveats in the documentation: https://pandas.pydata.org/pandas-docs/stable/user_guide/indexing.html#returning-a-view-versus-a-copy\n",
      "  # This is added back by InteractiveShellApp.init_path()\n",
      "C:\\ProgramData\\Anaconda3\\lib\\site-packages\\ipykernel_launcher.py:13: SettingWithCopyWarning: \n",
      "A value is trying to be set on a copy of a slice from a DataFrame.\n",
      "Try using .loc[row_indexer,col_indexer] = value instead\n",
      "\n",
      "See the caveats in the documentation: https://pandas.pydata.org/pandas-docs/stable/user_guide/indexing.html#returning-a-view-versus-a-copy\n",
      "  del sys.path[0]\n"
     ]
    }
   ],
   "source": [
    "perform_stats['SV_percnt'] = performance['saves']/performance['saveOpportunities']\n",
    "\n",
    "perform_stats['HLD'] = performance['holds']\n",
    "\n",
    "perform_stats['BS'] = performance['blownSaves']\n",
    "\n",
    "perform_stats['IR'] = performance['inheritedRunners']\n",
    "\n",
    "perform_stats['IP'] = performance['inningsPitched']\n",
    "\n",
    "perform_stats['ERA'] = (9*performance['earnedRuns'])/perform_stats['IP']\n",
    "\n",
    "perform_stats['WHIP'] = (perform_stats['BB'] + perform_stats['H'])/perform_stats['IP']"
   ]
  },
  {
   "cell_type": "code",
   "execution_count": 203,
   "id": "d0ae3277",
   "metadata": {},
   "outputs": [
    {
     "name": "stderr",
     "output_type": "stream",
     "text": [
      "C:\\ProgramData\\Anaconda3\\lib\\site-packages\\ipykernel_launcher.py:1: SettingWithCopyWarning: \n",
      "A value is trying to be set on a copy of a slice from a DataFrame.\n",
      "Try using .loc[row_indexer,col_indexer] = value instead\n",
      "\n",
      "See the caveats in the documentation: https://pandas.pydata.org/pandas-docs/stable/user_guide/indexing.html#returning-a-view-versus-a-copy\n",
      "  \"\"\"Entry point for launching an IPython kernel.\n",
      "C:\\ProgramData\\Anaconda3\\lib\\site-packages\\ipykernel_launcher.py:4: SettingWithCopyWarning: \n",
      "A value is trying to be set on a copy of a slice from a DataFrame.\n",
      "Try using .loc[row_indexer,col_indexer] = value instead\n",
      "\n",
      "See the caveats in the documentation: https://pandas.pydata.org/pandas-docs/stable/user_guide/indexing.html#returning-a-view-versus-a-copy\n",
      "  after removing the cwd from sys.path.\n"
     ]
    }
   ],
   "source": [
    "perform_stats['ISO'] = (perform_stats['B2']+2*perform_stats['B3']+3*perform_stats['HR'])/perform_stats['AB']\n",
    "\n",
    "perform_stats['RC'] = perform_stats['TB']*(perform_stats['H']+perform_stats['BB'])/(\n",
    "    perform_stats['AB']+perform_stats['BB'])"
   ]
  },
  {
   "cell_type": "code",
   "execution_count": 205,
   "id": "ec0caae0",
   "metadata": {},
   "outputs": [],
   "source": [
    "playerBS_dict = {id: perform_stats[perform_stats[\n",
    "    'playerId']==id] for id in target_v['playerId'].unique()}    "
   ]
  },
  {
   "cell_type": "code",
   "execution_count": 287,
   "id": "e8e25cc7",
   "metadata": {},
   "outputs": [],
   "source": [
    "merge_1  = {}\n",
    "for key, df in target_dict.items():\n",
    "    df = target_dict[key].merge(playerBS_dict[key], on = ['date', 'playerId'], how = 'left')\n",
    "    merge_1[key] = df"
   ]
  },
  {
   "cell_type": "code",
   "execution_count": 288,
   "id": "926c2604",
   "metadata": {},
   "outputs": [
    {
     "data": {
      "text/plain": [
       "dict_keys(['playerBoxScores', 'teamBoxScores', 'playerTwitterFollowers', 'teamTwitterFollowers', 'awards', 'events', 'games', 'standings', 'rosters', 'transactions'])"
      ]
     },
     "execution_count": 288,
     "metadata": {},
     "output_type": "execute_result"
    }
   ],
   "source": [
    "train_dict.keys()"
   ]
  },
  {
   "cell_type": "code",
   "execution_count": 289,
   "id": "761e458f",
   "metadata": {},
   "outputs": [],
   "source": [
    "# train_dict['teamBoxScores'].columns"
   ]
  },
  {
   "cell_type": "code",
   "execution_count": 290,
   "id": "90549d6b",
   "metadata": {},
   "outputs": [],
   "source": [
    "select_awards = train_dict['awards'][['playerId', 'date', 'awardId']]"
   ]
  },
  {
   "cell_type": "code",
   "execution_count": 291,
   "id": "3ad624e1",
   "metadata": {},
   "outputs": [],
   "source": [
    "awards_dict = {id: select_awards[select_awards[\n",
    "    'playerId']==id] for id in target_v['playerId'].unique()}    "
   ]
  },
  {
   "cell_type": "code",
   "execution_count": 292,
   "id": "f24d5c47",
   "metadata": {},
   "outputs": [],
   "source": [
    "merge_2  = {}\n",
    "for key, df in target_dict.items():\n",
    "    df = merge_1[key].merge(awards_dict[key], on = ['date', 'playerId'], how = 'left')\n",
    "    merge_2[key] = df"
   ]
  },
  {
   "cell_type": "code",
   "execution_count": 293,
   "id": "b43ee54b",
   "metadata": {},
   "outputs": [],
   "source": [
    "select_stand = train_dict['standings'][['gameDate', 'divisionId', 'teamId', 'divisionRank', 'leagueRank', 'wildCardRank', \n",
    "                                         'pct', 'homeWins', 'xWinLossPct', 'date']]"
   ]
  },
  {
   "cell_type": "code",
   "execution_count": 308,
   "id": "cf6cfc2c",
   "metadata": {},
   "outputs": [],
   "source": [
    "# train_dict['standings'].head()\n",
    "merge_3  = {}\n",
    "for key, df in target_dict.items():\n",
    "    df = merge_2[key].merge(select_stand, on = ['date', 'teamId', 'gameDate'], how = 'left')\n",
    "    merge_3[key] = df"
   ]
  },
  {
   "cell_type": "code",
   "execution_count": 309,
   "id": "1df8a8fb",
   "metadata": {},
   "outputs": [
    {
     "data": {
      "text/html": [
       "<div>\n",
       "<style scoped>\n",
       "    .dataframe tbody tr th:only-of-type {\n",
       "        vertical-align: middle;\n",
       "    }\n",
       "\n",
       "    .dataframe tbody tr th {\n",
       "        vertical-align: top;\n",
       "    }\n",
       "\n",
       "    .dataframe thead th {\n",
       "        text-align: right;\n",
       "    }\n",
       "</style>\n",
       "<table border=\"1\" class=\"dataframe\">\n",
       "  <thead>\n",
       "    <tr style=\"text-align: right;\">\n",
       "      <th></th>\n",
       "      <th>playerId</th>\n",
       "      <th>gameDate</th>\n",
       "      <th>teamId</th>\n",
       "      <th>statusCode</th>\n",
       "      <th>status</th>\n",
       "      <th>index</th>\n",
       "      <th>date</th>\n",
       "    </tr>\n",
       "  </thead>\n",
       "  <tbody>\n",
       "    <tr>\n",
       "      <th>0</th>\n",
       "      <td>400121</td>\n",
       "      <td>2018-01-01</td>\n",
       "      <td>116</td>\n",
       "      <td>A</td>\n",
       "      <td>Active</td>\n",
       "      <td>0</td>\n",
       "      <td>20180101</td>\n",
       "    </tr>\n",
       "    <tr>\n",
       "      <th>1</th>\n",
       "      <td>408045</td>\n",
       "      <td>2018-01-01</td>\n",
       "      <td>142</td>\n",
       "      <td>A</td>\n",
       "      <td>Active</td>\n",
       "      <td>0</td>\n",
       "      <td>20180101</td>\n",
       "    </tr>\n",
       "    <tr>\n",
       "      <th>2</th>\n",
       "      <td>425492</td>\n",
       "      <td>2018-01-01</td>\n",
       "      <td>120</td>\n",
       "      <td>A</td>\n",
       "      <td>Active</td>\n",
       "      <td>0</td>\n",
       "      <td>20180101</td>\n",
       "    </tr>\n",
       "  </tbody>\n",
       "</table>\n",
       "</div>"
      ],
      "text/plain": [
       "   playerId    gameDate  teamId statusCode  status  index      date\n",
       "0    400121  2018-01-01     116          A  Active      0  20180101\n",
       "1    408045  2018-01-01     142          A  Active      0  20180101\n",
       "2    425492  2018-01-01     120          A  Active      0  20180101"
      ]
     },
     "execution_count": 309,
     "metadata": {},
     "output_type": "execute_result"
    }
   ],
   "source": [
    "train_dict['rosters'].head(3)"
   ]
  },
  {
   "cell_type": "code",
   "execution_count": 310,
   "id": "35282470",
   "metadata": {},
   "outputs": [],
   "source": [
    "select_rosters = train_dict['rosters'].drop(['status', 'index'], axis = 1)"
   ]
  },
  {
   "cell_type": "code",
   "execution_count": 311,
   "id": "8e3bbc91",
   "metadata": {},
   "outputs": [],
   "source": [
    "rosters_dict = {id: select_rosters[select_rosters['playerId']==id] for id in target_v['playerId'].unique()}"
   ]
  },
  {
   "cell_type": "code",
   "execution_count": 317,
   "id": "551b0fa5",
   "metadata": {},
   "outputs": [],
   "source": [
    "merge_4  = {}\n",
    "for key, df in target_dict.items():\n",
    "    df = merge_3[key].merge(rosters_dict[key], on = ['date', 'playerId', 'teamId', 'gameDate'], how = 'left')\n",
    "    merge_4[key] = df"
   ]
  },
  {
   "cell_type": "code",
   "execution_count": 318,
   "id": "725d3ea2",
   "metadata": {},
   "outputs": [],
   "source": [
    "select_games = train_dict['games'][['gamePk', 'gameType', 'gameTimeUTC', 'codedGameState', 'gameNumber',\n",
    "                                   'homeId', 'homeWinPct', 'homeScore',]]"
   ]
  },
  {
   "cell_type": "code",
   "execution_count": 319,
   "id": "1f403d16",
   "metadata": {},
   "outputs": [],
   "source": [
    "merge_5  = {}\n",
    "for key, df in target_dict.items():\n",
    "    df = merge_4[key].merge(select_games, on = ['gameTimeUTC', 'gamePk'], how = 'left')\n",
    "    merge_5[key] = df"
   ]
  },
  {
   "cell_type": "code",
   "execution_count": 320,
   "id": "762819ef",
   "metadata": {},
   "outputs": [
    {
     "data": {
      "text/plain": [
       "Index(['engagementMetricsDate', 'playerId', 'target1', 'target2', 'target3',\n",
       "       'target4', 'date', 'gamePk', 'gameDate', 'gameTimeUTC', 'teamId',\n",
       "       'FPCT', 'Out', 'AB', 'B2', 'B3', 'SB', 'CS', 'H', 'HR', 'IBB', 'HBP',\n",
       "       'LOB', 'PA', 'TB', 'GIDP', 'RBI', 'BB', 'SO', 'SV_percnt', 'HLD', 'BS',\n",
       "       'IR', 'IP', 'ERA', 'WHIP', 'ISO', 'RC', 'awardId', 'divisionId',\n",
       "       'divisionRank', 'leagueRank', 'wildCardRank', 'pct', 'homeWins',\n",
       "       'xWinLossPct', 'statusCode', 'gameType', 'codedGameState', 'gameNumber',\n",
       "       'homeId', 'homeWinPct', 'homeScore'],\n",
       "      dtype='object')"
      ]
     },
     "execution_count": 320,
     "metadata": {},
     "output_type": "execute_result"
    }
   ],
   "source": [
    "merge_5[112526].columns"
   ]
  },
  {
   "cell_type": "code",
   "execution_count": null,
   "id": "2a0137ac",
   "metadata": {},
   "outputs": [],
   "source": []
  },
  {
   "cell_type": "code",
   "execution_count": null,
   "id": "664163ae",
   "metadata": {},
   "outputs": [],
   "source": []
  },
  {
   "cell_type": "code",
   "execution_count": 316,
   "id": "0ad32108",
   "metadata": {},
   "outputs": [
    {
     "data": {
      "text/plain": [
       "Index(['gamePk', 'gameDate', 'gameTimeUTC', 'season', 'gameType', 'playId',\n",
       "       'eventId', 'inning', 'halfInning', 'homeScore', 'awayScore',\n",
       "       'menOnBase', 'atBatIndex', 'atBatDesc', 'atBatEvent', 'hasOut',\n",
       "       'pitcherTeamId', 'isPitcherHome', 'pitcherTeam', 'hitterTeamId',\n",
       "       'hitterTeam', 'pitcherId', 'pitcherName', 'isStarter', 'pitcherHand',\n",
       "       'hitterId', 'hitterName', 'batSide', 'pitchNumber', 'balls', 'strikes',\n",
       "       'isGB', 'isLD', 'isFB', 'isPU', 'launchSpeed', 'launchAngle',\n",
       "       'totalDistance', 'event', 'description', 'rbi', 'pitchType', 'call',\n",
       "       'outs', 'inPlay', 'isPaOver', 'startSpeed', 'endSpeed', 'nastyFactor',\n",
       "       'breakAngle', 'breakLength', 'breakY', 'spinRate', 'spinDirection',\n",
       "       'pX', 'pZ', 'aX', 'aY', 'aZ', 'pfxX', 'pfxZ', 'vX0', 'vY0', 'vZ0', 'x',\n",
       "       'y', 'x0', 'y0', 'z0', 'type', 'zone', 'index', 'date'],\n",
       "      dtype='object')"
      ]
     },
     "execution_count": 316,
     "metadata": {},
     "output_type": "execute_result"
    }
   ],
   "source": [
    "train_dict['events'].columns"
   ]
  },
  {
   "cell_type": "code",
   "execution_count": 321,
   "id": "07898027",
   "metadata": {},
   "outputs": [],
   "source": [
    "select_events = train_dict['events'][['gamePk', 'gameDate', 'gameTimeUTC','gameType', 'eventId', \n",
    "                                      'inning', 'halfInning', 'homeScore', 'hitterTeamId', \n",
    "                                     'hitterTeamId', 'pitchType', 'pitchType']]"
   ]
  },
  {
   "cell_type": "code",
   "execution_count": null,
   "id": "0e46d758",
   "metadata": {},
   "outputs": [],
   "source": [
    "merge_6  = {}\n",
    "for key, df in target_dict.items():\n",
    "    df = merge_5[key].merge(select_events, on = ['gamePk', 'gameDate', 'gameTimeUTC','gameType'], how = 'left')\n",
    "    merge_6[key] = df"
   ]
  },
  {
   "cell_type": "code",
   "execution_count": null,
   "id": "9029ca94",
   "metadata": {},
   "outputs": [],
   "source": [
    "merge_6[112526].shape"
   ]
  },
  {
   "cell_type": "code",
   "execution_count": null,
   "id": "bfb99a80",
   "metadata": {},
   "outputs": [],
   "source": []
  }
 ],
 "metadata": {
  "kernelspec": {
   "display_name": "Python 3",
   "language": "python",
   "name": "python3"
  },
  "language_info": {
   "codemirror_mode": {
    "name": "ipython",
    "version": 3
   },
   "file_extension": ".py",
   "mimetype": "text/x-python",
   "name": "python",
   "nbconvert_exporter": "python",
   "pygments_lexer": "ipython3",
   "version": "3.7.3"
  }
 },
 "nbformat": 4,
 "nbformat_minor": 5
}
