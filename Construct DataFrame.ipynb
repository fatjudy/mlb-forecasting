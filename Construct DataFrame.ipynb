{
 "cells": [
  {
   "cell_type": "code",
   "execution_count": 1,
   "id": "24e04d57",
   "metadata": {},
   "outputs": [],
   "source": [
    "import os\n",
    "import gc\n",
    "import sys\n",
    "import warnings\n",
    "from pathlib import Path\n",
    "\n",
    "import pandas as pd\n",
    "import numpy as np\n",
    "\n",
    "import seaborn as sns\n",
    "import matplotlib.pyplot as plt\n",
    "from statsmodels.tsa.seasonal import seasonal_decompose"
   ]
  },
  {
   "cell_type": "code",
   "execution_count": 2,
   "id": "db888b0b",
   "metadata": {},
   "outputs": [],
   "source": [
    "df_names = ['playerBoxScores', 'teamBoxScores', 'playerTwitterFollowers', 'teamTwitterFollowers', 'awards', 'events',\n",
    "           'games', 'standings', 'rosters', 'transactions']\n",
    "path = \"data/train_vs/\"\n",
    "\n",
    "train_dict = {}\n",
    "for index in range(len(df_names)):\n",
    "    train_dict[df_names[index]] = pd.read_pickle(os.path.join(path,df_names[index]) + \"_train.pkl\")"
   ]
  },
  {
   "cell_type": "code",
   "execution_count": 3,
   "id": "4e9d3630",
   "metadata": {},
   "outputs": [],
   "source": [
    "df_names = ['seasons', 'teams', 'players', 'awards']\n",
    "path = \"data/\"\n",
    "\n",
    "my_dict = {}\n",
    "for index in range(len(df_names)):\n",
    "    my_dict[df_names[index]] = pd.read_csv(os.path.join(path,df_names[index]) + \".csv\")"
   ]
  },
  {
   "cell_type": "code",
   "execution_count": 4,
   "id": "e5620ff1",
   "metadata": {},
   "outputs": [],
   "source": [
    "target_v = pd.read_pickle('data/target_v/nextDayPlayerEngagement_train.pkl')"
   ]
  },
  {
   "cell_type": "code",
   "execution_count": 5,
   "id": "098d9367",
   "metadata": {},
   "outputs": [],
   "source": [
    "target_dict = {id: target_v[target_v['playerId']==id].drop(\n",
    "    ['index'], axis = 1) for id in target_v['playerId'].unique()}    "
   ]
  },
  {
   "cell_type": "code",
   "execution_count": 6,
   "id": "ea1f4d5a",
   "metadata": {},
   "outputs": [
    {
     "data": {
      "text/html": [
       "<div>\n",
       "<style scoped>\n",
       "    .dataframe tbody tr th:only-of-type {\n",
       "        vertical-align: middle;\n",
       "    }\n",
       "\n",
       "    .dataframe tbody tr th {\n",
       "        vertical-align: top;\n",
       "    }\n",
       "\n",
       "    .dataframe thead th {\n",
       "        text-align: right;\n",
       "    }\n",
       "</style>\n",
       "<table border=\"1\" class=\"dataframe\">\n",
       "  <thead>\n",
       "    <tr style=\"text-align: right;\">\n",
       "      <th></th>\n",
       "      <th>engagementMetricsDate</th>\n",
       "      <th>playerId</th>\n",
       "      <th>target1</th>\n",
       "      <th>target2</th>\n",
       "      <th>target3</th>\n",
       "      <th>target4</th>\n",
       "      <th>date</th>\n",
       "    </tr>\n",
       "  </thead>\n",
       "  <tbody>\n",
       "    <tr>\n",
       "      <th>969</th>\n",
       "      <td>2018-01-02</td>\n",
       "      <td>112526</td>\n",
       "      <td>0.055277</td>\n",
       "      <td>5.496109</td>\n",
       "      <td>0.025839</td>\n",
       "      <td>16.176471</td>\n",
       "      <td>20180101</td>\n",
       "    </tr>\n",
       "    <tr>\n",
       "      <th>3556</th>\n",
       "      <td>2018-01-03</td>\n",
       "      <td>112526</td>\n",
       "      <td>0.060625</td>\n",
       "      <td>3.252914</td>\n",
       "      <td>0.030486</td>\n",
       "      <td>8.541353</td>\n",
       "      <td>20180102</td>\n",
       "    </tr>\n",
       "    <tr>\n",
       "      <th>5737</th>\n",
       "      <td>2018-01-04</td>\n",
       "      <td>112526</td>\n",
       "      <td>0.029341</td>\n",
       "      <td>1.648352</td>\n",
       "      <td>0.032613</td>\n",
       "      <td>10.490112</td>\n",
       "      <td>20180103</td>\n",
       "    </tr>\n",
       "  </tbody>\n",
       "</table>\n",
       "</div>"
      ],
      "text/plain": [
       "     engagementMetricsDate  playerId   target1   target2   target3    target4  \\\n",
       "969             2018-01-02    112526  0.055277  5.496109  0.025839  16.176471   \n",
       "3556            2018-01-03    112526  0.060625  3.252914  0.030486   8.541353   \n",
       "5737            2018-01-04    112526  0.029341  1.648352  0.032613  10.490112   \n",
       "\n",
       "          date  \n",
       "969   20180101  \n",
       "3556  20180102  \n",
       "5737  20180103  "
      ]
     },
     "execution_count": 6,
     "metadata": {},
     "output_type": "execute_result"
    }
   ],
   "source": [
    "target_dict[112526].head(3)"
   ]
  },
  {
   "cell_type": "markdown",
   "id": "787ed120",
   "metadata": {},
   "source": [
    "## Dictionary for playerBoxScores"
   ]
  },
  {
   "cell_type": "code",
   "execution_count": 7,
   "id": "e05106a0",
   "metadata": {},
   "outputs": [
    {
     "data": {
      "text/html": [
       "<div>\n",
       "<style scoped>\n",
       "    .dataframe tbody tr th:only-of-type {\n",
       "        vertical-align: middle;\n",
       "    }\n",
       "\n",
       "    .dataframe tbody tr th {\n",
       "        vertical-align: top;\n",
       "    }\n",
       "\n",
       "    .dataframe thead th {\n",
       "        text-align: right;\n",
       "    }\n",
       "</style>\n",
       "<table border=\"1\" class=\"dataframe\">\n",
       "  <thead>\n",
       "    <tr style=\"text-align: right;\">\n",
       "      <th></th>\n",
       "      <th>playerId</th>\n",
       "      <th>gamePk</th>\n",
       "      <th>gameDate</th>\n",
       "      <th>gameTimeUTC</th>\n",
       "      <th>teamId</th>\n",
       "      <th>date</th>\n",
       "    </tr>\n",
       "  </thead>\n",
       "  <tbody>\n",
       "    <tr>\n",
       "      <th>0</th>\n",
       "      <td>605131</td>\n",
       "      <td>529418</td>\n",
       "      <td>2018-03-29</td>\n",
       "      <td>2018-03-29T23:08:00Z</td>\n",
       "      <td>119</td>\n",
       "      <td>20180329</td>\n",
       "    </tr>\n",
       "    <tr>\n",
       "      <th>1</th>\n",
       "      <td>605480</td>\n",
       "      <td>529406</td>\n",
       "      <td>2018-03-29</td>\n",
       "      <td>2018-03-29T20:00:00Z</td>\n",
       "      <td>139</td>\n",
       "      <td>20180329</td>\n",
       "    </tr>\n",
       "    <tr>\n",
       "      <th>2</th>\n",
       "      <td>546318</td>\n",
       "      <td>529416</td>\n",
       "      <td>2018-03-29</td>\n",
       "      <td>2018-03-29T20:10:00Z</td>\n",
       "      <td>143</td>\n",
       "      <td>20180329</td>\n",
       "    </tr>\n",
       "  </tbody>\n",
       "</table>\n",
       "</div>"
      ],
      "text/plain": [
       "   playerId  gamePk    gameDate           gameTimeUTC  teamId      date\n",
       "0    605131  529418  2018-03-29  2018-03-29T23:08:00Z     119  20180329\n",
       "1    605480  529406  2018-03-29  2018-03-29T20:00:00Z     139  20180329\n",
       "2    546318  529416  2018-03-29  2018-03-29T20:10:00Z     143  20180329"
      ]
     },
     "execution_count": 7,
     "metadata": {},
     "output_type": "execute_result"
    }
   ],
   "source": [
    "perform_stats = pd.DataFrame()\n",
    "perform_stats = train_dict['playerBoxScores'][[\n",
    "    'playerId', 'gamePk', 'gameDate', 'gameTimeUTC', 'teamId', 'date']]\n",
    "perform_stats.head(3)"
   ]
  },
  {
   "cell_type": "code",
   "execution_count": 8,
   "id": "85fca198",
   "metadata": {},
   "outputs": [],
   "source": [
    "performance = train_dict['playerBoxScores']"
   ]
  },
  {
   "cell_type": "code",
   "execution_count": 9,
   "id": "fd69cdd0",
   "metadata": {},
   "outputs": [
    {
     "name": "stderr",
     "output_type": "stream",
     "text": [
      "C:\\ProgramData\\Anaconda3\\lib\\site-packages\\ipykernel_launcher.py:1: SettingWithCopyWarning: \n",
      "A value is trying to be set on a copy of a slice from a DataFrame.\n",
      "Try using .loc[row_indexer,col_indexer] = value instead\n",
      "\n",
      "See the caveats in the documentation: https://pandas.pydata.org/pandas-docs/stable/user_guide/indexing.html#returning-a-view-versus-a-copy\n",
      "  \"\"\"Entry point for launching an IPython kernel.\n",
      "C:\\ProgramData\\Anaconda3\\lib\\site-packages\\ipykernel_launcher.py:4: SettingWithCopyWarning: \n",
      "A value is trying to be set on a copy of a slice from a DataFrame.\n",
      "Try using .loc[row_indexer,col_indexer] = value instead\n",
      "\n",
      "See the caveats in the documentation: https://pandas.pydata.org/pandas-docs/stable/user_guide/indexing.html#returning-a-view-versus-a-copy\n",
      "  after removing the cwd from sys.path.\n"
     ]
    }
   ],
   "source": [
    "perform_stats['FPCT'] = (performance['putOuts']+performance['assists']) / performance['chances']\n",
    "\n",
    "# Not sure\n",
    "perform_stats['Out'] = performance['putOuts'] + performance['groundOuts'] + performance['strikeOuts'] + performance['flyOuts']"
   ]
  },
  {
   "cell_type": "code",
   "execution_count": 10,
   "id": "a4cc1846",
   "metadata": {},
   "outputs": [
    {
     "name": "stderr",
     "output_type": "stream",
     "text": [
      "C:\\ProgramData\\Anaconda3\\lib\\site-packages\\ipykernel_launcher.py:1: SettingWithCopyWarning: \n",
      "A value is trying to be set on a copy of a slice from a DataFrame.\n",
      "Try using .loc[row_indexer,col_indexer] = value instead\n",
      "\n",
      "See the caveats in the documentation: https://pandas.pydata.org/pandas-docs/stable/user_guide/indexing.html#returning-a-view-versus-a-copy\n",
      "  \"\"\"Entry point for launching an IPython kernel.\n",
      "C:\\ProgramData\\Anaconda3\\lib\\site-packages\\ipykernel_launcher.py:4: SettingWithCopyWarning: \n",
      "A value is trying to be set on a copy of a slice from a DataFrame.\n",
      "Try using .loc[row_indexer,col_indexer] = value instead\n",
      "\n",
      "See the caveats in the documentation: https://pandas.pydata.org/pandas-docs/stable/user_guide/indexing.html#returning-a-view-versus-a-copy\n",
      "  after removing the cwd from sys.path.\n",
      "C:\\ProgramData\\Anaconda3\\lib\\site-packages\\ipykernel_launcher.py:5: SettingWithCopyWarning: \n",
      "A value is trying to be set on a copy of a slice from a DataFrame.\n",
      "Try using .loc[row_indexer,col_indexer] = value instead\n",
      "\n",
      "See the caveats in the documentation: https://pandas.pydata.org/pandas-docs/stable/user_guide/indexing.html#returning-a-view-versus-a-copy\n",
      "  \"\"\"\n",
      "C:\\ProgramData\\Anaconda3\\lib\\site-packages\\ipykernel_launcher.py:7: SettingWithCopyWarning: \n",
      "A value is trying to be set on a copy of a slice from a DataFrame.\n",
      "Try using .loc[row_indexer,col_indexer] = value instead\n",
      "\n",
      "See the caveats in the documentation: https://pandas.pydata.org/pandas-docs/stable/user_guide/indexing.html#returning-a-view-versus-a-copy\n",
      "  import sys\n",
      "C:\\ProgramData\\Anaconda3\\lib\\site-packages\\ipykernel_launcher.py:8: SettingWithCopyWarning: \n",
      "A value is trying to be set on a copy of a slice from a DataFrame.\n",
      "Try using .loc[row_indexer,col_indexer] = value instead\n",
      "\n",
      "See the caveats in the documentation: https://pandas.pydata.org/pandas-docs/stable/user_guide/indexing.html#returning-a-view-versus-a-copy\n",
      "  \n",
      "C:\\ProgramData\\Anaconda3\\lib\\site-packages\\ipykernel_launcher.py:9: SettingWithCopyWarning: \n",
      "A value is trying to be set on a copy of a slice from a DataFrame.\n",
      "Try using .loc[row_indexer,col_indexer] = value instead\n",
      "\n",
      "See the caveats in the documentation: https://pandas.pydata.org/pandas-docs/stable/user_guide/indexing.html#returning-a-view-versus-a-copy\n",
      "  if __name__ == '__main__':\n",
      "C:\\ProgramData\\Anaconda3\\lib\\site-packages\\ipykernel_launcher.py:10: SettingWithCopyWarning: \n",
      "A value is trying to be set on a copy of a slice from a DataFrame.\n",
      "Try using .loc[row_indexer,col_indexer] = value instead\n",
      "\n",
      "See the caveats in the documentation: https://pandas.pydata.org/pandas-docs/stable/user_guide/indexing.html#returning-a-view-versus-a-copy\n",
      "  # Remove the CWD from sys.path while we load stuff.\n",
      "C:\\ProgramData\\Anaconda3\\lib\\site-packages\\ipykernel_launcher.py:11: SettingWithCopyWarning: \n",
      "A value is trying to be set on a copy of a slice from a DataFrame.\n",
      "Try using .loc[row_indexer,col_indexer] = value instead\n",
      "\n",
      "See the caveats in the documentation: https://pandas.pydata.org/pandas-docs/stable/user_guide/indexing.html#returning-a-view-versus-a-copy\n",
      "  # This is added back by InteractiveShellApp.init_path()\n",
      "C:\\ProgramData\\Anaconda3\\lib\\site-packages\\ipykernel_launcher.py:12: SettingWithCopyWarning: \n",
      "A value is trying to be set on a copy of a slice from a DataFrame.\n",
      "Try using .loc[row_indexer,col_indexer] = value instead\n",
      "\n",
      "See the caveats in the documentation: https://pandas.pydata.org/pandas-docs/stable/user_guide/indexing.html#returning-a-view-versus-a-copy\n",
      "  if sys.path[0] == '':\n",
      "C:\\ProgramData\\Anaconda3\\lib\\site-packages\\ipykernel_launcher.py:13: SettingWithCopyWarning: \n",
      "A value is trying to be set on a copy of a slice from a DataFrame.\n",
      "Try using .loc[row_indexer,col_indexer] = value instead\n",
      "\n",
      "See the caveats in the documentation: https://pandas.pydata.org/pandas-docs/stable/user_guide/indexing.html#returning-a-view-versus-a-copy\n",
      "  del sys.path[0]\n",
      "C:\\ProgramData\\Anaconda3\\lib\\site-packages\\ipykernel_launcher.py:14: SettingWithCopyWarning: \n",
      "A value is trying to be set on a copy of a slice from a DataFrame.\n",
      "Try using .loc[row_indexer,col_indexer] = value instead\n",
      "\n",
      "See the caveats in the documentation: https://pandas.pydata.org/pandas-docs/stable/user_guide/indexing.html#returning-a-view-versus-a-copy\n",
      "  \n",
      "C:\\ProgramData\\Anaconda3\\lib\\site-packages\\ipykernel_launcher.py:15: SettingWithCopyWarning: \n",
      "A value is trying to be set on a copy of a slice from a DataFrame.\n",
      "Try using .loc[row_indexer,col_indexer] = value instead\n",
      "\n",
      "See the caveats in the documentation: https://pandas.pydata.org/pandas-docs/stable/user_guide/indexing.html#returning-a-view-versus-a-copy\n",
      "  from ipykernel import kernelapp as app\n",
      "C:\\ProgramData\\Anaconda3\\lib\\site-packages\\ipykernel_launcher.py:16: SettingWithCopyWarning: \n",
      "A value is trying to be set on a copy of a slice from a DataFrame.\n",
      "Try using .loc[row_indexer,col_indexer] = value instead\n",
      "\n",
      "See the caveats in the documentation: https://pandas.pydata.org/pandas-docs/stable/user_guide/indexing.html#returning-a-view-versus-a-copy\n",
      "  app.launch_new_instance()\n",
      "C:\\ProgramData\\Anaconda3\\lib\\site-packages\\ipykernel_launcher.py:17: SettingWithCopyWarning: \n",
      "A value is trying to be set on a copy of a slice from a DataFrame.\n",
      "Try using .loc[row_indexer,col_indexer] = value instead\n",
      "\n",
      "See the caveats in the documentation: https://pandas.pydata.org/pandas-docs/stable/user_guide/indexing.html#returning-a-view-versus-a-copy\n",
      "C:\\ProgramData\\Anaconda3\\lib\\site-packages\\ipykernel_launcher.py:18: SettingWithCopyWarning: \n",
      "A value is trying to be set on a copy of a slice from a DataFrame.\n",
      "Try using .loc[row_indexer,col_indexer] = value instead\n",
      "\n",
      "See the caveats in the documentation: https://pandas.pydata.org/pandas-docs/stable/user_guide/indexing.html#returning-a-view-versus-a-copy\n",
      "C:\\ProgramData\\Anaconda3\\lib\\site-packages\\ipykernel_launcher.py:19: SettingWithCopyWarning: \n",
      "A value is trying to be set on a copy of a slice from a DataFrame.\n",
      "Try using .loc[row_indexer,col_indexer] = value instead\n",
      "\n",
      "See the caveats in the documentation: https://pandas.pydata.org/pandas-docs/stable/user_guide/indexing.html#returning-a-view-versus-a-copy\n"
     ]
    }
   ],
   "source": [
    "perform_stats['AB'] = performance['atBats']\n",
    "\n",
    "# Not sure\n",
    "perform_stats['B2'] = performance['doubles']\n",
    "perform_stats['B3'] = performance['triples']\n",
    "\n",
    "perform_stats['SB'] = performance['stolenBases']\n",
    "perform_stats['CS'] = performance['caughtStealing']\n",
    "perform_stats['H'] = performance['hits']\n",
    "perform_stats['HR'] = performance['homeRuns']\n",
    "perform_stats['IBB'] = performance['intentionalWalks']\n",
    "perform_stats['HBP'] = performance['hitByPitch']\n",
    "perform_stats['LOB'] = performance['leftOnBase']\n",
    "perform_stats['PA'] = performance['plateAppearances']\n",
    "perform_stats['TB'] = performance['totalBases']\n",
    "perform_stats['GIDP'] = performance['groundIntoDoublePlay']\n",
    "perform_stats['RBI'] = performance['rbi']\n",
    "perform_stats['BB'] = performance['baseOnBalls']\n",
    "perform_stats['SO'] = performance['strikeOuts']"
   ]
  },
  {
   "cell_type": "code",
   "execution_count": 11,
   "id": "cc4c5f08",
   "metadata": {},
   "outputs": [
    {
     "name": "stderr",
     "output_type": "stream",
     "text": [
      "C:\\ProgramData\\Anaconda3\\lib\\site-packages\\ipykernel_launcher.py:1: SettingWithCopyWarning: \n",
      "A value is trying to be set on a copy of a slice from a DataFrame.\n",
      "Try using .loc[row_indexer,col_indexer] = value instead\n",
      "\n",
      "See the caveats in the documentation: https://pandas.pydata.org/pandas-docs/stable/user_guide/indexing.html#returning-a-view-versus-a-copy\n",
      "  \"\"\"Entry point for launching an IPython kernel.\n",
      "C:\\ProgramData\\Anaconda3\\lib\\site-packages\\ipykernel_launcher.py:3: SettingWithCopyWarning: \n",
      "A value is trying to be set on a copy of a slice from a DataFrame.\n",
      "Try using .loc[row_indexer,col_indexer] = value instead\n",
      "\n",
      "See the caveats in the documentation: https://pandas.pydata.org/pandas-docs/stable/user_guide/indexing.html#returning-a-view-versus-a-copy\n",
      "  This is separate from the ipykernel package so we can avoid doing imports until\n",
      "C:\\ProgramData\\Anaconda3\\lib\\site-packages\\ipykernel_launcher.py:5: SettingWithCopyWarning: \n",
      "A value is trying to be set on a copy of a slice from a DataFrame.\n",
      "Try using .loc[row_indexer,col_indexer] = value instead\n",
      "\n",
      "See the caveats in the documentation: https://pandas.pydata.org/pandas-docs/stable/user_guide/indexing.html#returning-a-view-versus-a-copy\n",
      "  \"\"\"\n",
      "C:\\ProgramData\\Anaconda3\\lib\\site-packages\\ipykernel_launcher.py:7: SettingWithCopyWarning: \n",
      "A value is trying to be set on a copy of a slice from a DataFrame.\n",
      "Try using .loc[row_indexer,col_indexer] = value instead\n",
      "\n",
      "See the caveats in the documentation: https://pandas.pydata.org/pandas-docs/stable/user_guide/indexing.html#returning-a-view-versus-a-copy\n",
      "  import sys\n",
      "C:\\ProgramData\\Anaconda3\\lib\\site-packages\\ipykernel_launcher.py:9: SettingWithCopyWarning: \n",
      "A value is trying to be set on a copy of a slice from a DataFrame.\n",
      "Try using .loc[row_indexer,col_indexer] = value instead\n",
      "\n",
      "See the caveats in the documentation: https://pandas.pydata.org/pandas-docs/stable/user_guide/indexing.html#returning-a-view-versus-a-copy\n",
      "  if __name__ == '__main__':\n",
      "C:\\ProgramData\\Anaconda3\\lib\\site-packages\\ipykernel_launcher.py:11: SettingWithCopyWarning: \n",
      "A value is trying to be set on a copy of a slice from a DataFrame.\n",
      "Try using .loc[row_indexer,col_indexer] = value instead\n",
      "\n",
      "See the caveats in the documentation: https://pandas.pydata.org/pandas-docs/stable/user_guide/indexing.html#returning-a-view-versus-a-copy\n",
      "  # This is added back by InteractiveShellApp.init_path()\n",
      "C:\\ProgramData\\Anaconda3\\lib\\site-packages\\ipykernel_launcher.py:13: SettingWithCopyWarning: \n",
      "A value is trying to be set on a copy of a slice from a DataFrame.\n",
      "Try using .loc[row_indexer,col_indexer] = value instead\n",
      "\n",
      "See the caveats in the documentation: https://pandas.pydata.org/pandas-docs/stable/user_guide/indexing.html#returning-a-view-versus-a-copy\n",
      "  del sys.path[0]\n"
     ]
    }
   ],
   "source": [
    "perform_stats['SV_percnt'] = performance['saves']/performance['saveOpportunities']\n",
    "perform_stats['HLD'] = performance['holds']\n",
    "perform_stats['BS'] = performance['blownSaves']\n",
    "perform_stats['IR'] = performance['inheritedRunners']\n",
    "perform_stats['IP'] = performance['inningsPitched']\n",
    "perform_stats['ERA'] = (9*performance['earnedRuns'])/perform_stats['IP']\n",
    "perform_stats['WHIP'] = (perform_stats['BB'] + perform_stats['H'])/perform_stats['IP']"
   ]
  },
  {
   "cell_type": "code",
   "execution_count": 202,
   "id": "948e1af6",
   "metadata": {},
   "outputs": [
    {
     "data": {
      "text/plain": [
       "array([nan, 0. , 0.1, 0.2, 1. , 1.1, 1.2, 2. , 3.1, 4. , 4.1, 4.2, 5. ,\n",
       "       5.1, 5.2, 6. , 7. , 8. , 2.1, 2.2, 3. , 3.2, 6.1, 7.2, 9. , 6.2,\n",
       "       7.1, 8.1, 8.2])"
      ]
     },
     "execution_count": 202,
     "metadata": {},
     "output_type": "execute_result"
    }
   ],
   "source": [
    "perform_stats['IP'].unique()"
   ]
  },
  {
   "cell_type": "code",
   "execution_count": 12,
   "id": "d0ae3277",
   "metadata": {},
   "outputs": [
    {
     "name": "stderr",
     "output_type": "stream",
     "text": [
      "C:\\ProgramData\\Anaconda3\\lib\\site-packages\\ipykernel_launcher.py:1: SettingWithCopyWarning: \n",
      "A value is trying to be set on a copy of a slice from a DataFrame.\n",
      "Try using .loc[row_indexer,col_indexer] = value instead\n",
      "\n",
      "See the caveats in the documentation: https://pandas.pydata.org/pandas-docs/stable/user_guide/indexing.html#returning-a-view-versus-a-copy\n",
      "  \"\"\"Entry point for launching an IPython kernel.\n",
      "C:\\ProgramData\\Anaconda3\\lib\\site-packages\\ipykernel_launcher.py:4: SettingWithCopyWarning: \n",
      "A value is trying to be set on a copy of a slice from a DataFrame.\n",
      "Try using .loc[row_indexer,col_indexer] = value instead\n",
      "\n",
      "See the caveats in the documentation: https://pandas.pydata.org/pandas-docs/stable/user_guide/indexing.html#returning-a-view-versus-a-copy\n",
      "  after removing the cwd from sys.path.\n"
     ]
    }
   ],
   "source": [
    "perform_stats['ISO'] = (perform_stats['B2']+2*perform_stats['B3']+3*perform_stats['HR'])/perform_stats['AB']\n",
    "\n",
    "perform_stats['RC'] = perform_stats['TB']*(perform_stats['H']+perform_stats['BB'])/(\n",
    "    perform_stats['AB']+perform_stats['BB'])"
   ]
  },
  {
   "cell_type": "code",
   "execution_count": 13,
   "id": "ec0caae0",
   "metadata": {},
   "outputs": [],
   "source": [
    "playerBS_dict = {id: perform_stats[perform_stats[\n",
    "    'playerId']==id] for id in target_v['playerId'].unique()}    "
   ]
  },
  {
   "cell_type": "code",
   "execution_count": 14,
   "id": "e8e25cc7",
   "metadata": {},
   "outputs": [],
   "source": [
    "merge_1  = {}\n",
    "for key, df in target_dict.items():\n",
    "    df = target_dict[key].merge(playerBS_dict[key], on = ['date', 'playerId'], how = 'left')\n",
    "    merge_1[key] = df"
   ]
  },
  {
   "cell_type": "code",
   "execution_count": 15,
   "id": "926c2604",
   "metadata": {},
   "outputs": [
    {
     "data": {
      "text/plain": [
       "dict_keys(['playerBoxScores', 'teamBoxScores', 'playerTwitterFollowers', 'teamTwitterFollowers', 'awards', 'events', 'games', 'standings', 'rosters', 'transactions'])"
      ]
     },
     "execution_count": 15,
     "metadata": {},
     "output_type": "execute_result"
    }
   ],
   "source": [
    "train_dict.keys()"
   ]
  },
  {
   "cell_type": "code",
   "execution_count": 16,
   "id": "761e458f",
   "metadata": {},
   "outputs": [],
   "source": [
    "# train_dict['teamBoxScores'].columns"
   ]
  },
  {
   "cell_type": "code",
   "execution_count": 17,
   "id": "90549d6b",
   "metadata": {},
   "outputs": [],
   "source": [
    "select_awards = train_dict['awards'][['playerId', 'date', 'awardId']]"
   ]
  },
  {
   "cell_type": "code",
   "execution_count": 18,
   "id": "3ad624e1",
   "metadata": {},
   "outputs": [],
   "source": [
    "awards_dict = {id: select_awards[select_awards[\n",
    "    'playerId']==id] for id in target_v['playerId'].unique()}    "
   ]
  },
  {
   "cell_type": "code",
   "execution_count": 19,
   "id": "f24d5c47",
   "metadata": {},
   "outputs": [],
   "source": [
    "merge_2  = {}\n",
    "for key, df in target_dict.items():\n",
    "    df = merge_1[key].merge(awards_dict[key], on = ['date', 'playerId'], how = 'left')\n",
    "    merge_2[key] = df"
   ]
  },
  {
   "cell_type": "code",
   "execution_count": 20,
   "id": "b43ee54b",
   "metadata": {},
   "outputs": [],
   "source": [
    "select_stand = train_dict['standings'][['gameDate', 'divisionId', 'teamId', 'divisionRank', 'leagueRank', 'wildCardRank', \n",
    "                                         'pct', 'homeWins', 'xWinLossPct', 'date']]"
   ]
  },
  {
   "cell_type": "code",
   "execution_count": 21,
   "id": "cf6cfc2c",
   "metadata": {},
   "outputs": [],
   "source": [
    "# train_dict['standings'].head()\n",
    "merge_3  = {}\n",
    "for key, df in target_dict.items():\n",
    "    df = merge_2[key].merge(select_stand, on = ['date', 'teamId', 'gameDate'], how = 'left')\n",
    "    merge_3[key] = df"
   ]
  },
  {
   "cell_type": "code",
   "execution_count": 22,
   "id": "1df8a8fb",
   "metadata": {},
   "outputs": [
    {
     "data": {
      "text/html": [
       "<div>\n",
       "<style scoped>\n",
       "    .dataframe tbody tr th:only-of-type {\n",
       "        vertical-align: middle;\n",
       "    }\n",
       "\n",
       "    .dataframe tbody tr th {\n",
       "        vertical-align: top;\n",
       "    }\n",
       "\n",
       "    .dataframe thead th {\n",
       "        text-align: right;\n",
       "    }\n",
       "</style>\n",
       "<table border=\"1\" class=\"dataframe\">\n",
       "  <thead>\n",
       "    <tr style=\"text-align: right;\">\n",
       "      <th></th>\n",
       "      <th>playerId</th>\n",
       "      <th>gameDate</th>\n",
       "      <th>teamId</th>\n",
       "      <th>statusCode</th>\n",
       "      <th>status</th>\n",
       "      <th>index</th>\n",
       "      <th>date</th>\n",
       "    </tr>\n",
       "  </thead>\n",
       "  <tbody>\n",
       "    <tr>\n",
       "      <th>0</th>\n",
       "      <td>400121</td>\n",
       "      <td>2018-01-01</td>\n",
       "      <td>116</td>\n",
       "      <td>A</td>\n",
       "      <td>Active</td>\n",
       "      <td>0</td>\n",
       "      <td>20180101</td>\n",
       "    </tr>\n",
       "    <tr>\n",
       "      <th>1</th>\n",
       "      <td>408045</td>\n",
       "      <td>2018-01-01</td>\n",
       "      <td>142</td>\n",
       "      <td>A</td>\n",
       "      <td>Active</td>\n",
       "      <td>0</td>\n",
       "      <td>20180101</td>\n",
       "    </tr>\n",
       "    <tr>\n",
       "      <th>2</th>\n",
       "      <td>425492</td>\n",
       "      <td>2018-01-01</td>\n",
       "      <td>120</td>\n",
       "      <td>A</td>\n",
       "      <td>Active</td>\n",
       "      <td>0</td>\n",
       "      <td>20180101</td>\n",
       "    </tr>\n",
       "  </tbody>\n",
       "</table>\n",
       "</div>"
      ],
      "text/plain": [
       "   playerId    gameDate  teamId statusCode  status  index      date\n",
       "0    400121  2018-01-01     116          A  Active      0  20180101\n",
       "1    408045  2018-01-01     142          A  Active      0  20180101\n",
       "2    425492  2018-01-01     120          A  Active      0  20180101"
      ]
     },
     "execution_count": 22,
     "metadata": {},
     "output_type": "execute_result"
    }
   ],
   "source": [
    "train_dict['rosters'].head(3)"
   ]
  },
  {
   "cell_type": "code",
   "execution_count": 23,
   "id": "35282470",
   "metadata": {},
   "outputs": [],
   "source": [
    "select_rosters = train_dict['rosters'].drop(['status', 'index'], axis = 1)"
   ]
  },
  {
   "cell_type": "code",
   "execution_count": 24,
   "id": "8e3bbc91",
   "metadata": {},
   "outputs": [],
   "source": [
    "rosters_dict = {id: select_rosters[select_rosters['playerId']==id] for id in target_v['playerId'].unique()}"
   ]
  },
  {
   "cell_type": "code",
   "execution_count": 25,
   "id": "551b0fa5",
   "metadata": {},
   "outputs": [],
   "source": [
    "merge_4  = {}\n",
    "for key, df in target_dict.items():\n",
    "    df = merge_3[key].merge(rosters_dict[key], on = ['date', 'playerId', 'teamId', 'gameDate'], how = 'left')\n",
    "    merge_4[key] = df"
   ]
  },
  {
   "cell_type": "code",
   "execution_count": 26,
   "id": "725d3ea2",
   "metadata": {},
   "outputs": [],
   "source": [
    "select_games = train_dict['games'][['gamePk', 'gameType', 'gameTimeUTC', 'codedGameState', 'gameNumber',\n",
    "                                   'homeId', 'homeWinPct', 'homeScore',]]"
   ]
  },
  {
   "cell_type": "code",
   "execution_count": 27,
   "id": "1f403d16",
   "metadata": {},
   "outputs": [],
   "source": [
    "merge_5  = {}\n",
    "for key, df in target_dict.items():\n",
    "    df = merge_4[key].merge(select_games, on = ['gameTimeUTC', 'gamePk'], how = 'left')\n",
    "    merge_5[key] = df"
   ]
  },
  {
   "cell_type": "code",
   "execution_count": 61,
   "id": "0ad32108",
   "metadata": {},
   "outputs": [],
   "source": [
    "# train_dict['events'].columns"
   ]
  },
  {
   "cell_type": "code",
   "execution_count": 44,
   "id": "07898027",
   "metadata": {},
   "outputs": [],
   "source": [
    "select_events = train_dict['events'][['gamePk', 'gameDate', 'gameTimeUTC','gameType', 'eventId', \n",
    "                                      'inning', 'halfInning', 'homeScore', 'pitcherTeamId', \n",
    "                                     'hitterTeamId', 'pitchType', 'pitchType', 'date']]"
   ]
  },
  {
   "cell_type": "code",
   "execution_count": null,
   "id": "0e46d758",
   "metadata": {},
   "outputs": [],
   "source": [
    "# merge_6  = {}\n",
    "# for key, df in target_dict.items():\n",
    "#     df = merge_5[key].merge(select_events, on = ['gamePk', 'gameDate', 'gameTimeUTC','gameType'], how = 'left')\n",
    "#     merge_6[key] = df"
   ]
  },
  {
   "cell_type": "markdown",
   "id": "17fa247e",
   "metadata": {},
   "source": [
    "## Construct whole df"
   ]
  },
  {
   "cell_type": "code",
   "execution_count": 84,
   "id": "17ee3f44",
   "metadata": {},
   "outputs": [],
   "source": [
    "df = pd.concat(df_list ,axis=0)"
   ]
  },
  {
   "cell_type": "code",
   "execution_count": 89,
   "id": "4c66d2d2",
   "metadata": {},
   "outputs": [],
   "source": [
    "df = df.drop(['gamePk', 'gameDate', 'gameTimeUTC'], axis = 1)"
   ]
  },
  {
   "cell_type": "code",
   "execution_count": 124,
   "id": "ab70a4dd",
   "metadata": {},
   "outputs": [],
   "source": [
    "object_encode = df.select_dtypes(include=['object']).drop(['engagementMetricsDate', 'pct'], axis = 1)"
   ]
  },
  {
   "cell_type": "code",
   "execution_count": null,
   "id": "0400953d",
   "metadata": {},
   "outputs": [],
   "source": [
    "df['pct'] = df['pct'].astype('float')"
   ]
  },
  {
   "cell_type": "code",
   "execution_count": 126,
   "id": "728800b0",
   "metadata": {},
   "outputs": [],
   "source": [
    "def label_encode(df, column):\n",
    "    func = {c: i for i, c in enumerate(df[column].unique()) if not pd.isna(c)}\n",
    "    df[column] = df[column].map(func)"
   ]
  },
  {
   "cell_type": "code",
   "execution_count": 127,
   "id": "f77796de",
   "metadata": {},
   "outputs": [],
   "source": [
    "for col in object_encode.columns:\n",
    "    label_encode(object_encode, col)"
   ]
  },
  {
   "cell_type": "code",
   "execution_count": 130,
   "id": "69eaf2d8",
   "metadata": {},
   "outputs": [],
   "source": [
    "df[object_encode.columns] = object_encode"
   ]
  },
  {
   "cell_type": "code",
   "execution_count": 159,
   "id": "6069e70c",
   "metadata": {},
   "outputs": [],
   "source": [
    "label_encode(df, 'date')"
   ]
  },
  {
   "cell_type": "code",
   "execution_count": 142,
   "id": "7c80f456",
   "metadata": {},
   "outputs": [],
   "source": [
    "df = df.drop(['teamId'], axis = 1)\n",
    "df = df.fillna(-99)\n",
    "df = df[df.columns.difference(['engagementMetricsDate'])].astype('float32')"
   ]
  },
  {
   "cell_type": "markdown",
   "id": "1746ac96",
   "metadata": {},
   "source": [
    "## RandomForest Model"
   ]
  },
  {
   "cell_type": "code",
   "execution_count": 87,
   "id": "596891c5",
   "metadata": {},
   "outputs": [],
   "source": [
    "from sklearn.ensemble import RandomForestRegressor"
   ]
  },
  {
   "cell_type": "code",
   "execution_count": 180,
   "id": "c745eeae",
   "metadata": {},
   "outputs": [],
   "source": [
    "X_pre = df[df.columns.difference(['engagementMetricsDate', 'target1', 'target2', 'target3', 'target4'])]\n",
    "y = df['target1']"
   ]
  },
  {
   "cell_type": "code",
   "execution_count": 181,
   "id": "da59bba8",
   "metadata": {},
   "outputs": [],
   "source": [
    "X_dict = {id: X_pre[X_pre['playerId']==id] for id in target_v['playerId'].unique()} "
   ]
  },
  {
   "cell_type": "code",
   "execution_count": 182,
   "id": "2e8aaad2",
   "metadata": {},
   "outputs": [],
   "source": [
    "regr = RandomForestRegressor(max_depth=8, max_features = 18, min_samples_split = 6, n_estimators = 15, random_state=0)"
   ]
  },
  {
   "cell_type": "code",
   "execution_count": 189,
   "id": "4ab79139",
   "metadata": {},
   "outputs": [
    {
     "data": {
      "text/plain": [
       "dict_keys([628317, 547989, 519317, 607625, 592547, 641553, 606959, 435263, 502179, 493200, 605490, 517369, 543939, 460077, 543768, 476454, 542979, 461865, 641857, 664208, 572998, 519203, 453568, 608701, 593700, 425772, 592200, 571760, 592811, 542583, 593144, 594795, 544928, 641531, 641490, 642180, 641432, 570799, 622097, 477132, 446334, 452104, 622761, 501571, 608349, 459429, 571718, 642162, 614177, 457918, 605195, 594992, 448281, 434538, 435079, 516782, 592879, 502671, 548389, 488681, 623364, 592340, 553878, 461314, 592387, 627894, 643338, 642571, 425877, 605508, 501659, 460269, 571946, 593423, 465657, 592169, 547004, 501817, 605538, 453943, 570240, 545338, 500743, 605253, 641645, 543807, 624577, 622491, 607455, 488671, 581527, 624133, 660623, 519455, 455119, 645261, 607680, 605164, 543228, 622713, 474832, 453172, 571666, 606299, 605288, 592454, 433587, 592863, 444432, 460026, 596001, 518516, 592791, 596115, 571918, 501985, 596057, 504379, 570663, 553869, 543243, 657205, 570482, 493247, 518466, 502239, 594807, 592518, 547912, 502190, 543148, 608648, 430935, 543557, 448609, 543308, 547973, 600303, 462382, 592130, 606424, 542947, 606160, 624585, 596019, 543339, 645302, 592426, 621453, 457759, 435622, 543685, 519390, 596112, 475582, 527038, 446386, 640461, 642008, 451661, 572008, 571951, 664056, 543302, 571467, 607043, 607219, 656941, 571875, 543877, 543935, 592773, 570560, 641835, 664948, 467008, 572761, 500208, 571561, 643289, 493316, 592351, 621112, 622497, 641838, 542364, 453064, 605486, 621261, 518792, 458675, 656945, 643327, 621043, 502381, 501981, 622534, 570731, 445213, 489446, 605244, 475253, 450203, 642086, 600986, 660422, 594694, 592261, 592665, 543305, 543376, 608596, 609280, 571437, 592866, 660670, 605242, 471911, 592229, 622110, 543331, 571510, 642558, 608369, 571841, 608601, 502082, 607352, 607752, 669257, 656629, 624424, 520471, 514913, 491624, 455759, 543208, 639373, 472610, 593140, 400085, 543063, 543475, 448802, 503556, 608070, 542454, 434658, 592761, 595284, 518626, 502624, 502083, 607188, 621114, 519058, 643603, 606131, 544727, 433589, 514917, 608348, 663734, 448602, 501896, 518633, 622092, 608385, 519306, 527048, 596103, 641924, 592789, 593934, 465041, 502212, 608577, 451584, 572228, 624507, 571676, 518614, 642584, 641941, 572750, 665487, 501697, 614179, 592767, 543506, 502188, 518452, 571704, 596146, 458681, 462136, 571616, 518886, 543699, 502110, 641360, 435221, 451596, 624512, 545361, 543022, 488810, 605154, 572863, 666915, 670462, 656252, 663423, 543883, 666211, 663776, 621008, 656887, 612672, 544365, 621446, 658305, 644337, 545358, 664314, 663905, 641796, 605119, 630263, 663647, 641513, 657610, 591712, 666137, 641958, 643396, 663886, 657612, 591693, 621592, 650859, 681911, 665152, 543903, 623149, 657228, 664641, 670370, 501213, 666129, 606992, 572403, 605520, 623430, 642736, 600887, 663978, 543056, 670351, 644433, 641684, 641712, 666619, 669203, 476883, 641907, 624413, 642130, 657277, 458584, 641302, 664714, 595897, 491696, 493472, 640448, 665947, 608678, 621573, 602104, 656814, 656685, 600858, 664869, 596035, 656738, 593576, 641778, 592680, 623381, 592858, 663527, 607391, 542340, 600524, 670990, 605474, 624418, 680430, 543258, 608328, 642721, 663586, 660761, 656977, 663959, 658648, 665621, 640464, 475054, 594311, 595928, 665862, 519068, 668665, 663878, 462480, 605121, 571539, 592407, 656913, 622065, 663411, 671277, 543089, 669432, 519393, 645307, 672695, 542946, 491646, 572308, 669622, 647336, 621514, 669330, 660271, 527055, 627500, 591741, 669135, 622797, 462515, 605255, 446099, 592865, 672578, 664850, 593527, 656240, 657611, 664852, 607468, 642233, 660825, 664126, 641154, 683232, 658551, 594902, 518653, 666120, 676709, 606996, 571710, 641598, 676831, 656353, 606149, 595939, 621005, 672773, 642731, 663698, 543734, 668942, 543677, 660731, 660620, 650911, 605447, 643524, 623205, 672386, 663903, 622446, 572180, 455139, 665742, 641541, 607555, 622569, 647315, 552640, 650496, 613564, 666185, 658431, 680702, 571863, 657117, 621450, 664926, 656981, 456051, 656577, 644428, 657434, 660600, 543193, 668663, 624503, 573113, 663330, 650331, 592473, 605156, 670623, 453203, 518876, 572125, 608339, 605388, 594985, 658069, 664875, 592779, 605513, 656541, 643275, 668676, 663611, 596117, 643466, 608032, 592499, 642226, 605612, 656686, 570666, 435064, 543001, 571595, 643418, 593833, 657011, 670955, 670090, 453268, 608703, 595032, 643256, 657024, 453281, 621397, 519301, 628450, 663630, 572182, 624419, 656382, 467100, 602083, 650644, 543351, 669211, 677960, 492802, 656004, 664054, 650671, 664042, 571800, 572383, 656371, 664139, 543776, 641576, 614173, 607257, 592769, 656271, 641658, 670764, 458676, 642121, 473879, 656288, 641793, 597113, 622098, 621011, 500135, 621097, 669735, 542289, 670032, 669064, 602115, 620453, 656976, 501303, 446321, 656509, 617228, 663460, 458677, 657108, 665001, 607179, 623485, 664761, 460060, 502043, 642231, 657053, 607215, 641680, 663986, 571858, 669288, 642607, 670036, 663556, 664045, 656793, 573262, 664062, 676840, 488846, 621006, 664057, 621248, 668941, 672701, 670550, 650556, 605479, 591672, 666808, 502117, 547170, 571657, 595222, 664041, 670280, 666674, 570481, 605509, 595956, 676606, 600921, 622256, 622668, 624647, 628318, 663855, 670426, 641584, 605170, 657585, 660431, 573204, 656308, 641505, 615698, 605155, 575070, 669374, 595981, 502578, 676051, 598284, 573166, 657786, 642207, 669087, 643269, 663531, 664901, 518586, 607776, 642073, 656546, 458708, 592620, 606132, 650402, 596043, 506703, 606625, 471865, 445197, 605483, 594988, 572971, 457727, 595751, 493329, 461325, 595281, 599096, 641341, 622554, 134181, 467827, 669720, 458015, 543401, 592836, 622194, 596059, 642083, 571578, 605439, 429664, 596133, 458006, 521230, 547749, 448614, 605254, 609275, 430832, 456078, 461829, 546318, 592325, 640460, 641583, 630111, 542932, 506433, 592669, 606965, 594986, 621121, 602922, 592206, 547982, 641933, 598265, 605540, 502593, 621439, 431148, 455104, 593647, 435559, 502327, 592444, 453284, 534812, 605135, 622251, 445276, 605452, 643217, 543829, 458731, 453214, 641871, 593958, 645277, 641501, 444489, 606115, 506747, 547379, 518397, 572143, 607457, 571740, 571945, 545341, 571521, 607237, 608718, 445926, 602074, 431145, 502042, 596129, 544931, 452095, 608379, 429722, 554430, 543118, 520980, 572365, 605412, 624428, 595373, 453923, 656185, 502273, 570632, 460576, 518617, 445055, 595879, 475174, 624414, 456701, 641319, 642003, 640447, 467055, 502517, 623454, 546990, 649557, 542208, 519096, 462101, 543272, 453265, 584171, 605548, 641470, 547007, 645801, 593428, 596143, 452254, 501925, 593372, 664856, 491676, 458913, 572020, 282332, 452657, 502051, 605131, 452678, 519299, 446481, 643493, 594828, 621471, 572227, 594953, 622795, 572287, 595943, 592567, 575929, 592346, 516770, 623167, 594577, 596142, 576397, 408314, 570256, 607229, 595918, 656305, 543281, 592332, 503449, 408252, 502154, 657077, 543766, 543606, 541640, 628452, 570257, 448179, 279571, 547179, 573009, 620982, 628338, 605141, 543543, 430945, 608566, 548357, 595777, 598264, 621244, 598271, 667498, 518960, 446263, 545363, 607430, 592450, 578428, 450306, 501593, 608716, 642082, 456713, 456501, 592662, 571697, 623352, 500871, 611093, 596748, 455755, 521692, 476589, 519043, 542303, 592647, 607461, 519242, 594798, 621111, 592222, 573124, 461858, 595191, 606466, 572114, 592804, 488721, 641771, 621028, 457705, 640449, 571788, 457454, 452655, 571466, 606192, 572362, 571976, 407812, 605151, 608638, 408045, 476451, 502004, 594777, 500779, 454560, 600968, 519144, 572888, 571431, 527054, 600301, 547888, 591720, 518553, 502748, 621295, 594951, 600917, 621559, 621020, 605218, 453192, 582494, 592233, 457915, 516416, 489334, 641745, 434671, 643230, 592230, 112526, 547180, 622072, 592102, 457763, 489119, 500724, 594965, 501381, 621311, 593334, 592122, 641703, 642715, 592885, 518934, 624636, 592705, 605498, 641477, 579328, 543424, 669738, 545343, 605280, 676220, 621289, 622268, 606273, 664337, 642578, 596271, 680963, 608715, 667465, 622694, 664871, 476595, 622226, 613317, 600944, 605347, 543483, 675912, 676701, 606995, 571602, 518902, 605482, 669456, 669008, 623913, 571670, 622772, 669242, 683734, 623465, 600466, 465753, 605359, 642136, 667297, 663992, 668338, 643511, 572073, 543278, 650489, 554054, 661440, 543219, 656970, 623323, 664789, 519303, 466320, 458924, 608344, 641829, 606162, 606956, 500872, 592716, 664167, 643778, 666158, 676424, 656322, 571974, 534910, 643335, 664874, 623515, 657571, 672911, 598286, 593993, 593871, 623912, 453527, 605361, 573668, 594736, 658792, 672335, 642851, 621532, 621593, 501625, 594742, 518489, 622783, 670329, 622780, 592741, 670042, 596027, 650333, 664913, 572233, 607481, 642092, 656811, 649963, 664774, 677976, 446399, 543432, 518693, 641729, 656847, 621348, 663757, 605441, 656638, 592826, 642770, 656730, 621290, 596101, 572703, 642211, 571503, 660294, 543144, 657376, 621466, 664180, 665600, 543309, 596451, 624641, 668800, 641149, 660365, 477569, 640444, 670084, 593523, 545332, 605469, 463610, 571917, 645305, 643320, 670456, 641420, 622217, 621078, 664918, 519326, 451192, 605357, 548384, 621056, 643617, 605501, 543901, 663662, 668731, 456781, 623434, 643478, 592712, 641999, 670768, 672779, 657097, 542963, 518566, 605138, 542953, 670167, 542882, 667670, 571577, 605463, 656876, 594027, 670056, 630105, 543343, 657145, 605143, 670950, 643436, 666801, 606993, 642098, 664029, 664092, 669060, 650895, 606988, 669212, 657658, 607644, 664129, 628333, 571901, 607968, 664040, 518883, 642165, 665854, 434778, 623184, 642068, 669214, 676969, 630023, 644374, 621363, 621529, 605130, 623437, 672284, 573064, 543592, 592464, 592644, 623354, 643615, 623168, 676477, 621438, 666931, 592859, 605421, 621129, 628336, 661388, 666163, 666128, 593974, 670712, 605541, 430641, 595465, 621098, 475479, 660875, 641561, 608665, 475857, 642152, 664028, 570702, 641582, 673633, 642528, 571948, 600965, 665733, 676979, 607374, 650893, 663697, 664977, 680692, 606167, 543532, 642397, 643265, 663616, 425783, 543068, 621366, 666969, 669294, 650813, 605446, 658791, 676604, 595798, 624522, 641739, 640462, 543169, 598287, 656232, 543377, 640451, 542924, 663624, 596071, 592530, 647351, 664069, 542585, 643316, 657140, 642133, 644364, 534606, 666204, 650530, 668683, 571980, 623520, 571851, 666182, 642546, 543746, 594943, 680777, 622259, 570488, 656669, 668670, 592468, 605335, 664196, 572021, 620445, 642456, 663567, 649966, 592280, 487675, 675921, 656547, 607471, 623474, 656725, 642203, 656464, 596049, 628451, 466988, 621458, 572204, 605476, 541650, 657022, 542908, 640470, 664350, 669270, 665759, 665861, 489448, 641525, 665482, 669373, 666160, 595234, 542866, 608723, 665561, 664682, 607333, 656713, 521655, 547001, 664702, 622492, 660821, 595909, 545337, 596295, 641482, 643393, 664247, 657770, 641401, 647304, 544925, 621107, 668804, 650382, 571735, 592127, 607473, 641312, 664059, 657193, 594987, 605521, 606336, 450729, 646240, 620443, 607572, 607208, 621002, 448306, 640457, 608334, 449181, 625643, 622441, 571448, 450172, 607387, 594011, 456665, 425844, 448801, 592314, 501822, 592696, 424144, 518649, 456488, 572122, 572070, 605480, 605182, 641427, 572821, 642423, 474568, 543333, 572039, 519346, 518595, 608324, 543294, 468504, 460075, 571506, 572041, 514888, 502085, 541645, 543135, 519333, 608717, 543045, 641343, 601713, 573186, 453343, 608336, 607231, 621242, 488984, 446653, 543760, 435522, 623451, 493603, 425794, 623182, 656427, 659275, 460086, 547172, 608337, 517008, 605260, 408236, 595881, 608384, 456030, 608671, 553993, 446359, 517414, 608652, 573185, 543510, 621389, 518542, 605397, 456124, 620446, 650490, 592663, 553988, 668678, 519381, 573046, 571970, 518813, 523253, 501992, 518568, 542914, 669222, 518468, 641355, 622666, 453329, 457429, 572140, 502171, 621433, 544836, 519048, 444468, 595375, 643376, 622046, 542921, 460283, 621199, 641438, 605233, 595978, 607074, 595014, 607192, 493596, 594824, 650828, 621563, 608700, 622786, 405395, 656555, 533167, 500874, 543105, 519293, 571927, 600869, 622608, 606983, 476704, 543101, 488818, 592254, 444482, 608365, 455976, 570267, 621058, 622663, 641856, 456696, 453562, 407845, 642336, 446308, 593160, 592135, 431151, 518692, 489149, 545350, 544725, 642701, 544369, 594809, 605137, 543867, 641816, 518618, 542881, 592626, 656756, 588751, 605113, 434378, 607223, 519008, 457708, 621035, 435043, 502202, 502570, 434628, 517593, 502028, 572816, 542432, 635903, 543257, 488748, 571679, 519141, 622766, 641487, 472551, 592808, 571912, 605200, 592815, 434158, 642708, 435062, 453178, 594056, 592743, 502143, 502032, 571656, 573135, 622075, 457803, 443558, 628711, 664023, 650391, 456715, 545333, 489267, 571771, 455117, 608371, 489265, 605204, 541652, 554340, 502481, 488726, 545121, 592717, 453385, 592192, 642547, 640463, 594838, 571745, 543037, 656302, 457706, 408234, 425492, 607536, 543484, 621381, 621052, 547943, 488768, 657557, 519023, 446192, 596720, 456034, 503285, 605232, 592348, 467793, 656954, 605400, 475247, 459964, 595001, 518735, 468396, 624431, 518774, 532077, 621512, 573109, 502706, 622682, 448855, 450314, 666971, 624586, 542436, 608597, 605512, 592570, 572096, 641820, 453344, 461833, 592170, 429665, 518748, 519443, 543548, 519076, 595885, 471083, 444876, 502226, 592178, 453286, 400284, 433586, 596847, 446372, 502210, 519222, 543521, 501789, 640455, 656805, 450212, 451594, 474463, 461872, 475115, 656794, 501957, 606930, 621566, 434670, 641313, 502026, 519295, 605177, 572669, 400121, 542255, 572191, 542513, 502054, 669221, 628356, 546991, 592273, 542888, 488771, 660813, 676801, 663656, 606478, 663432, 665620, 669302, 592165, 641627, 592145, 594835, 525768, 506702, 656849, 685503, 665155, 500610, 592685, 664141, 663559, 666176, 523260, 593643, 621500, 641929, 657757, 658668, 642239, 657240, 664238, 665834, 596144, 607345, 600474, 685493, 656821, 596825, 622774, 593679, 666200, 607755, 657031, 621139, 641962, 666622, 671250, 656420, 613534, 593590, 656354, 571893, 656803, 623433, 607054, 663554, 624513, 571035, 606157, 429719, 656514, 622505, 623180, 640458, 554431, 608335, 605894, 621249, 673258, 596056, 664119, 622168, 656548, 670097, 608475, 502304, 641540, 456387, 591971, 660688, 592612, 665750, 669134, 642201, 676886, 622864, 656180, 669160, 596012, 445988, 605240, 641914, 664701, 663366, 553902, 573062, 657766, 671790, 673357, 624427, 620454, 676755, 676103, 467092, 624407, 641851, 622088, 543507, 629496, 547942, 621493, 643290, 623402, 670970, 489295, 516472, 664842, 607067, 668227, 663770, 673490, 664068, 592833, 608654, 596074, 527043, 476594, 606944, 592094, 675916, 641394, 621219, 666135, 621141, 664285, 450665, 571476, 626929, 641682, 650668, 612434, 663765, 672715, 592848, 641447, 656529, 605196, 624415, 666201, 665489, 595345, 643532, 664058, 572193, 656266, 518445, 665926, 571871, 642221, 582473, 650347, 641726, 640459, 607216, 656557, 620439, 657656, 650633, 661403, 518858, 518715, 596816, 657141, 676596, 621086, 605488, 605353, 660853, 642028, 664034, 669256, 642840, 572086, 643354, 503569, 594840, 622161, 608422, 676684, 664854, 641656, 641755, 488786, 592622, 542960, 661269, 407822, 656186, 664334, 641943, 623214, 656568, 528748, 662139, 664074, 669289, 519294, 543508, 622250, 665093, 593619, 677651, 518875, 607200, 642232, 656582, 656257, 664731, 599683, 621368, 572033, 519166, 622103, 641927, 641743, 657624, 543391, 664157, 527049, 664728, 680911, 663898, 656061, 641786, 592660, 596119, 446899, 641386, 592238, 641672, 576788, 621550, 456068, 553882, 572955, 622100, 656458, 643565, 621385, 669424, 593528, 502522, 607560, 641878, 667463, 596105, 573127, 592288, 657006, 643446, 543031, 621044, 643410, 516969, 571882, 545064, 622253, 595411, 621237, 607732, 660896, 448178, 605276, 656492, 668687, 664299, 425784, 621142, 665506, 657061, 666198, 642100, 623470, 605309, 656222, 458690, 595453, 661255, 519151, 669952, 571473, 663474, 641853, 622490, 662253, 621350, 474319, 580792, 629498, 669145, 664076, 623439, 660494, 608686, 657041, 625510, 621345, 623993, 663538, 663738, 656716, 657209, 606213, 543359, 446868, 665120, 663993, 657044, 543194, 673451, 642545, 642067, 622503, 592390, 457754, 642727, 607030, 650738, 472528, 656798, 656605, 593495, 650619, 664192, 667674, 657681, 622382, 641571, 656537, 670541, 621294, 572044, 541600, 680704, 605301, 670912, 608331, 642772, 448167, 657566, 660546, 621076, 606303, 664353, 669459, 519240, 663465, 642758, 605525, 573131, 664199, 663399, 656775])"
      ]
     },
     "execution_count": 189,
     "metadata": {},
     "output_type": "execute_result"
    }
   ],
   "source": [
    "X_dict.keys()"
   ]
  },
  {
   "cell_type": "code",
   "execution_count": 192,
   "id": "f6d8cb84",
   "metadata": {},
   "outputs": [],
   "source": [
    "tx = X_dict[628317].drop(['playerId'], axis = 1)"
   ]
  },
  {
   "cell_type": "code",
   "execution_count": 194,
   "id": "4e655119",
   "metadata": {},
   "outputs": [],
   "source": [
    "tx = round(tx,2)"
   ]
  },
  {
   "cell_type": "code",
   "execution_count": 198,
   "id": "26ba4ebe",
   "metadata": {},
   "outputs": [
    {
     "data": {
      "text/plain": [
       "AB                     8.0\n",
       "B2                     4.0\n",
       "B3                     2.0\n",
       "BB                     5.0\n",
       "BS                     1.0\n",
       "CS                     2.0\n",
       "ERA                    inf\n",
       "FPCT                   1.0\n",
       "GIDP                   3.0\n",
       "H                      6.0\n",
       "HBP                    3.0\n",
       "HLD                    1.0\n",
       "HR                     3.0\n",
       "IBB                    3.0\n",
       "IP                     9.0\n",
       "IR                     3.0\n",
       "ISO                    3.0\n",
       "LOB                   11.0\n",
       "Out                   29.0\n",
       "PA                     9.0\n",
       "RBI                   10.0\n",
       "RC                    16.0\n",
       "SB                     4.0\n",
       "SO                     5.0\n",
       "SV_percnt              1.0\n",
       "TB                    16.0\n",
       "WHIP                   inf\n",
       "awardId              290.0\n",
       "codedGameState         1.0\n",
       "date                 658.0\n",
       "divisionId           205.0\n",
       "divisionRank           5.0\n",
       "gameNumber             2.0\n",
       "gameType               6.0\n",
       "homeId               160.0\n",
       "homeScore             29.0\n",
       "homeWinPct             1.0\n",
       "homeWins              60.0\n",
       "leagueRank            15.0\n",
       "pct                    1.0\n",
       "playerId          685503.0\n",
       "statusCode             4.0\n",
       "target1              100.0\n",
       "target2              100.0\n",
       "target3              100.0\n",
       "target4              100.0\n",
       "wildCardRank          15.0\n",
       "xWinLossPct            1.0\n",
       "dtype: float64"
      ]
     },
     "execution_count": 198,
     "metadata": {},
     "output_type": "execute_result"
    }
   ],
   "source": [
    "df.max()"
   ]
  },
  {
   "cell_type": "code",
   "execution_count": 195,
   "id": "ff3954c6",
   "metadata": {},
   "outputs": [
    {
     "ename": "ValueError",
     "evalue": "Input contains NaN, infinity or a value too large for dtype('float32').",
     "output_type": "error",
     "traceback": [
      "\u001b[1;31m---------------------------------------------------------------------------\u001b[0m",
      "\u001b[1;31mValueError\u001b[0m                                Traceback (most recent call last)",
      "\u001b[1;32m<ipython-input-195-31cd024422c8>\u001b[0m in \u001b[0;36m<module>\u001b[1;34m\u001b[0m\n\u001b[1;32m----> 1\u001b[1;33m \u001b[0mregr\u001b[0m\u001b[1;33m.\u001b[0m\u001b[0mfit\u001b[0m\u001b[1;33m(\u001b[0m\u001b[0mtx\u001b[0m\u001b[1;33m,\u001b[0m\u001b[0my\u001b[0m\u001b[1;33m)\u001b[0m\u001b[1;33m\u001b[0m\u001b[1;33m\u001b[0m\u001b[0m\n\u001b[0m",
      "\u001b[1;32mC:\\ProgramData\\Anaconda3\\lib\\site-packages\\sklearn\\ensemble\\_forest.py\u001b[0m in \u001b[0;36mfit\u001b[1;34m(self, X, y, sample_weight)\u001b[0m\n\u001b[0;32m    303\u001b[0m             )\n\u001b[0;32m    304\u001b[0m         X, y = self._validate_data(X, y, multi_output=True,\n\u001b[1;32m--> 305\u001b[1;33m                                    accept_sparse=\"csc\", dtype=DTYPE)\n\u001b[0m\u001b[0;32m    306\u001b[0m         \u001b[1;32mif\u001b[0m \u001b[0msample_weight\u001b[0m \u001b[1;32mis\u001b[0m \u001b[1;32mnot\u001b[0m \u001b[1;32mNone\u001b[0m\u001b[1;33m:\u001b[0m\u001b[1;33m\u001b[0m\u001b[1;33m\u001b[0m\u001b[0m\n\u001b[0;32m    307\u001b[0m             \u001b[0msample_weight\u001b[0m \u001b[1;33m=\u001b[0m \u001b[0m_check_sample_weight\u001b[0m\u001b[1;33m(\u001b[0m\u001b[0msample_weight\u001b[0m\u001b[1;33m,\u001b[0m \u001b[0mX\u001b[0m\u001b[1;33m)\u001b[0m\u001b[1;33m\u001b[0m\u001b[1;33m\u001b[0m\u001b[0m\n",
      "\u001b[1;32mC:\\ProgramData\\Anaconda3\\lib\\site-packages\\sklearn\\base.py\u001b[0m in \u001b[0;36m_validate_data\u001b[1;34m(self, X, y, reset, validate_separately, **check_params)\u001b[0m\n\u001b[0;32m    431\u001b[0m                 \u001b[0my\u001b[0m \u001b[1;33m=\u001b[0m \u001b[0mcheck_array\u001b[0m\u001b[1;33m(\u001b[0m\u001b[0my\u001b[0m\u001b[1;33m,\u001b[0m \u001b[1;33m**\u001b[0m\u001b[0mcheck_y_params\u001b[0m\u001b[1;33m)\u001b[0m\u001b[1;33m\u001b[0m\u001b[1;33m\u001b[0m\u001b[0m\n\u001b[0;32m    432\u001b[0m             \u001b[1;32melse\u001b[0m\u001b[1;33m:\u001b[0m\u001b[1;33m\u001b[0m\u001b[1;33m\u001b[0m\u001b[0m\n\u001b[1;32m--> 433\u001b[1;33m                 \u001b[0mX\u001b[0m\u001b[1;33m,\u001b[0m \u001b[0my\u001b[0m \u001b[1;33m=\u001b[0m \u001b[0mcheck_X_y\u001b[0m\u001b[1;33m(\u001b[0m\u001b[0mX\u001b[0m\u001b[1;33m,\u001b[0m \u001b[0my\u001b[0m\u001b[1;33m,\u001b[0m \u001b[1;33m**\u001b[0m\u001b[0mcheck_params\u001b[0m\u001b[1;33m)\u001b[0m\u001b[1;33m\u001b[0m\u001b[1;33m\u001b[0m\u001b[0m\n\u001b[0m\u001b[0;32m    434\u001b[0m             \u001b[0mout\u001b[0m \u001b[1;33m=\u001b[0m \u001b[0mX\u001b[0m\u001b[1;33m,\u001b[0m \u001b[0my\u001b[0m\u001b[1;33m\u001b[0m\u001b[1;33m\u001b[0m\u001b[0m\n\u001b[0;32m    435\u001b[0m \u001b[1;33m\u001b[0m\u001b[0m\n",
      "\u001b[1;32mC:\\ProgramData\\Anaconda3\\lib\\site-packages\\sklearn\\utils\\validation.py\u001b[0m in \u001b[0;36minner_f\u001b[1;34m(*args, **kwargs)\u001b[0m\n\u001b[0;32m     61\u001b[0m             \u001b[0mextra_args\u001b[0m \u001b[1;33m=\u001b[0m \u001b[0mlen\u001b[0m\u001b[1;33m(\u001b[0m\u001b[0margs\u001b[0m\u001b[1;33m)\u001b[0m \u001b[1;33m-\u001b[0m \u001b[0mlen\u001b[0m\u001b[1;33m(\u001b[0m\u001b[0mall_args\u001b[0m\u001b[1;33m)\u001b[0m\u001b[1;33m\u001b[0m\u001b[1;33m\u001b[0m\u001b[0m\n\u001b[0;32m     62\u001b[0m             \u001b[1;32mif\u001b[0m \u001b[0mextra_args\u001b[0m \u001b[1;33m<=\u001b[0m \u001b[1;36m0\u001b[0m\u001b[1;33m:\u001b[0m\u001b[1;33m\u001b[0m\u001b[1;33m\u001b[0m\u001b[0m\n\u001b[1;32m---> 63\u001b[1;33m                 \u001b[1;32mreturn\u001b[0m \u001b[0mf\u001b[0m\u001b[1;33m(\u001b[0m\u001b[1;33m*\u001b[0m\u001b[0margs\u001b[0m\u001b[1;33m,\u001b[0m \u001b[1;33m**\u001b[0m\u001b[0mkwargs\u001b[0m\u001b[1;33m)\u001b[0m\u001b[1;33m\u001b[0m\u001b[1;33m\u001b[0m\u001b[0m\n\u001b[0m\u001b[0;32m     64\u001b[0m \u001b[1;33m\u001b[0m\u001b[0m\n\u001b[0;32m     65\u001b[0m             \u001b[1;31m# extra_args > 0\u001b[0m\u001b[1;33m\u001b[0m\u001b[1;33m\u001b[0m\u001b[1;33m\u001b[0m\u001b[0m\n",
      "\u001b[1;32mC:\\ProgramData\\Anaconda3\\lib\\site-packages\\sklearn\\utils\\validation.py\u001b[0m in \u001b[0;36mcheck_X_y\u001b[1;34m(X, y, accept_sparse, accept_large_sparse, dtype, order, copy, force_all_finite, ensure_2d, allow_nd, multi_output, ensure_min_samples, ensure_min_features, y_numeric, estimator)\u001b[0m\n\u001b[0;32m    819\u001b[0m                     \u001b[0mensure_min_samples\u001b[0m\u001b[1;33m=\u001b[0m\u001b[0mensure_min_samples\u001b[0m\u001b[1;33m,\u001b[0m\u001b[1;33m\u001b[0m\u001b[1;33m\u001b[0m\u001b[0m\n\u001b[0;32m    820\u001b[0m                     \u001b[0mensure_min_features\u001b[0m\u001b[1;33m=\u001b[0m\u001b[0mensure_min_features\u001b[0m\u001b[1;33m,\u001b[0m\u001b[1;33m\u001b[0m\u001b[1;33m\u001b[0m\u001b[0m\n\u001b[1;32m--> 821\u001b[1;33m                     estimator=estimator)\n\u001b[0m\u001b[0;32m    822\u001b[0m     \u001b[1;32mif\u001b[0m \u001b[0mmulti_output\u001b[0m\u001b[1;33m:\u001b[0m\u001b[1;33m\u001b[0m\u001b[1;33m\u001b[0m\u001b[0m\n\u001b[0;32m    823\u001b[0m         y = check_array(y, accept_sparse='csr', force_all_finite=True,\n",
      "\u001b[1;32mC:\\ProgramData\\Anaconda3\\lib\\site-packages\\sklearn\\utils\\validation.py\u001b[0m in \u001b[0;36minner_f\u001b[1;34m(*args, **kwargs)\u001b[0m\n\u001b[0;32m     61\u001b[0m             \u001b[0mextra_args\u001b[0m \u001b[1;33m=\u001b[0m \u001b[0mlen\u001b[0m\u001b[1;33m(\u001b[0m\u001b[0margs\u001b[0m\u001b[1;33m)\u001b[0m \u001b[1;33m-\u001b[0m \u001b[0mlen\u001b[0m\u001b[1;33m(\u001b[0m\u001b[0mall_args\u001b[0m\u001b[1;33m)\u001b[0m\u001b[1;33m\u001b[0m\u001b[1;33m\u001b[0m\u001b[0m\n\u001b[0;32m     62\u001b[0m             \u001b[1;32mif\u001b[0m \u001b[0mextra_args\u001b[0m \u001b[1;33m<=\u001b[0m \u001b[1;36m0\u001b[0m\u001b[1;33m:\u001b[0m\u001b[1;33m\u001b[0m\u001b[1;33m\u001b[0m\u001b[0m\n\u001b[1;32m---> 63\u001b[1;33m                 \u001b[1;32mreturn\u001b[0m \u001b[0mf\u001b[0m\u001b[1;33m(\u001b[0m\u001b[1;33m*\u001b[0m\u001b[0margs\u001b[0m\u001b[1;33m,\u001b[0m \u001b[1;33m**\u001b[0m\u001b[0mkwargs\u001b[0m\u001b[1;33m)\u001b[0m\u001b[1;33m\u001b[0m\u001b[1;33m\u001b[0m\u001b[0m\n\u001b[0m\u001b[0;32m     64\u001b[0m \u001b[1;33m\u001b[0m\u001b[0m\n\u001b[0;32m     65\u001b[0m             \u001b[1;31m# extra_args > 0\u001b[0m\u001b[1;33m\u001b[0m\u001b[1;33m\u001b[0m\u001b[1;33m\u001b[0m\u001b[0m\n",
      "\u001b[1;32mC:\\ProgramData\\Anaconda3\\lib\\site-packages\\sklearn\\utils\\validation.py\u001b[0m in \u001b[0;36mcheck_array\u001b[1;34m(array, accept_sparse, accept_large_sparse, dtype, order, copy, force_all_finite, ensure_2d, allow_nd, ensure_min_samples, ensure_min_features, estimator)\u001b[0m\n\u001b[0;32m    662\u001b[0m         \u001b[1;32mif\u001b[0m \u001b[0mforce_all_finite\u001b[0m\u001b[1;33m:\u001b[0m\u001b[1;33m\u001b[0m\u001b[1;33m\u001b[0m\u001b[0m\n\u001b[0;32m    663\u001b[0m             _assert_all_finite(array,\n\u001b[1;32m--> 664\u001b[1;33m                                allow_nan=force_all_finite == 'allow-nan')\n\u001b[0m\u001b[0;32m    665\u001b[0m \u001b[1;33m\u001b[0m\u001b[0m\n\u001b[0;32m    666\u001b[0m     \u001b[1;32mif\u001b[0m \u001b[0mensure_min_samples\u001b[0m \u001b[1;33m>\u001b[0m \u001b[1;36m0\u001b[0m\u001b[1;33m:\u001b[0m\u001b[1;33m\u001b[0m\u001b[1;33m\u001b[0m\u001b[0m\n",
      "\u001b[1;32mC:\\ProgramData\\Anaconda3\\lib\\site-packages\\sklearn\\utils\\validation.py\u001b[0m in \u001b[0;36m_assert_all_finite\u001b[1;34m(X, allow_nan, msg_dtype)\u001b[0m\n\u001b[0;32m    104\u001b[0m                     \u001b[0mmsg_err\u001b[0m\u001b[1;33m.\u001b[0m\u001b[0mformat\u001b[0m\u001b[1;33m\u001b[0m\u001b[1;33m\u001b[0m\u001b[0m\n\u001b[0;32m    105\u001b[0m                     (type_err,\n\u001b[1;32m--> 106\u001b[1;33m                      msg_dtype if msg_dtype is not None else X.dtype)\n\u001b[0m\u001b[0;32m    107\u001b[0m             )\n\u001b[0;32m    108\u001b[0m     \u001b[1;31m# for object dtype data, we only check for NaNs (GH-13254)\u001b[0m\u001b[1;33m\u001b[0m\u001b[1;33m\u001b[0m\u001b[1;33m\u001b[0m\u001b[0m\n",
      "\u001b[1;31mValueError\u001b[0m: Input contains NaN, infinity or a value too large for dtype('float32')."
     ]
    }
   ],
   "source": [
    "regr.fit(tx,y)"
   ]
  },
  {
   "cell_type": "code",
   "execution_count": null,
   "id": "05244ca0",
   "metadata": {},
   "outputs": [],
   "source": []
  },
  {
   "cell_type": "code",
   "execution_count": null,
   "id": "a01c303b",
   "metadata": {},
   "outputs": [],
   "source": []
  },
  {
   "cell_type": "code",
   "execution_count": null,
   "id": "76d490f4",
   "metadata": {},
   "outputs": [],
   "source": []
  },
  {
   "cell_type": "markdown",
   "id": "6cb79c43",
   "metadata": {},
   "source": [
    "### Add twitter columns "
   ]
  },
  {
   "cell_type": "code",
   "execution_count": null,
   "id": "28dc6926",
   "metadata": {},
   "outputs": [],
   "source": [
    "for i in train_dict['teamTwitterFollowers']['teamId'].unique():\n",
    "    "
   ]
  }
 ],
 "metadata": {
  "kernelspec": {
   "display_name": "Python 3",
   "language": "python",
   "name": "python3"
  },
  "language_info": {
   "codemirror_mode": {
    "name": "ipython",
    "version": 3
   },
   "file_extension": ".py",
   "mimetype": "text/x-python",
   "name": "python",
   "nbconvert_exporter": "python",
   "pygments_lexer": "ipython3",
   "version": "3.7.3"
  }
 },
 "nbformat": 4,
 "nbformat_minor": 5
}
