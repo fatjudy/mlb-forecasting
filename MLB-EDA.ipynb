{
 "cells": [
  {
   "cell_type": "code",
   "execution_count": 1,
   "id": "9267b9ea",
   "metadata": {},
   "outputs": [],
   "source": [
    "import os\n",
    "import gc\n",
    "import sys\n",
    "import warnings\n",
    "from pathlib import Path\n",
    "\n",
    "import pandas as pd\n",
    "import numpy as np"
   ]
  },
  {
   "cell_type": "code",
   "execution_count": 2,
   "id": "f5d66a58",
   "metadata": {},
   "outputs": [],
   "source": [
    "import seaborn as sns\n",
    "import matplotlib.pyplot as plt"
   ]
  },
  {
   "cell_type": "code",
   "execution_count": 3,
   "id": "980a9822",
   "metadata": {},
   "outputs": [],
   "source": [
    "from statsmodels.tsa.seasonal import seasonal_decompose"
   ]
  },
  {
   "cell_type": "markdown",
   "id": "b8834a3a",
   "metadata": {},
   "source": [
    "## Load datasets"
   ]
  },
  {
   "cell_type": "code",
   "execution_count": 4,
   "id": "f5260eb0",
   "metadata": {},
   "outputs": [],
   "source": [
    "df_names = ['playerBoxScores', 'teamBoxScores', 'playerTwitterFollowers', 'teamTwitterFollowers', 'awards', 'events',\n",
    "           'games', 'standings', 'rosters', 'transactions']\n",
    "path = \"data/train_vs/\"\n",
    "\n",
    "train_dict = {}\n",
    "for index in range(len(df_names)):\n",
    "    train_dict[df_names[index]] = pd.read_pickle(os.path.join(path,df_names[index]) + \"_train.pkl\")"
   ]
  },
  {
   "cell_type": "code",
   "execution_count": 5,
   "id": "fa909809",
   "metadata": {},
   "outputs": [],
   "source": [
    "df_names = ['seasons', 'teams', 'players', 'awards']\n",
    "path = \"data/\"\n",
    "\n",
    "my_dict = {}\n",
    "for index in range(len(df_names)):\n",
    "    my_dict[df_names[index]] = pd.read_csv(os.path.join(path,df_names[index]) + \".csv\")"
   ]
  },
  {
   "cell_type": "code",
   "execution_count": null,
   "id": "45cf2721",
   "metadata": {},
   "outputs": [],
   "source": [
    "target = pd.read_pickle('data/target_v/nextDayPlayerEngagement_train.pkl')\n",
    "target = target.drop(['index', 'date'], axis = 1)\n",
    "target.head()"
   ]
  },
  {
   "cell_type": "markdown",
   "id": "5dcc80ac",
   "metadata": {},
   "source": [
    "## Target Variable Analysis"
   ]
  },
  {
   "cell_type": "markdown",
   "id": "e00acb42",
   "metadata": {},
   "source": [
    "1. How many players are here?"
   ]
  },
  {
   "cell_type": "code",
   "execution_count": null,
   "id": "69ac5b06",
   "metadata": {},
   "outputs": [],
   "source": [
    "player_519317 = target[target['playerId'] == 519317]\n",
    "player_519317 = player_519317.drop(['playerId'], axis = 1).set_index('engagementMetricsDate')"
   ]
  },
  {
   "cell_type": "code",
   "execution_count": null,
   "id": "ffdd0f49",
   "metadata": {},
   "outputs": [],
   "source": [
    "player_519317['target4'].plot(figsize=(20,5))"
   ]
  },
  {
   "cell_type": "code",
   "execution_count": null,
   "id": "863143c9",
   "metadata": {},
   "outputs": [],
   "source": [
    "player_num = len(target['playerId'].unique())\n",
    "print(\"There are {} players in this dataset\".format(player_num))"
   ]
  },
  {
   "cell_type": "markdown",
   "id": "6c340d72",
   "metadata": {},
   "source": [
    "The date ranges from 2018-01-02 to 2021-05-01, 3 years and 4 months in total."
   ]
  },
  {
   "cell_type": "code",
   "execution_count": null,
   "id": "84e81839",
   "metadata": {},
   "outputs": [],
   "source": [
    "target_date = target.groupby('engagementMetricsDate').mean().drop(['playerId'], axis = 1)\n",
    "target_date.head(3)"
   ]
  },
  {
   "cell_type": "code",
   "execution_count": null,
   "id": "005d3d10",
   "metadata": {},
   "outputs": [],
   "source": [
    "target_player = target.groupby('playerId').mean()\n",
    "target_player.head(3)"
   ]
  },
  {
   "cell_type": "code",
   "execution_count": null,
   "id": "15a1484e",
   "metadata": {},
   "outputs": [],
   "source": [
    "quant_09 = target_player.quantile(.9)"
   ]
  },
  {
   "cell_type": "code",
   "execution_count": null,
   "id": "3cce1a67",
   "metadata": {},
   "outputs": [],
   "source": [
    "quant_01 = target_player.quantile(.1)"
   ]
  },
  {
   "cell_type": "code",
   "execution_count": null,
   "id": "8db57c56",
   "metadata": {},
   "outputs": [],
   "source": [
    "players_09 = target_player.loc[(target_player['target1'] > quant_09['target1']) & (\n",
    "    target_player['target2'] > quant_09['target2']) & (target_player['target3'] > quant_09['target3']) & (\n",
    "    target_player['target4'] > quant_09['target4'])]"
   ]
  },
  {
   "cell_type": "code",
   "execution_count": null,
   "id": "0ee4a77e",
   "metadata": {},
   "outputs": [],
   "source": [
    "players_01 = target_player.loc[(target_player['target1'] < quant_01['target1']) & (\n",
    "    target_player['target2'] < quant_01['target2']) & (target_player['target3'] < quant_01['target3']) & (\n",
    "    target_player['target4'] < quant_01['target4'])]"
   ]
  },
  {
   "cell_type": "code",
   "execution_count": null,
   "id": "ee0b17b7",
   "metadata": {},
   "outputs": [],
   "source": [
    "players_09.shape"
   ]
  },
  {
   "cell_type": "code",
   "execution_count": null,
   "id": "e62c0bf0",
   "metadata": {},
   "outputs": [],
   "source": [
    "players_01.shape"
   ]
  },
  {
   "cell_type": "markdown",
   "id": "315a7003",
   "metadata": {},
   "source": [
    "There are 115 players whose 4 targets values are above the 0.9 quantile, while there are 50 players whose target values fall below the 0.1 quantile."
   ]
  },
  {
   "cell_type": "code",
   "execution_count": null,
   "id": "dd9337b7",
   "metadata": {},
   "outputs": [],
   "source": [
    "target_player.cov()"
   ]
  },
  {
   "cell_type": "code",
   "execution_count": null,
   "id": "b03431a4",
   "metadata": {},
   "outputs": [],
   "source": [
    "log_player = np.log(target_player+1)\n",
    "log_date = np.log(target_date+1)"
   ]
  },
  {
   "cell_type": "code",
   "execution_count": null,
   "id": "1865e28a",
   "metadata": {},
   "outputs": [],
   "source": []
  },
  {
   "cell_type": "code",
   "execution_count": null,
   "id": "da8b3708",
   "metadata": {},
   "outputs": [],
   "source": [
    "# sns.set(style=\"darkgrid\")\n",
    "# ax = sns.displot(log_date, kind=\"kde\", legend=True)\n",
    "# ax.set(xlabel='target values')"
   ]
  },
  {
   "cell_type": "code",
   "execution_count": null,
   "id": "1878bf4a",
   "metadata": {},
   "outputs": [],
   "source": [
    "# ax = sns.displot(log_player, kind=\"kde\", legend=True)\n",
    "# ax.set(xlabel='target values')"
   ]
  },
  {
   "cell_type": "code",
   "execution_count": null,
   "id": "8d7e5cdf",
   "metadata": {},
   "outputs": [],
   "source": [
    "target_player.head(3)"
   ]
  },
  {
   "cell_type": "code",
   "execution_count": null,
   "id": "04961107",
   "metadata": {},
   "outputs": [],
   "source": [
    "target_date['target1'].max()"
   ]
  },
  {
   "cell_type": "markdown",
   "id": "d36aad14",
   "metadata": {},
   "source": [
    "A lot of \"outliers\" on the top, but not the bottom."
   ]
  },
  {
   "cell_type": "code",
   "execution_count": null,
   "id": "3790b1c6",
   "metadata": {},
   "outputs": [],
   "source": [
    "sns.violinplot(data = target_player)"
   ]
  },
  {
   "cell_type": "code",
   "execution_count": null,
   "id": "b86a30bd",
   "metadata": {},
   "outputs": [],
   "source": [
    "### do not need this one because the time series plot will show the property better\n",
    "# sns.boxplot(data = target_date)"
   ]
  },
  {
   "cell_type": "code",
   "execution_count": null,
   "id": "c20fcec7",
   "metadata": {},
   "outputs": [],
   "source": [
    "target_date.plot(figsize=(20,5))"
   ]
  },
  {
   "cell_type": "code",
   "execution_count": null,
   "id": "c9450bd2",
   "metadata": {},
   "outputs": [],
   "source": [
    "# fig, axs = plt.subplots(4, figsize=(20, 12), sharex=True)\n",
    "\n",
    "# for i,j in enumerate(target_date.columns[:4]):\n",
    "#     axs[i].plot(target_date[j])\n",
    "#     axs[i].set_xticks(target_date.index[::120])\n",
    "#     axs[i].title.set_text(j)\n",
    "\n",
    "# plt.show()"
   ]
  },
  {
   "cell_type": "markdown",
   "id": "e4641cf2",
   "metadata": {},
   "source": [
    "From the ACF, we can see that there are about 60-day significant lags and a one-year correlation."
   ]
  },
  {
   "cell_type": "code",
   "execution_count": null,
   "id": "7c6ea4bd",
   "metadata": {},
   "outputs": [],
   "source": [
    "fig, axs = plt.subplots(4, figsize=(20, 12), sharex=True)\n",
    "\n",
    "for i,j in enumerate(target_date.columns):\n",
    "    pd.plotting.autocorrelation_plot(target_date[j], ax = axs[i])\n",
    "    axs[i].title.set_text(j)\n",
    "\n",
    "plt.show()"
   ]
  },
  {
   "cell_type": "markdown",
   "id": "68639cd4",
   "metadata": {},
   "source": [
    "### Seasonal Plots"
   ]
  },
  {
   "cell_type": "code",
   "execution_count": null,
   "id": "ae1c91ab",
   "metadata": {},
   "outputs": [],
   "source": [
    "series = target_date['target1']\n",
    "result = seasonal_decompose(series, model='additive', period = 365)"
   ]
  },
  {
   "cell_type": "code",
   "execution_count": null,
   "id": "8cdb0093",
   "metadata": {},
   "outputs": [],
   "source": [
    "# trend is not a good choice\n",
    "result.trend.plot()"
   ]
  },
  {
   "cell_type": "code",
   "execution_count": null,
   "id": "8f2528e0",
   "metadata": {},
   "outputs": [],
   "source": [
    "result.seasonal.loc[(result.seasonal > 1)]"
   ]
  },
  {
   "cell_type": "code",
   "execution_count": null,
   "id": "fe539886",
   "metadata": {},
   "outputs": [],
   "source": [
    "result.seasonal.loc[(result.seasonal < -0.4)]"
   ]
  },
  {
   "cell_type": "code",
   "execution_count": null,
   "id": "4b1a7583",
   "metadata": {},
   "outputs": [],
   "source": [
    "result.seasonal.plot(figsize = (20,5))"
   ]
  },
  {
   "cell_type": "markdown",
   "id": "c543be30",
   "metadata": {},
   "source": [
    "The peaks happen on Mar.23rd and low in Nov, follows the seasons of the events.\n",
    "Although in 2020, the regular season start late (Covid?), the peak happened regularly, may due to the publicity."
   ]
  },
  {
   "cell_type": "markdown",
   "id": "6f56af65",
   "metadata": {},
   "source": [
    "The preseason starts at the end of Feb each year, and end after one month. But in 2020, it ends in July due to covid."
   ]
  },
  {
   "cell_type": "code",
   "execution_count": null,
   "id": "468b2e19",
   "metadata": {},
   "outputs": [],
   "source": [
    "seasons = my_dict['seasons']\n",
    "seasons"
   ]
  },
  {
   "cell_type": "markdown",
   "id": "99a6121e",
   "metadata": {},
   "source": [
    "## Train Dataset Analysis"
   ]
  },
  {
   "cell_type": "code",
   "execution_count": null,
   "id": "aa778334",
   "metadata": {},
   "outputs": [],
   "source": [
    "train_dict['playerBoxScores'].columns"
   ]
  },
  {
   "cell_type": "code",
   "execution_count": null,
   "id": "b6d1dc11",
   "metadata": {},
   "outputs": [],
   "source": [
    "performance = train_dict['playerBoxScores'][['gameTimeUTC', 'playerId', 'positionName', 'battingOrder', 'gamesPlayedBatting', 'flyOuts',\n",
    "       'groundOuts', 'runsScored', 'doubles', 'triples', 'homeRuns',\n",
    "       'strikeOuts', 'baseOnBalls', 'intentionalWalks', 'hits', 'hitByPitch',\n",
    "       'atBats', 'caughtStealing', 'stolenBases', 'groundIntoDoublePlay',\n",
    "       'groundIntoTriplePlay', 'plateAppearances', 'totalBases', 'rbi',\n",
    "       'leftOnBase', 'sacBunts', 'sacFlies', 'catchersInterference',\n",
    "       'pickoffs', 'gamesPlayedPitching', 'gamesStartedPitching',\n",
    "       'completeGamesPitching', 'shutoutsPitching', 'winsPitching',\n",
    "       'lossesPitching', 'flyOutsPitching', 'airOutsPitching',\n",
    "       'groundOutsPitching', 'runsPitching', 'doublesPitching',\n",
    "       'triplesPitching', 'homeRunsPitching', 'strikeOutsPitching',\n",
    "       'baseOnBallsPitching', 'intentionalWalksPitching', 'hitsPitching',\n",
    "       'hitByPitchPitching', 'atBatsPitching', 'caughtStealingPitching',\n",
    "       'stolenBasesPitching', 'inningsPitched', 'saveOpportunities',\n",
    "       'earnedRuns', 'battersFaced', 'outsPitching', 'pitchesThrown', 'balls',\n",
    "       'strikes', 'hitBatsmen', 'balks', 'wildPitches', 'pickoffsPitching',\n",
    "       'rbiPitching', 'gamesFinishedPitching', 'inheritedRunners',\n",
    "       'inheritedRunnersScored', 'catchersInterferencePitching',\n",
    "       'sacBuntsPitching', 'sacFliesPitching', 'saves', 'holds', 'blownSaves',\n",
    "       'assists', 'putOuts', 'errors', 'chances']]"
   ]
  },
  {
   "cell_type": "code",
   "execution_count": null,
   "id": "58f67207",
   "metadata": {},
   "outputs": [],
   "source": [
    "scores = ['gamesPlayedBatting', 'flyOuts',\n",
    "       'groundOuts', 'runsScored', 'doubles', 'triples', 'homeRuns',\n",
    "       'strikeOuts', 'baseOnBalls', 'intentionalWalks', 'hits', 'hitByPitch',\n",
    "       'atBats', 'caughtStealing', 'stolenBases', 'groundIntoDoublePlay',\n",
    "       'groundIntoTriplePlay', 'plateAppearances', 'totalBases', 'rbi',\n",
    "       'leftOnBase', 'sacBunts', 'sacFlies', 'catchersInterference',\n",
    "       'pickoffs', 'gamesPlayedPitching', 'gamesStartedPitching',\n",
    "       'completeGamesPitching', 'shutoutsPitching', 'winsPitching',\n",
    "       'lossesPitching', 'flyOutsPitching', 'airOutsPitching',\n",
    "       'groundOutsPitching', 'runsPitching', 'doublesPitching',\n",
    "       'triplesPitching', 'homeRunsPitching', 'strikeOutsPitching',\n",
    "       'baseOnBallsPitching', 'intentionalWalksPitching', 'hitsPitching',\n",
    "       'hitByPitchPitching', 'atBatsPitching', 'caughtStealingPitching',\n",
    "       'stolenBasesPitching', 'inningsPitched', 'saveOpportunities',\n",
    "       'earnedRuns', 'battersFaced', 'outsPitching', 'pitchesThrown', 'balls',\n",
    "       'strikes', 'hitBatsmen', 'balks', 'wildPitches', 'pickoffsPitching',\n",
    "       'rbiPitching', 'gamesFinishedPitching', 'inheritedRunners',\n",
    "       'inheritedRunnersScored', 'catchersInterferencePitching',\n",
    "       'sacBuntsPitching', 'sacFliesPitching', 'saves', 'holds', 'blownSaves',\n",
    "       'assists', 'putOuts', 'errors', 'chances']"
   ]
  },
  {
   "cell_type": "code",
   "execution_count": null,
   "id": "b6af4e34",
   "metadata": {},
   "outputs": [],
   "source": [
    "# performance.set_index(\"playerId\", inplace = True)\n",
    "perform_data = performance[scores]"
   ]
  },
  {
   "cell_type": "code",
   "execution_count": null,
   "id": "622fb307",
   "metadata": {},
   "outputs": [],
   "source": [
    "perform_corr = perform_data.corr()"
   ]
  },
  {
   "cell_type": "code",
   "execution_count": null,
   "id": "e87c8e12",
   "metadata": {},
   "outputs": [],
   "source": [
    "fig, ax = plt.subplots(figsize=(20,25))\n",
    "sns.heatmap(perform_corr, annot = False, ax=ax)"
   ]
  },
  {
   "cell_type": "code",
   "execution_count": null,
   "id": "c26b49ab",
   "metadata": {},
   "outputs": [],
   "source": [
    "perform_stats = pd.DataFrame()"
   ]
  },
  {
   "cell_type": "markdown",
   "id": "a571b2fa",
   "metadata": {},
   "source": [
    "### Defense"
   ]
  },
  {
   "cell_type": "code",
   "execution_count": null,
   "id": "09d1db9c",
   "metadata": {},
   "outputs": [],
   "source": [
    "perform_stats['FPCT'] = (performance['putOuts']+performance['assists']) / performance['chances']\n",
    "\n",
    "# Not sure\n",
    "perform_stats['Out'] = performance['putOuts'] + performance['groundOuts'] + performance['strikeOuts'] + performance['flyOuts']"
   ]
  },
  {
   "cell_type": "markdown",
   "id": "050aa3e4",
   "metadata": {},
   "source": [
    "### Offence"
   ]
  },
  {
   "cell_type": "code",
   "execution_count": null,
   "id": "0d63bd89",
   "metadata": {},
   "outputs": [],
   "source": [
    "perform_stats['AB'] = performance['atBats']\n",
    "\n",
    "# Not sure\n",
    "perform_stats['B2'] = performance['doubles']\n",
    "perform_stats['B3'] = performance['triples']\n",
    "\n",
    "perform_stats['SB'] = performance['stolenBases']\n",
    "perform_stats['CS'] = performance['caughtStealing']\n",
    "perform_stats['H'] = performance['hits']\n",
    "perform_stats['HR'] = performance['homeRuns']\n",
    "perform_stats['IBB'] = performance['intentionalWalks']\n",
    "perform_stats['HBP'] = performance['hitByPitch']\n",
    "perform_stats['LOB'] = performance['leftOnBase']\n",
    "perform_stats['PA'] = performance['plateAppearances']\n",
    "perform_stats['TB'] = performance['totalBases']\n",
    "perform_stats['GIDP'] = performance['groundIntoDoublePlay']\n",
    "perform_stats['RBI'] = performance['rbi']\n",
    "perform_stats['BB'] = performance['baseOnBalls']\n",
    "perform_stats['SO'] = performance['strikeOuts']"
   ]
  },
  {
   "cell_type": "markdown",
   "id": "9cfa71b6",
   "metadata": {},
   "source": [
    "### Pitching"
   ]
  },
  {
   "cell_type": "code",
   "execution_count": null,
   "id": "386f4265",
   "metadata": {},
   "outputs": [],
   "source": [
    "perform_stats['SV_percnt'] = performance['saves']/performance['saveOpportunities']\n",
    "\n",
    "perform_stats['HLD'] = performance['holds']\n",
    "\n",
    "perform_stats['BS'] = performance['blownSaves']\n",
    "\n",
    "perform_stats['IR'] = performance['inheritedRunners']\n",
    "\n",
    "perform_stats['IP'] = performance['inningsPitched']\n",
    "\n",
    "perform_stats['ERA'] = (9*performance['earnedRuns'])/IP\n",
    "\n",
    "perform_stats['WHIP'] = (BB + H)/IP"
   ]
  },
  {
   "cell_type": "code",
   "execution_count": null,
   "id": "630a9135",
   "metadata": {},
   "outputs": [],
   "source": [
    "### Advanced"
   ]
  },
  {
   "cell_type": "code",
   "execution_count": null,
   "id": "50a19929",
   "metadata": {},
   "outputs": [],
   "source": [
    "perform_stats['ISO'] = (B2+2*B3+3*HR)/AB"
   ]
  },
  {
   "cell_type": "code",
   "execution_count": null,
   "id": "7949678e",
   "metadata": {},
   "outputs": [],
   "source": [
    "perform_stats['RC'] = TB*(H+BB)/(AB+BB)"
   ]
  },
  {
   "cell_type": "code",
   "execution_count": null,
   "id": "e9338d43",
   "metadata": {},
   "outputs": [],
   "source": [
    "# perform_stats['Game_Score'] = 40 + 6*Out + SO - 2*performance['baseOnBallsPitching'] - 2*performance['hitsPitching'] -3*performance['runsPitching'] - 6*performance['homeRunsPitching']"
   ]
  },
  {
   "cell_type": "code",
   "execution_count": null,
   "id": "a970562f",
   "metadata": {},
   "outputs": [],
   "source": [
    "perform_stats['playerId'] = performance['playerId']\n",
    "perform_target = perform_stats.merge(target_player, on = ['playerId'], how = 'left')"
   ]
  },
  {
   "cell_type": "code",
   "execution_count": null,
   "id": "2cdaf898",
   "metadata": {},
   "outputs": [],
   "source": [
    "target_corr = perform_target.corr()[['target1', 'target2', 'target3', 'target4']]"
   ]
  },
  {
   "cell_type": "code",
   "execution_count": null,
   "id": "efde62ab",
   "metadata": {},
   "outputs": [],
   "source": [
    "target_corr = target_corr.iloc[:-5]"
   ]
  },
  {
   "cell_type": "code",
   "execution_count": null,
   "id": "23aba71b",
   "metadata": {},
   "outputs": [],
   "source": [
    "target_corr['mean_target'] = target_corr.mean(axis = 1)\n",
    "target_corr = target_corr.sort_values(by = 'mean_target', ascending = False)"
   ]
  },
  {
   "cell_type": "code",
   "execution_count": null,
   "id": "ec60f370",
   "metadata": {},
   "outputs": [],
   "source": [
    "target_corr.plot.bar(figsize = (16,5))"
   ]
  },
  {
   "cell_type": "code",
   "execution_count": null,
   "id": "8ac258cf",
   "metadata": {},
   "outputs": [],
   "source": [
    "# fig, ax = plt.subplots(figsize=(15,15))\n",
    "# sns.heatmap(perform_stats.corr(), annot = True, ax=ax)"
   ]
  },
  {
   "cell_type": "code",
   "execution_count": null,
   "id": "20c32c21",
   "metadata": {},
   "outputs": [],
   "source": [
    "# perform_stats_new = perform_stats.drop(['SV_percnt', 'HLD', 'BS', 'IR', 'IP', 'ERA', 'WHIP'], axis = 1)"
   ]
  },
  {
   "cell_type": "code",
   "execution_count": null,
   "id": "5a1da486",
   "metadata": {},
   "outputs": [],
   "source": [
    "# fig, ax = plt.subplots(figsize=(15,15))\n",
    "# sns.heatmap(perform_stats_new.corr(), annot = True, ax=ax)"
   ]
  },
  {
   "cell_type": "code",
   "execution_count": null,
   "id": "657f6d9c",
   "metadata": {},
   "outputs": [],
   "source": [
    "# perform_stats_new['playerId'] = performance['playerId']\n",
    "\n",
    "# perform_target = perform_stats_new.merge(target_player, on = ['playerId'], how = 'left')"
   ]
  },
  {
   "cell_type": "code",
   "execution_count": null,
   "id": "cf63b9ea",
   "metadata": {},
   "outputs": [],
   "source": [
    "# fig, ax = plt.subplots(figsize=(15,15))\n",
    "# sns.heatmap(perform_target.corr(), annot = True, ax=ax)"
   ]
  },
  {
   "cell_type": "code",
   "execution_count": null,
   "id": "bc536cf6",
   "metadata": {},
   "outputs": [],
   "source": []
  },
  {
   "cell_type": "markdown",
   "id": "a2c1326a",
   "metadata": {},
   "source": [
    "### Game_Score\n",
    "Not correlated with target"
   ]
  },
  {
   "cell_type": "code",
   "execution_count": null,
   "id": "563efe36",
   "metadata": {},
   "outputs": [],
   "source": [
    "Game_Score = 40 + 6*Out + SO - 2*performance['baseOnBallsPitching'] - 2*performance['hitsPitching'] -3*performance['runsPitching'] - 6*performance['homeRunsPitching']"
   ]
  },
  {
   "cell_type": "code",
   "execution_count": null,
   "id": "6a09477e",
   "metadata": {},
   "outputs": [],
   "source": [
    "sns.distplot(Game_Score)"
   ]
  },
  {
   "cell_type": "markdown",
   "id": "58cca875",
   "metadata": {},
   "source": [
    "### Offense"
   ]
  },
  {
   "cell_type": "code",
   "execution_count": null,
   "id": "c6ecd93e",
   "metadata": {},
   "outputs": [],
   "source": [
    "# from sklearn.decomposition import PCA\n",
    "# pca = PCA(n_components=2)\n",
    "# pca.fit(train_dict['playerBoxScores'][['jerseyNum','positionCode', 'date']])"
   ]
  },
  {
   "cell_type": "code",
   "execution_count": null,
   "id": "07a0bf20",
   "metadata": {},
   "outputs": [],
   "source": [
    "from pyppca import ppca"
   ]
  },
  {
   "cell_type": "code",
   "execution_count": null,
   "id": "8ddbbbb9",
   "metadata": {},
   "outputs": [],
   "source": [
    "performance.head()"
   ]
  },
  {
   "cell_type": "markdown",
   "id": "6e4dcba7",
   "metadata": {},
   "source": [
    "Use probabilities PCA\n",
    "https://github.com/el-hult/pyppca/tree/master/pyppca"
   ]
  },
  {
   "cell_type": "code",
   "execution_count": null,
   "id": "58f7ad69",
   "metadata": {
    "scrolled": true
   },
   "outputs": [],
   "source": [
    "# C, ss, M, X, Ye  = ppca(performance[scores].to_numpy(), d = 10, dia = True)"
   ]
  },
  {
   "cell_type": "code",
   "execution_count": null,
   "id": "8c65c4ac",
   "metadata": {},
   "outputs": [],
   "source": [
    "train_dict.keys()"
   ]
  },
  {
   "cell_type": "code",
   "execution_count": null,
   "id": "cf491db9",
   "metadata": {},
   "outputs": [],
   "source": [
    "train_dict['playerBoxScores']['playerId']"
   ]
  },
  {
   "cell_type": "code",
   "execution_count": null,
   "id": "55f1364d",
   "metadata": {},
   "outputs": [],
   "source": [
    "# train_dict['playerTwitterFollowers'][train_dict['playerTwitterFollowers']['playerId']==430897]"
   ]
  },
  {
   "cell_type": "code",
   "execution_count": null,
   "id": "56a6778a",
   "metadata": {},
   "outputs": [],
   "source": [
    "pick_playerBox = ['gamePk', 'gameDate', 'teamId', 'playerId', '']"
   ]
  },
  {
   "cell_type": "code",
   "execution_count": null,
   "id": "c143a433",
   "metadata": {},
   "outputs": [],
   "source": [
    "train_dict['playerBoxScores']"
   ]
  },
  {
   "cell_type": "code",
   "execution_count": null,
   "id": "8a845efb",
   "metadata": {},
   "outputs": [],
   "source": [
    "len(train_dict['events']['gamePk'].unique())"
   ]
  },
  {
   "cell_type": "code",
   "execution_count": null,
   "id": "24800c87",
   "metadata": {},
   "outputs": [],
   "source": [
    "len(train_dict['games']['gamePk'].unique())"
   ]
  },
  {
   "cell_type": "code",
   "execution_count": null,
   "id": "4fb44751",
   "metadata": {},
   "outputs": [],
   "source": [
    "train_dict['rosters'].head(3)"
   ]
  },
  {
   "cell_type": "code",
   "execution_count": null,
   "id": "f19f71b2",
   "metadata": {},
   "outputs": [],
   "source": [
    "train_dict['standings'].head(3)"
   ]
  },
  {
   "cell_type": "code",
   "execution_count": null,
   "id": "a996d3a7",
   "metadata": {},
   "outputs": [],
   "source": [
    "There are 392 different awards, "
   ]
  },
  {
   "cell_type": "code",
   "execution_count": null,
   "id": "4c570f14",
   "metadata": {},
   "outputs": [],
   "source": [
    "len(train_dict['awards']['awardName'].unique())"
   ]
  },
  {
   "cell_type": "code",
   "execution_count": null,
   "id": "8a0cc5fa",
   "metadata": {},
   "outputs": [],
   "source": [
    "len(train_dict['awards']['awardName'].unique())"
   ]
  },
  {
   "cell_type": "code",
   "execution_count": null,
   "id": "70e11555",
   "metadata": {},
   "outputs": [],
   "source": [
    "te = train_dict['awards'].merge(players[['playerId', 'playerName']], on = ['playerId'], how = 'left')"
   ]
  },
  {
   "cell_type": "markdown",
   "id": "2a5f5406",
   "metadata": {},
   "source": [
    "awards df contains players in 2017 season. We can delete them."
   ]
  },
  {
   "cell_type": "code",
   "execution_count": null,
   "id": "896869cd",
   "metadata": {},
   "outputs": [],
   "source": [
    "len(train_dict['awards']['playerName'].unique())"
   ]
  },
  {
   "cell_type": "code",
   "execution_count": null,
   "id": "e499e4a5",
   "metadata": {},
   "outputs": [],
   "source": [
    "# target_player"
   ]
  },
  {
   "cell_type": "code",
   "execution_count": null,
   "id": "040b4f47",
   "metadata": {},
   "outputs": [],
   "source": [
    "players = my_dict['players']"
   ]
  },
  {
   "cell_type": "code",
   "execution_count": null,
   "id": "23638c48",
   "metadata": {},
   "outputs": [],
   "source": [
    "players.head()"
   ]
  },
  {
   "cell_type": "code",
   "execution_count": null,
   "id": "bda13e96",
   "metadata": {},
   "outputs": [],
   "source": [
    "target_position = target_player.merge(players[['playerId', 'primaryPositionName']], on = 'playerId', how = 'left')"
   ]
  },
  {
   "cell_type": "code",
   "execution_count": null,
   "id": "78ad3492",
   "metadata": {},
   "outputs": [],
   "source": [
    "target_position_mean = target_position.groupby('primaryPositionName').mean().drop(['playerId'], axis = 1)"
   ]
  },
  {
   "cell_type": "code",
   "execution_count": null,
   "id": "3ca5e0f2",
   "metadata": {},
   "outputs": [],
   "source": [
    "target_position_mean['mean'] = target_position_mean.mean(axis = 1)\n",
    "target_position_mean = target_position_mean.sort_values(by = 'mean', ascending = False)"
   ]
  },
  {
   "cell_type": "code",
   "execution_count": null,
   "id": "2c18c233",
   "metadata": {},
   "outputs": [],
   "source": [
    "target_position_mean.plot.bar()"
   ]
  },
  {
   "cell_type": "markdown",
   "id": "9b732e74",
   "metadata": {},
   "source": [
    "The designated hitter has the highest target value of all (all 4 values), while infield got very few attention."
   ]
  },
  {
   "cell_type": "markdown",
   "id": "20470a8a",
   "metadata": {},
   "source": [
    "## Start a RF"
   ]
  },
  {
   "cell_type": "code",
   "execution_count": null,
   "id": "39657f95",
   "metadata": {},
   "outputs": [],
   "source": [
    "### Construct variables"
   ]
  },
  {
   "cell_type": "code",
   "execution_count": 6,
   "id": "bea5d1dd",
   "metadata": {},
   "outputs": [],
   "source": [
    "target_v = pd.read_pickle('data/target_v/nextDayPlayerEngagement_train.pkl')"
   ]
  },
  {
   "cell_type": "code",
   "execution_count": 7,
   "id": "446ec4a6",
   "metadata": {},
   "outputs": [],
   "source": [
    "target_v = target_v.drop(['index'], axis = 1)"
   ]
  },
  {
   "cell_type": "code",
   "execution_count": 8,
   "id": "0a39201a",
   "metadata": {},
   "outputs": [
    {
     "data": {
      "text/plain": [
       "(2506176, 7)"
      ]
     },
     "execution_count": 8,
     "metadata": {},
     "output_type": "execute_result"
    }
   ],
   "source": [
    "target_v.shape"
   ]
  },
  {
   "cell_type": "code",
   "execution_count": null,
   "id": "0e29cf8c",
   "metadata": {},
   "outputs": [],
   "source": [
    "train_dict['playerBoxScores'].columns"
   ]
  },
  {
   "cell_type": "code",
   "execution_count": 9,
   "id": "a889d078",
   "metadata": {},
   "outputs": [],
   "source": [
    "select_pScore_raw = train_dict['playerBoxScores'].drop(\n",
    "    ['teamName', 'playerName', 'jerseyNum', 'positionName', 'positionType', 'index'], axis = 1)"
   ]
  },
  {
   "cell_type": "code",
   "execution_count": 10,
   "id": "c31c6979",
   "metadata": {},
   "outputs": [
    {
     "data": {
      "text/html": [
       "<div>\n",
       "<style scoped>\n",
       "    .dataframe tbody tr th:only-of-type {\n",
       "        vertical-align: middle;\n",
       "    }\n",
       "\n",
       "    .dataframe tbody tr th {\n",
       "        vertical-align: top;\n",
       "    }\n",
       "\n",
       "    .dataframe thead th {\n",
       "        text-align: right;\n",
       "    }\n",
       "</style>\n",
       "<table border=\"1\" class=\"dataframe\">\n",
       "  <thead>\n",
       "    <tr style=\"text-align: right;\">\n",
       "      <th></th>\n",
       "      <th>home</th>\n",
       "      <th>gamePk</th>\n",
       "      <th>gameDate</th>\n",
       "      <th>gameTimeUTC</th>\n",
       "      <th>teamId</th>\n",
       "      <th>playerId</th>\n",
       "      <th>positionCode</th>\n",
       "      <th>battingOrder</th>\n",
       "      <th>gamesPlayedBatting</th>\n",
       "      <th>flyOuts</th>\n",
       "      <th>...</th>\n",
       "      <th>sacBuntsPitching</th>\n",
       "      <th>sacFliesPitching</th>\n",
       "      <th>saves</th>\n",
       "      <th>holds</th>\n",
       "      <th>blownSaves</th>\n",
       "      <th>assists</th>\n",
       "      <th>putOuts</th>\n",
       "      <th>errors</th>\n",
       "      <th>chances</th>\n",
       "      <th>date</th>\n",
       "    </tr>\n",
       "  </thead>\n",
       "  <tbody>\n",
       "    <tr>\n",
       "      <th>0</th>\n",
       "      <td>1</td>\n",
       "      <td>529418</td>\n",
       "      <td>2018-03-29</td>\n",
       "      <td>2018-03-29T23:08:00Z</td>\n",
       "      <td>119</td>\n",
       "      <td>605131</td>\n",
       "      <td>12</td>\n",
       "      <td>601.0</td>\n",
       "      <td>1.0</td>\n",
       "      <td>0.0</td>\n",
       "      <td>...</td>\n",
       "      <td>NaN</td>\n",
       "      <td>NaN</td>\n",
       "      <td>NaN</td>\n",
       "      <td>NaN</td>\n",
       "      <td>NaN</td>\n",
       "      <td>NaN</td>\n",
       "      <td>NaN</td>\n",
       "      <td>NaN</td>\n",
       "      <td>NaN</td>\n",
       "      <td>20180329</td>\n",
       "    </tr>\n",
       "    <tr>\n",
       "      <th>1</th>\n",
       "      <td>1</td>\n",
       "      <td>529406</td>\n",
       "      <td>2018-03-29</td>\n",
       "      <td>2018-03-29T20:00:00Z</td>\n",
       "      <td>139</td>\n",
       "      <td>605480</td>\n",
       "      <td>7</td>\n",
       "      <td>601.0</td>\n",
       "      <td>1.0</td>\n",
       "      <td>0.0</td>\n",
       "      <td>...</td>\n",
       "      <td>NaN</td>\n",
       "      <td>NaN</td>\n",
       "      <td>NaN</td>\n",
       "      <td>NaN</td>\n",
       "      <td>NaN</td>\n",
       "      <td>0.0</td>\n",
       "      <td>0.0</td>\n",
       "      <td>0.0</td>\n",
       "      <td>0.0</td>\n",
       "      <td>20180329</td>\n",
       "    </tr>\n",
       "    <tr>\n",
       "      <th>2</th>\n",
       "      <td>0</td>\n",
       "      <td>529416</td>\n",
       "      <td>2018-03-29</td>\n",
       "      <td>2018-03-29T20:10:00Z</td>\n",
       "      <td>143</td>\n",
       "      <td>546318</td>\n",
       "      <td>8</td>\n",
       "      <td>401.0</td>\n",
       "      <td>1.0</td>\n",
       "      <td>0.0</td>\n",
       "      <td>...</td>\n",
       "      <td>NaN</td>\n",
       "      <td>NaN</td>\n",
       "      <td>NaN</td>\n",
       "      <td>NaN</td>\n",
       "      <td>NaN</td>\n",
       "      <td>0.0</td>\n",
       "      <td>0.0</td>\n",
       "      <td>0.0</td>\n",
       "      <td>0.0</td>\n",
       "      <td>20180329</td>\n",
       "    </tr>\n",
       "  </tbody>\n",
       "</table>\n",
       "<p>3 rows × 81 columns</p>\n",
       "</div>"
      ],
      "text/plain": [
       "   home  gamePk    gameDate           gameTimeUTC  teamId  playerId  \\\n",
       "0     1  529418  2018-03-29  2018-03-29T23:08:00Z     119    605131   \n",
       "1     1  529406  2018-03-29  2018-03-29T20:00:00Z     139    605480   \n",
       "2     0  529416  2018-03-29  2018-03-29T20:10:00Z     143    546318   \n",
       "\n",
       "  positionCode  battingOrder  gamesPlayedBatting  flyOuts  ...  \\\n",
       "0           12         601.0                 1.0      0.0  ...   \n",
       "1            7         601.0                 1.0      0.0  ...   \n",
       "2            8         401.0                 1.0      0.0  ...   \n",
       "\n",
       "   sacBuntsPitching  sacFliesPitching  saves  holds  blownSaves  assists  \\\n",
       "0               NaN               NaN    NaN    NaN         NaN      NaN   \n",
       "1               NaN               NaN    NaN    NaN         NaN      0.0   \n",
       "2               NaN               NaN    NaN    NaN         NaN      0.0   \n",
       "\n",
       "   putOuts  errors  chances      date  \n",
       "0      NaN     NaN      NaN  20180329  \n",
       "1      0.0     0.0      0.0  20180329  \n",
       "2      0.0     0.0      0.0  20180329  \n",
       "\n",
       "[3 rows x 81 columns]"
      ]
     },
     "execution_count": 10,
     "metadata": {},
     "output_type": "execute_result"
    }
   ],
   "source": [
    "select_pScore_raw.head(3)"
   ]
  },
  {
   "cell_type": "code",
   "execution_count": 11,
   "id": "422c4b25",
   "metadata": {},
   "outputs": [
    {
     "data": {
      "text/plain": [
       "dict_keys(['playerBoxScores', 'teamBoxScores', 'playerTwitterFollowers', 'teamTwitterFollowers', 'awards', 'events', 'games', 'standings', 'rosters', 'transactions'])"
      ]
     },
     "execution_count": 11,
     "metadata": {},
     "output_type": "execute_result"
    }
   ],
   "source": [
    "train_dict.keys()"
   ]
  },
  {
   "cell_type": "code",
   "execution_count": 15,
   "id": "6d3455c6",
   "metadata": {},
   "outputs": [],
   "source": [
    "select_pScore_raw = train_dict['playerBoxScores'][['playerId', 'gamePk']]"
   ]
  },
  {
   "cell_type": "code",
   "execution_count": 16,
   "id": "1d915571",
   "metadata": {},
   "outputs": [],
   "source": [
    "target_v1 = target_v.merge(select_pScore_raw, on = ['playerId'], how = 'left')"
   ]
  },
  {
   "cell_type": "code",
   "execution_count": 20,
   "id": "cc7eb631",
   "metadata": {},
   "outputs": [
    {
     "data": {
      "text/html": [
       "<div>\n",
       "<style scoped>\n",
       "    .dataframe tbody tr th:only-of-type {\n",
       "        vertical-align: middle;\n",
       "    }\n",
       "\n",
       "    .dataframe tbody tr th {\n",
       "        vertical-align: top;\n",
       "    }\n",
       "\n",
       "    .dataframe thead th {\n",
       "        text-align: right;\n",
       "    }\n",
       "</style>\n",
       "<table border=\"1\" class=\"dataframe\">\n",
       "  <thead>\n",
       "    <tr style=\"text-align: right;\">\n",
       "      <th></th>\n",
       "      <th>engagementMetricsDate</th>\n",
       "      <th>playerId</th>\n",
       "      <th>target1</th>\n",
       "      <th>target2</th>\n",
       "      <th>target3</th>\n",
       "      <th>target4</th>\n",
       "      <th>date</th>\n",
       "    </tr>\n",
       "  </thead>\n",
       "  <tbody>\n",
       "    <tr>\n",
       "      <th>0</th>\n",
       "      <td>2018-01-02</td>\n",
       "      <td>628317</td>\n",
       "      <td>0.011167</td>\n",
       "      <td>4.474708</td>\n",
       "      <td>0.005168</td>\n",
       "      <td>5.735294</td>\n",
       "      <td>20180101</td>\n",
       "    </tr>\n",
       "    <tr>\n",
       "      <th>1</th>\n",
       "      <td>2018-01-02</td>\n",
       "      <td>547989</td>\n",
       "      <td>0.042993</td>\n",
       "      <td>5.593385</td>\n",
       "      <td>0.045033</td>\n",
       "      <td>2.794118</td>\n",
       "      <td>20180101</td>\n",
       "    </tr>\n",
       "    <tr>\n",
       "      <th>2</th>\n",
       "      <td>2018-01-02</td>\n",
       "      <td>519317</td>\n",
       "      <td>0.974327</td>\n",
       "      <td>56.177043</td>\n",
       "      <td>13.693746</td>\n",
       "      <td>64.166667</td>\n",
       "      <td>20180101</td>\n",
       "    </tr>\n",
       "    <tr>\n",
       "      <th>3</th>\n",
       "      <td>2018-01-02</td>\n",
       "      <td>607625</td>\n",
       "      <td>0.006700</td>\n",
       "      <td>2.675097</td>\n",
       "      <td>0.005168</td>\n",
       "      <td>1.862745</td>\n",
       "      <td>20180101</td>\n",
       "    </tr>\n",
       "    <tr>\n",
       "      <th>4</th>\n",
       "      <td>2018-01-02</td>\n",
       "      <td>592547</td>\n",
       "      <td>0.001117</td>\n",
       "      <td>0.632296</td>\n",
       "      <td>0.002953</td>\n",
       "      <td>0.931373</td>\n",
       "      <td>20180101</td>\n",
       "    </tr>\n",
       "  </tbody>\n",
       "</table>\n",
       "</div>"
      ],
      "text/plain": [
       "  engagementMetricsDate  playerId   target1    target2    target3    target4  \\\n",
       "0            2018-01-02    628317  0.011167   4.474708   0.005168   5.735294   \n",
       "1            2018-01-02    547989  0.042993   5.593385   0.045033   2.794118   \n",
       "2            2018-01-02    519317  0.974327  56.177043  13.693746  64.166667   \n",
       "3            2018-01-02    607625  0.006700   2.675097   0.005168   1.862745   \n",
       "4            2018-01-02    592547  0.001117   0.632296   0.002953   0.931373   \n",
       "\n",
       "       date  \n",
       "0  20180101  \n",
       "1  20180101  \n",
       "2  20180101  \n",
       "3  20180101  \n",
       "4  20180101  "
      ]
     },
     "execution_count": 20,
     "metadata": {},
     "output_type": "execute_result"
    }
   ],
   "source": [
    "target_v.head()"
   ]
  },
  {
   "cell_type": "code",
   "execution_count": 24,
   "id": "f5d9b40b",
   "metadata": {},
   "outputs": [],
   "source": [
    "target_v = target_v.set_index('playerId')"
   ]
  },
  {
   "cell_type": "code",
   "execution_count": 26,
   "id": "6953209f",
   "metadata": {},
   "outputs": [
    {
     "data": {
      "text/html": [
       "<div>\n",
       "<style scoped>\n",
       "    .dataframe tbody tr th:only-of-type {\n",
       "        vertical-align: middle;\n",
       "    }\n",
       "\n",
       "    .dataframe tbody tr th {\n",
       "        vertical-align: top;\n",
       "    }\n",
       "\n",
       "    .dataframe thead th {\n",
       "        text-align: right;\n",
       "    }\n",
       "</style>\n",
       "<table border=\"1\" class=\"dataframe\">\n",
       "  <thead>\n",
       "    <tr style=\"text-align: right;\">\n",
       "      <th></th>\n",
       "      <th>engagementMetricsDate</th>\n",
       "      <th>target1</th>\n",
       "      <th>target2</th>\n",
       "      <th>target3</th>\n",
       "      <th>target4</th>\n",
       "      <th>date</th>\n",
       "    </tr>\n",
       "    <tr>\n",
       "      <th>playerId</th>\n",
       "      <th></th>\n",
       "      <th></th>\n",
       "      <th></th>\n",
       "      <th></th>\n",
       "      <th></th>\n",
       "      <th></th>\n",
       "    </tr>\n",
       "  </thead>\n",
       "  <tbody>\n",
       "    <tr>\n",
       "      <th>628317</th>\n",
       "      <td>2018-01-02</td>\n",
       "      <td>0.011167</td>\n",
       "      <td>4.474708</td>\n",
       "      <td>0.005168</td>\n",
       "      <td>5.735294</td>\n",
       "      <td>20180101</td>\n",
       "    </tr>\n",
       "    <tr>\n",
       "      <th>547989</th>\n",
       "      <td>2018-01-02</td>\n",
       "      <td>0.042993</td>\n",
       "      <td>5.593385</td>\n",
       "      <td>0.045033</td>\n",
       "      <td>2.794118</td>\n",
       "      <td>20180101</td>\n",
       "    </tr>\n",
       "    <tr>\n",
       "      <th>519317</th>\n",
       "      <td>2018-01-02</td>\n",
       "      <td>0.974327</td>\n",
       "      <td>56.177043</td>\n",
       "      <td>13.693746</td>\n",
       "      <td>64.166667</td>\n",
       "      <td>20180101</td>\n",
       "    </tr>\n",
       "    <tr>\n",
       "      <th>607625</th>\n",
       "      <td>2018-01-02</td>\n",
       "      <td>0.006700</td>\n",
       "      <td>2.675097</td>\n",
       "      <td>0.005168</td>\n",
       "      <td>1.862745</td>\n",
       "      <td>20180101</td>\n",
       "    </tr>\n",
       "    <tr>\n",
       "      <th>592547</th>\n",
       "      <td>2018-01-02</td>\n",
       "      <td>0.001117</td>\n",
       "      <td>0.632296</td>\n",
       "      <td>0.002953</td>\n",
       "      <td>0.931373</td>\n",
       "      <td>20180101</td>\n",
       "    </tr>\n",
       "    <tr>\n",
       "      <th>...</th>\n",
       "      <td>...</td>\n",
       "      <td>...</td>\n",
       "      <td>...</td>\n",
       "      <td>...</td>\n",
       "      <td>...</td>\n",
       "      <td>...</td>\n",
       "    </tr>\n",
       "    <tr>\n",
       "      <th>451661</th>\n",
       "      <td>2021-05-01</td>\n",
       "      <td>0.000000</td>\n",
       "      <td>0.013314</td>\n",
       "      <td>0.000000</td>\n",
       "      <td>0.625925</td>\n",
       "      <td>20210430</td>\n",
       "    </tr>\n",
       "    <tr>\n",
       "      <th>519301</th>\n",
       "      <td>2021-05-01</td>\n",
       "      <td>0.000131</td>\n",
       "      <td>0.003329</td>\n",
       "      <td>0.000000</td>\n",
       "      <td>0.216229</td>\n",
       "      <td>20210430</td>\n",
       "    </tr>\n",
       "    <tr>\n",
       "      <th>527055</th>\n",
       "      <td>2021-05-01</td>\n",
       "      <td>0.000000</td>\n",
       "      <td>0.019971</td>\n",
       "      <td>0.000000</td>\n",
       "      <td>0.273131</td>\n",
       "      <td>20210430</td>\n",
       "    </tr>\n",
       "    <tr>\n",
       "      <th>543484</th>\n",
       "      <td>2021-05-01</td>\n",
       "      <td>0.000131</td>\n",
       "      <td>0.056586</td>\n",
       "      <td>0.000000</td>\n",
       "      <td>1.024240</td>\n",
       "      <td>20210430</td>\n",
       "    </tr>\n",
       "    <tr>\n",
       "      <th>605525</th>\n",
       "      <td>2021-05-01</td>\n",
       "      <td>0.000131</td>\n",
       "      <td>0.499284</td>\n",
       "      <td>0.000000</td>\n",
       "      <td>0.386935</td>\n",
       "      <td>20210430</td>\n",
       "    </tr>\n",
       "  </tbody>\n",
       "</table>\n",
       "<p>2506176 rows × 6 columns</p>\n",
       "</div>"
      ],
      "text/plain": [
       "         engagementMetricsDate   target1    target2    target3    target4  \\\n",
       "playerId                                                                    \n",
       "628317              2018-01-02  0.011167   4.474708   0.005168   5.735294   \n",
       "547989              2018-01-02  0.042993   5.593385   0.045033   2.794118   \n",
       "519317              2018-01-02  0.974327  56.177043  13.693746  64.166667   \n",
       "607625              2018-01-02  0.006700   2.675097   0.005168   1.862745   \n",
       "592547              2018-01-02  0.001117   0.632296   0.002953   0.931373   \n",
       "...                        ...       ...        ...        ...        ...   \n",
       "451661              2021-05-01  0.000000   0.013314   0.000000   0.625925   \n",
       "519301              2021-05-01  0.000131   0.003329   0.000000   0.216229   \n",
       "527055              2021-05-01  0.000000   0.019971   0.000000   0.273131   \n",
       "543484              2021-05-01  0.000131   0.056586   0.000000   1.024240   \n",
       "605525              2021-05-01  0.000131   0.499284   0.000000   0.386935   \n",
       "\n",
       "              date  \n",
       "playerId            \n",
       "628317    20180101  \n",
       "547989    20180101  \n",
       "519317    20180101  \n",
       "607625    20180101  \n",
       "592547    20180101  \n",
       "...            ...  \n",
       "451661    20210430  \n",
       "519301    20210430  \n",
       "527055    20210430  \n",
       "543484    20210430  \n",
       "605525    20210430  \n",
       "\n",
       "[2506176 rows x 6 columns]"
      ]
     },
     "execution_count": 26,
     "metadata": {},
     "output_type": "execute_result"
    }
   ],
   "source": [
    "target_v"
   ]
  },
  {
   "cell_type": "code",
   "execution_count": 27,
   "id": "6e0ab491",
   "metadata": {},
   "outputs": [
    {
     "ename": "TypeError",
     "evalue": "Cannot index by location index with a non-integer key",
     "output_type": "error",
     "traceback": [
      "\u001b[1;31m---------------------------------------------------------------------------\u001b[0m",
      "\u001b[1;31mTypeError\u001b[0m                                 Traceback (most recent call last)",
      "\u001b[1;32m<ipython-input-27-5c34af52d8df>\u001b[0m in \u001b[0;36m<module>\u001b[1;34m\u001b[0m\n\u001b[1;32m----> 1\u001b[1;33m \u001b[0mtarget_v\u001b[0m\u001b[1;33m.\u001b[0m\u001b[0miloc\u001b[0m\u001b[1;33m[\u001b[0m\u001b[1;34m'playerId'\u001b[0m \u001b[1;33m==\u001b[0m \u001b[1;36m628317\u001b[0m\u001b[1;33m]\u001b[0m\u001b[1;33m\u001b[0m\u001b[1;33m\u001b[0m\u001b[0m\n\u001b[0m",
      "\u001b[1;32mC:\\ProgramData\\Anaconda3\\lib\\site-packages\\pandas\\core\\indexing.py\u001b[0m in \u001b[0;36m__getitem__\u001b[1;34m(self, key)\u001b[0m\n\u001b[0;32m    893\u001b[0m \u001b[1;33m\u001b[0m\u001b[0m\n\u001b[0;32m    894\u001b[0m             \u001b[0mmaybe_callable\u001b[0m \u001b[1;33m=\u001b[0m \u001b[0mcom\u001b[0m\u001b[1;33m.\u001b[0m\u001b[0mapply_if_callable\u001b[0m\u001b[1;33m(\u001b[0m\u001b[0mkey\u001b[0m\u001b[1;33m,\u001b[0m \u001b[0mself\u001b[0m\u001b[1;33m.\u001b[0m\u001b[0mobj\u001b[0m\u001b[1;33m)\u001b[0m\u001b[1;33m\u001b[0m\u001b[1;33m\u001b[0m\u001b[0m\n\u001b[1;32m--> 895\u001b[1;33m             \u001b[1;32mreturn\u001b[0m \u001b[0mself\u001b[0m\u001b[1;33m.\u001b[0m\u001b[0m_getitem_axis\u001b[0m\u001b[1;33m(\u001b[0m\u001b[0mmaybe_callable\u001b[0m\u001b[1;33m,\u001b[0m \u001b[0maxis\u001b[0m\u001b[1;33m=\u001b[0m\u001b[0maxis\u001b[0m\u001b[1;33m)\u001b[0m\u001b[1;33m\u001b[0m\u001b[1;33m\u001b[0m\u001b[0m\n\u001b[0m\u001b[0;32m    896\u001b[0m \u001b[1;33m\u001b[0m\u001b[0m\n\u001b[0;32m    897\u001b[0m     \u001b[1;32mdef\u001b[0m \u001b[0m_is_scalar_access\u001b[0m\u001b[1;33m(\u001b[0m\u001b[0mself\u001b[0m\u001b[1;33m,\u001b[0m \u001b[0mkey\u001b[0m\u001b[1;33m:\u001b[0m \u001b[0mTuple\u001b[0m\u001b[1;33m)\u001b[0m\u001b[1;33m:\u001b[0m\u001b[1;33m\u001b[0m\u001b[1;33m\u001b[0m\u001b[0m\n",
      "\u001b[1;32mC:\\ProgramData\\Anaconda3\\lib\\site-packages\\pandas\\core\\indexing.py\u001b[0m in \u001b[0;36m_getitem_axis\u001b[1;34m(self, key, axis)\u001b[0m\n\u001b[0;32m   1496\u001b[0m             \u001b[0mkey\u001b[0m \u001b[1;33m=\u001b[0m \u001b[0mitem_from_zerodim\u001b[0m\u001b[1;33m(\u001b[0m\u001b[0mkey\u001b[0m\u001b[1;33m)\u001b[0m\u001b[1;33m\u001b[0m\u001b[1;33m\u001b[0m\u001b[0m\n\u001b[0;32m   1497\u001b[0m             \u001b[1;32mif\u001b[0m \u001b[1;32mnot\u001b[0m \u001b[0mis_integer\u001b[0m\u001b[1;33m(\u001b[0m\u001b[0mkey\u001b[0m\u001b[1;33m)\u001b[0m\u001b[1;33m:\u001b[0m\u001b[1;33m\u001b[0m\u001b[1;33m\u001b[0m\u001b[0m\n\u001b[1;32m-> 1498\u001b[1;33m                 \u001b[1;32mraise\u001b[0m \u001b[0mTypeError\u001b[0m\u001b[1;33m(\u001b[0m\u001b[1;34m\"Cannot index by location index with a non-integer key\"\u001b[0m\u001b[1;33m)\u001b[0m\u001b[1;33m\u001b[0m\u001b[1;33m\u001b[0m\u001b[0m\n\u001b[0m\u001b[0;32m   1499\u001b[0m \u001b[1;33m\u001b[0m\u001b[0m\n\u001b[0;32m   1500\u001b[0m             \u001b[1;31m# validate the location\u001b[0m\u001b[1;33m\u001b[0m\u001b[1;33m\u001b[0m\u001b[1;33m\u001b[0m\u001b[0m\n",
      "\u001b[1;31mTypeError\u001b[0m: Cannot index by location index with a non-integer key"
     ]
    }
   ],
   "source": [
    "target_v.iloc['playerId' == 628317]"
   ]
  },
  {
   "cell_type": "code",
   "execution_count": 21,
   "id": "cd84cf2f",
   "metadata": {},
   "outputs": [
    {
     "data": {
      "text/html": [
       "<div>\n",
       "<style scoped>\n",
       "    .dataframe tbody tr th:only-of-type {\n",
       "        vertical-align: middle;\n",
       "    }\n",
       "\n",
       "    .dataframe tbody tr th {\n",
       "        vertical-align: top;\n",
       "    }\n",
       "\n",
       "    .dataframe thead th {\n",
       "        text-align: right;\n",
       "    }\n",
       "</style>\n",
       "<table border=\"1\" class=\"dataframe\">\n",
       "  <thead>\n",
       "    <tr style=\"text-align: right;\">\n",
       "      <th></th>\n",
       "      <th>playerId</th>\n",
       "      <th>gamePk</th>\n",
       "    </tr>\n",
       "  </thead>\n",
       "  <tbody>\n",
       "    <tr>\n",
       "      <th>0</th>\n",
       "      <td>605131</td>\n",
       "      <td>529418</td>\n",
       "    </tr>\n",
       "    <tr>\n",
       "      <th>1</th>\n",
       "      <td>605480</td>\n",
       "      <td>529406</td>\n",
       "    </tr>\n",
       "    <tr>\n",
       "      <th>2</th>\n",
       "      <td>546318</td>\n",
       "      <td>529416</td>\n",
       "    </tr>\n",
       "    <tr>\n",
       "      <th>3</th>\n",
       "      <td>527043</td>\n",
       "      <td>529412</td>\n",
       "    </tr>\n",
       "    <tr>\n",
       "      <th>4</th>\n",
       "      <td>449181</td>\n",
       "      <td>529408</td>\n",
       "    </tr>\n",
       "  </tbody>\n",
       "</table>\n",
       "</div>"
      ],
      "text/plain": [
       "   playerId  gamePk\n",
       "0    605131  529418\n",
       "1    605480  529406\n",
       "2    546318  529416\n",
       "3    527043  529412\n",
       "4    449181  529408"
      ]
     },
     "execution_count": 21,
     "metadata": {},
     "output_type": "execute_result"
    }
   ],
   "source": [
    "select_pScore_raw.head()"
   ]
  },
  {
   "cell_type": "code",
   "execution_count": 18,
   "id": "22b5f568",
   "metadata": {},
   "outputs": [
    {
     "data": {
      "text/html": [
       "<div>\n",
       "<style scoped>\n",
       "    .dataframe tbody tr th:only-of-type {\n",
       "        vertical-align: middle;\n",
       "    }\n",
       "\n",
       "    .dataframe tbody tr th {\n",
       "        vertical-align: top;\n",
       "    }\n",
       "\n",
       "    .dataframe thead th {\n",
       "        text-align: right;\n",
       "    }\n",
       "</style>\n",
       "<table border=\"1\" class=\"dataframe\">\n",
       "  <thead>\n",
       "    <tr style=\"text-align: right;\">\n",
       "      <th></th>\n",
       "      <th>engagementMetricsDate</th>\n",
       "      <th>playerId</th>\n",
       "      <th>target1</th>\n",
       "      <th>target2</th>\n",
       "      <th>target3</th>\n",
       "      <th>target4</th>\n",
       "      <th>date</th>\n",
       "      <th>gamePk</th>\n",
       "    </tr>\n",
       "  </thead>\n",
       "  <tbody>\n",
       "    <tr>\n",
       "      <th>0</th>\n",
       "      <td>2018-01-02</td>\n",
       "      <td>628317</td>\n",
       "      <td>0.011167</td>\n",
       "      <td>4.474708</td>\n",
       "      <td>0.005168</td>\n",
       "      <td>5.735294</td>\n",
       "      <td>20180101</td>\n",
       "      <td>529442.0</td>\n",
       "    </tr>\n",
       "    <tr>\n",
       "      <th>1</th>\n",
       "      <td>2018-01-02</td>\n",
       "      <td>628317</td>\n",
       "      <td>0.011167</td>\n",
       "      <td>4.474708</td>\n",
       "      <td>0.005168</td>\n",
       "      <td>5.735294</td>\n",
       "      <td>20180101</td>\n",
       "      <td>529524.0</td>\n",
       "    </tr>\n",
       "    <tr>\n",
       "      <th>2</th>\n",
       "      <td>2018-01-02</td>\n",
       "      <td>628317</td>\n",
       "      <td>0.011167</td>\n",
       "      <td>4.474708</td>\n",
       "      <td>0.005168</td>\n",
       "      <td>5.735294</td>\n",
       "      <td>20180101</td>\n",
       "      <td>529597.0</td>\n",
       "    </tr>\n",
       "    <tr>\n",
       "      <th>3</th>\n",
       "      <td>2018-01-02</td>\n",
       "      <td>628317</td>\n",
       "      <td>0.011167</td>\n",
       "      <td>4.474708</td>\n",
       "      <td>0.005168</td>\n",
       "      <td>5.735294</td>\n",
       "      <td>20180101</td>\n",
       "      <td>529677.0</td>\n",
       "    </tr>\n",
       "    <tr>\n",
       "      <th>4</th>\n",
       "      <td>2018-01-02</td>\n",
       "      <td>628317</td>\n",
       "      <td>0.011167</td>\n",
       "      <td>4.474708</td>\n",
       "      <td>0.005168</td>\n",
       "      <td>5.735294</td>\n",
       "      <td>20180101</td>\n",
       "      <td>529751.0</td>\n",
       "    </tr>\n",
       "  </tbody>\n",
       "</table>\n",
       "</div>"
      ],
      "text/plain": [
       "  engagementMetricsDate  playerId   target1   target2   target3   target4  \\\n",
       "0            2018-01-02    628317  0.011167  4.474708  0.005168  5.735294   \n",
       "1            2018-01-02    628317  0.011167  4.474708  0.005168  5.735294   \n",
       "2            2018-01-02    628317  0.011167  4.474708  0.005168  5.735294   \n",
       "3            2018-01-02    628317  0.011167  4.474708  0.005168  5.735294   \n",
       "4            2018-01-02    628317  0.011167  4.474708  0.005168  5.735294   \n",
       "\n",
       "       date    gamePk  \n",
       "0  20180101  529442.0  \n",
       "1  20180101  529524.0  \n",
       "2  20180101  529597.0  \n",
       "3  20180101  529677.0  \n",
       "4  20180101  529751.0  "
      ]
     },
     "execution_count": 18,
     "metadata": {},
     "output_type": "execute_result"
    }
   ],
   "source": [
    "target_v1.head()"
   ]
  },
  {
   "cell_type": "code",
   "execution_count": null,
   "id": "5311521d",
   "metadata": {},
   "outputs": [],
   "source": [
    "target_v1[['gamePk', 'gameDate', 'gameTimeUTC']].isnull().sum()"
   ]
  },
  {
   "cell_type": "code",
   "execution_count": null,
   "id": "69d171a6",
   "metadata": {},
   "outputs": [],
   "source": [
    "# We do not want to add this because it will cause the multicollinearity problem\n",
    "train_dict['teamBoxScores'].shape"
   ]
  },
  {
   "cell_type": "code",
   "execution_count": null,
   "id": "3dce725c",
   "metadata": {},
   "outputs": [],
   "source": [
    "select_awards = train_dict['awards'].drop(['awardName', 'playerName', 'index'], axis = 1)\n",
    "select_awards.head(3)"
   ]
  },
  {
   "cell_type": "code",
   "execution_count": null,
   "id": "2f2026e6",
   "metadata": {},
   "outputs": [],
   "source": [
    "target_v2 = target_v1.merge(select_awards, on = ['playerId', 'date'], how = 'left')"
   ]
  },
  {
   "cell_type": "code",
   "execution_count": null,
   "id": "a90b0f14",
   "metadata": {},
   "outputs": [],
   "source": [
    "target_v2.shape"
   ]
  },
  {
   "cell_type": "code",
   "execution_count": null,
   "id": "3cbf2c96",
   "metadata": {},
   "outputs": [],
   "source": [
    "events = train_dict['events']\n",
    "events.head(3)"
   ]
  },
  {
   "cell_type": "code",
   "execution_count": null,
   "id": "3f95cc5a",
   "metadata": {},
   "outputs": [],
   "source": [
    "select_events = events[['gamePk', 'gameDate', 'gameTimeUTC', 'gameType', 'eventId', 'inning', 'halfInning', 'homeScore', 'awayScore',\n",
    "       'menOnBase', 'atBatIndex', 'atBatDesc', 'atBatEvent', 'hasOut',\n",
    "       'pitcherTeamId', 'isPitcherHome', 'pitcherId', 'hitterId','balls', 'strikes', 'date']]"
   ]
  },
  {
   "cell_type": "code",
   "execution_count": null,
   "id": "75a40065",
   "metadata": {},
   "outputs": [],
   "source": [
    "select_events[['gamePk', 'gameDate', 'gameTimeUTC','date']]"
   ]
  },
  {
   "cell_type": "code",
   "execution_count": null,
   "id": "8ef9771f",
   "metadata": {},
   "outputs": [],
   "source": [
    "target_v2[['gamePk', 'gameDate', 'gameTimeUTC','date']]['gamePk'].isnull().sum()"
   ]
  },
  {
   "cell_type": "code",
   "execution_count": null,
   "id": "fbe18e90",
   "metadata": {},
   "outputs": [],
   "source": [
    "target_v3 = target_v2.merge(select_events, on = ['date'], how = 'left')"
   ]
  },
  {
   "cell_type": "code",
   "execution_count": null,
   "id": "d45043f6",
   "metadata": {},
   "outputs": [],
   "source": [
    "target_v3.shape"
   ]
  },
  {
   "cell_type": "code",
   "execution_count": null,
   "id": "66c7885e",
   "metadata": {},
   "outputs": [],
   "source": [
    "target_v3.columns"
   ]
  },
  {
   "cell_type": "code",
   "execution_count": null,
   "id": "6022e44c",
   "metadata": {},
   "outputs": [],
   "source": [
    "train_dict['games'].columns"
   ]
  },
  {
   "cell_type": "code",
   "execution_count": null,
   "id": "f68d7a33",
   "metadata": {},
   "outputs": [],
   "source": [
    "selected_games = train_dict['games'][[\n",
    "    'gamePk', 'gameType', 'gameDate', 'gameTimeUTC','detailedGameState', 'isTie','homeWinPct', 'awayWinPct', 'homeScore','awayScore']]"
   ]
  },
  {
   "cell_type": "code",
   "execution_count": null,
   "id": "683cda2c",
   "metadata": {},
   "outputs": [],
   "source": [
    "target_v4 = target_v3.merge(select_events, on = ['gamePk', 'gameType', 'gameDate', 'gameTimeUTC'], how = 'left')"
   ]
  },
  {
   "cell_type": "code",
   "execution_count": null,
   "id": "65aabcfb",
   "metadata": {},
   "outputs": [],
   "source": [
    "target_v3.shape"
   ]
  },
  {
   "cell_type": "code",
   "execution_count": null,
   "id": "80405354",
   "metadata": {},
   "outputs": [],
   "source": []
  },
  {
   "cell_type": "code",
   "execution_count": null,
   "id": "9ae675cc",
   "metadata": {},
   "outputs": [],
   "source": []
  },
  {
   "cell_type": "code",
   "execution_count": null,
   "id": "04343e0e",
   "metadata": {},
   "outputs": [],
   "source": []
  }
 ],
 "metadata": {
  "kernelspec": {
   "display_name": "Python 3",
   "language": "python",
   "name": "python3"
  },
  "language_info": {
   "codemirror_mode": {
    "name": "ipython",
    "version": 3
   },
   "file_extension": ".py",
   "mimetype": "text/x-python",
   "name": "python",
   "nbconvert_exporter": "python",
   "pygments_lexer": "ipython3",
   "version": "3.7.3"
  }
 },
 "nbformat": 4,
 "nbformat_minor": 5
}
