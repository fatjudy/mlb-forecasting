{
 "cells": [
  {
   "cell_type": "code",
   "execution_count": 1,
   "id": "24e04d57",
   "metadata": {},
   "outputs": [],
   "source": [
    "import os\n",
    "import gc\n",
    "import sys\n",
    "import warnings\n",
    "import pickle\n",
    "from pathlib import Path\n",
    "\n",
    "import pandas as pd\n",
    "import numpy as np\n",
    "\n",
    "import seaborn as sns\n",
    "import matplotlib.pyplot as plt\n",
    "from statsmodels.tsa.seasonal import seasonal_decompose"
   ]
  },
  {
   "cell_type": "code",
   "execution_count": 2,
   "id": "db888b0b",
   "metadata": {},
   "outputs": [],
   "source": [
    "df_names = ['playerBoxScores', 'teamBoxScores', 'playerTwitterFollowers', 'teamTwitterFollowers', 'awards', 'events',\n",
    "           'games', 'standings', 'rosters', 'transactions']\n",
    "path = \"data/train_vs/\"\n",
    "\n",
    "train_dict = {}\n",
    "for index in range(len(df_names)):\n",
    "    train_dict[df_names[index]] = pd.read_pickle(os.path.join(path,df_names[index]) + \"_train.pkl\")"
   ]
  },
  {
   "cell_type": "code",
   "execution_count": 3,
   "id": "4e9d3630",
   "metadata": {},
   "outputs": [],
   "source": [
    "df_names = ['seasons', 'teams', 'players', 'awards']\n",
    "path = \"data/\"\n",
    "\n",
    "my_dict = {}\n",
    "for index in range(len(df_names)):\n",
    "    my_dict[df_names[index]] = pd.read_csv(os.path.join(path,df_names[index]) + \".csv\")"
   ]
  },
  {
   "cell_type": "code",
   "execution_count": 4,
   "id": "e5620ff1",
   "metadata": {},
   "outputs": [],
   "source": [
    "target_v = pd.read_pickle('data/target_v/nextDayPlayerEngagement_train.pkl')"
   ]
  },
  {
   "cell_type": "code",
   "execution_count": 5,
   "id": "098d9367",
   "metadata": {},
   "outputs": [],
   "source": [
    "target_dict = {id: target_v[target_v['playerId']==id].drop(\n",
    "    ['index'], axis = 1) for id in target_v['playerId'].unique()}    "
   ]
  },
  {
   "cell_type": "code",
   "execution_count": 6,
   "id": "ea1f4d5a",
   "metadata": {},
   "outputs": [
    {
     "data": {
      "text/html": [
       "<div>\n",
       "<style scoped>\n",
       "    .dataframe tbody tr th:only-of-type {\n",
       "        vertical-align: middle;\n",
       "    }\n",
       "\n",
       "    .dataframe tbody tr th {\n",
       "        vertical-align: top;\n",
       "    }\n",
       "\n",
       "    .dataframe thead th {\n",
       "        text-align: right;\n",
       "    }\n",
       "</style>\n",
       "<table border=\"1\" class=\"dataframe\">\n",
       "  <thead>\n",
       "    <tr style=\"text-align: right;\">\n",
       "      <th></th>\n",
       "      <th>engagementMetricsDate</th>\n",
       "      <th>playerId</th>\n",
       "      <th>target1</th>\n",
       "      <th>target2</th>\n",
       "      <th>target3</th>\n",
       "      <th>target4</th>\n",
       "      <th>date</th>\n",
       "    </tr>\n",
       "  </thead>\n",
       "  <tbody>\n",
       "    <tr>\n",
       "      <th>969</th>\n",
       "      <td>2018-01-02</td>\n",
       "      <td>112526</td>\n",
       "      <td>0.055277</td>\n",
       "      <td>5.496109</td>\n",
       "      <td>0.025839</td>\n",
       "      <td>16.176471</td>\n",
       "      <td>20180101</td>\n",
       "    </tr>\n",
       "    <tr>\n",
       "      <th>3556</th>\n",
       "      <td>2018-01-03</td>\n",
       "      <td>112526</td>\n",
       "      <td>0.060625</td>\n",
       "      <td>3.252914</td>\n",
       "      <td>0.030486</td>\n",
       "      <td>8.541353</td>\n",
       "      <td>20180102</td>\n",
       "    </tr>\n",
       "    <tr>\n",
       "      <th>5737</th>\n",
       "      <td>2018-01-04</td>\n",
       "      <td>112526</td>\n",
       "      <td>0.029341</td>\n",
       "      <td>1.648352</td>\n",
       "      <td>0.032613</td>\n",
       "      <td>10.490112</td>\n",
       "      <td>20180103</td>\n",
       "    </tr>\n",
       "  </tbody>\n",
       "</table>\n",
       "</div>"
      ],
      "text/plain": [
       "     engagementMetricsDate  playerId   target1   target2   target3    target4  \\\n",
       "969             2018-01-02    112526  0.055277  5.496109  0.025839  16.176471   \n",
       "3556            2018-01-03    112526  0.060625  3.252914  0.030486   8.541353   \n",
       "5737            2018-01-04    112526  0.029341  1.648352  0.032613  10.490112   \n",
       "\n",
       "          date  \n",
       "969   20180101  \n",
       "3556  20180102  \n",
       "5737  20180103  "
      ]
     },
     "execution_count": 6,
     "metadata": {},
     "output_type": "execute_result"
    }
   ],
   "source": [
    "target_dict[112526].head(3)"
   ]
  },
  {
   "cell_type": "markdown",
   "id": "787ed120",
   "metadata": {},
   "source": [
    "## Dictionary for playerBoxScores"
   ]
  },
  {
   "cell_type": "code",
   "execution_count": 7,
   "id": "e05106a0",
   "metadata": {},
   "outputs": [
    {
     "data": {
      "text/html": [
       "<div>\n",
       "<style scoped>\n",
       "    .dataframe tbody tr th:only-of-type {\n",
       "        vertical-align: middle;\n",
       "    }\n",
       "\n",
       "    .dataframe tbody tr th {\n",
       "        vertical-align: top;\n",
       "    }\n",
       "\n",
       "    .dataframe thead th {\n",
       "        text-align: right;\n",
       "    }\n",
       "</style>\n",
       "<table border=\"1\" class=\"dataframe\">\n",
       "  <thead>\n",
       "    <tr style=\"text-align: right;\">\n",
       "      <th></th>\n",
       "      <th>playerId</th>\n",
       "      <th>gamePk</th>\n",
       "      <th>gameDate</th>\n",
       "      <th>gameTimeUTC</th>\n",
       "      <th>teamId</th>\n",
       "      <th>date</th>\n",
       "    </tr>\n",
       "  </thead>\n",
       "  <tbody>\n",
       "    <tr>\n",
       "      <th>0</th>\n",
       "      <td>605131</td>\n",
       "      <td>529418</td>\n",
       "      <td>2018-03-29</td>\n",
       "      <td>2018-03-29T23:08:00Z</td>\n",
       "      <td>119</td>\n",
       "      <td>20180329</td>\n",
       "    </tr>\n",
       "    <tr>\n",
       "      <th>1</th>\n",
       "      <td>605480</td>\n",
       "      <td>529406</td>\n",
       "      <td>2018-03-29</td>\n",
       "      <td>2018-03-29T20:00:00Z</td>\n",
       "      <td>139</td>\n",
       "      <td>20180329</td>\n",
       "    </tr>\n",
       "    <tr>\n",
       "      <th>2</th>\n",
       "      <td>546318</td>\n",
       "      <td>529416</td>\n",
       "      <td>2018-03-29</td>\n",
       "      <td>2018-03-29T20:10:00Z</td>\n",
       "      <td>143</td>\n",
       "      <td>20180329</td>\n",
       "    </tr>\n",
       "  </tbody>\n",
       "</table>\n",
       "</div>"
      ],
      "text/plain": [
       "   playerId  gamePk    gameDate           gameTimeUTC  teamId      date\n",
       "0    605131  529418  2018-03-29  2018-03-29T23:08:00Z     119  20180329\n",
       "1    605480  529406  2018-03-29  2018-03-29T20:00:00Z     139  20180329\n",
       "2    546318  529416  2018-03-29  2018-03-29T20:10:00Z     143  20180329"
      ]
     },
     "execution_count": 7,
     "metadata": {},
     "output_type": "execute_result"
    }
   ],
   "source": [
    "perform_stats = pd.DataFrame()\n",
    "perform_stats = train_dict['playerBoxScores'][[\n",
    "    'playerId', 'gamePk', 'gameDate', 'gameTimeUTC', 'teamId', 'date']]\n",
    "perform_stats.head(3)"
   ]
  },
  {
   "cell_type": "code",
   "execution_count": 8,
   "id": "40dff7d2",
   "metadata": {},
   "outputs": [],
   "source": [
    "warnings.simplefilter(\"ignore\")"
   ]
  },
  {
   "cell_type": "code",
   "execution_count": 9,
   "id": "85fca198",
   "metadata": {},
   "outputs": [],
   "source": [
    "performance = train_dict['playerBoxScores']\n",
    "\n",
    "# Defense\n",
    "perform_stats['FPCT'] = (performance['putOuts']+performance['assists']) / performance['chances']\n",
    "perform_stats['Out'] = performance['putOuts'] + performance['groundOuts'] + performance['strikeOuts'] + performance['flyOuts']\n",
    "\n",
    "# Offence\n",
    "perform_stats['AB'] = performance['atBats']\n",
    "perform_stats['B2'] = performance['doubles']\n",
    "perform_stats['B3'] = performance['triples']\n",
    "perform_stats['SB'] = performance['stolenBases']\n",
    "perform_stats['CS'] = performance['caughtStealing']\n",
    "perform_stats['H'] = performance['hits']\n",
    "perform_stats['HR'] = performance['homeRuns']\n",
    "perform_stats['IBB'] = performance['intentionalWalks']\n",
    "perform_stats['HBP'] = performance['hitByPitch']\n",
    "perform_stats['LOB'] = performance['leftOnBase']\n",
    "perform_stats['PA'] = performance['plateAppearances']\n",
    "perform_stats['TB'] = performance['totalBases']\n",
    "perform_stats['GIDP'] = performance['groundIntoDoublePlay']\n",
    "perform_stats['RBI'] = performance['rbi']\n",
    "perform_stats['BB'] = performance['baseOnBalls']\n",
    "perform_stats['SO'] = performance['strikeOuts']\n",
    "perform_stats['AVG'] = perform_stats['H']/perform_stats['AB']\n",
    "\n",
    "\n",
    "# Pitching\n",
    "perform_stats['SV_percnt'] = performance['saves']/performance['saveOpportunities']\n",
    "perform_stats['HLD'] = performance['holds']\n",
    "perform_stats['BS'] = performance['blownSaves']\n",
    "perform_stats['IR'] = performance['inheritedRunners']\n",
    "perform_stats['IP'] = performance['inningsPitched']\n",
    "perform_stats['ERA'] = (9*performance['earnedRuns'])/perform_stats['IP']\n",
    "perform_stats['WHIP'] = (perform_stats['BB'] + perform_stats['H'])/perform_stats['IP']\n",
    "\n",
    "# Advanced Offence\n",
    "perform_stats['ISO'] = (perform_stats['B2']+2*perform_stats['B3']+3*perform_stats['HR'])/perform_stats['AB']\n",
    "perform_stats['BABIP'] = (perform_stats['H'] - perform_stats['HR'])/(\n",
    "    perform_stats['AB']-perform_stats['SO']-perform_stats['HR']+performance['sacFlies'])\n",
    "perform_stats['RC'] = perform_stats['TB']*(perform_stats['H']+perform_stats['BB'])/(\n",
    "    perform_stats['AB']+perform_stats['BB'])\n",
    "\n",
    "perform_stats['PA/SO'] = perform_stats['PA']/perform_stats['SO']\n",
    "perform_stats['K/BB'] = perform_stats['SO']/perform_stats['BB']\n",
    "\n",
    "perform_stats['GS'] = 40+6*perform_stats['Out']+perform_stats['SO']-2*performance['baseOnBallsPitching']-2*performance['hitsPitching']-3*performance['runsPitching']-6*performance['homeRunsPitching']"
   ]
  },
  {
   "cell_type": "code",
   "execution_count": 10,
   "id": "93a8b2e9",
   "metadata": {},
   "outputs": [],
   "source": [
    "select_perform = perform_stats[['playerId', 'gamePk', 'gameDate', 'gameTimeUTC', 'teamId', 'date', 'CS', 'IBB',\n",
    "                                'HBP','LOB', 'PA', 'TB', 'GIDP', 'RBI', 'BB', 'SO', 'AVG', 'SV_percnt', 'HLD','BS', 'IR', \n",
    "                                'IP', 'ERA', 'WHIP', 'ISO', 'BABIP', 'RC', 'PA/SO', 'K/BB', 'GS']]"
   ]
  },
  {
   "cell_type": "code",
   "execution_count": 11,
   "id": "ec0caae0",
   "metadata": {},
   "outputs": [],
   "source": [
    "playerBS_dict = {id: select_perform[select_perform['playerId']==id] for id in target_v['playerId'].unique()}    "
   ]
  },
  {
   "cell_type": "code",
   "execution_count": 12,
   "id": "e8e25cc7",
   "metadata": {},
   "outputs": [],
   "source": [
    "merge_1  = {}\n",
    "for key, df in target_dict.items():\n",
    "    df = target_dict[key].merge(playerBS_dict[key], on = ['date', 'playerId'], how = 'left')\n",
    "    merge_1[key] = df"
   ]
  },
  {
   "cell_type": "code",
   "execution_count": 13,
   "id": "926c2604",
   "metadata": {},
   "outputs": [
    {
     "data": {
      "text/plain": [
       "dict_keys(['playerBoxScores', 'teamBoxScores', 'playerTwitterFollowers', 'teamTwitterFollowers', 'awards', 'events', 'games', 'standings', 'rosters', 'transactions'])"
      ]
     },
     "execution_count": 13,
     "metadata": {},
     "output_type": "execute_result"
    }
   ],
   "source": [
    "train_dict.keys()"
   ]
  },
  {
   "cell_type": "code",
   "execution_count": 14,
   "id": "761e458f",
   "metadata": {},
   "outputs": [],
   "source": [
    "# train_dict['teamBoxScores'].columns"
   ]
  },
  {
   "cell_type": "code",
   "execution_count": 15,
   "id": "90549d6b",
   "metadata": {},
   "outputs": [],
   "source": [
    "select_awards = train_dict['awards'][['playerId', 'date', 'awardId']]"
   ]
  },
  {
   "cell_type": "code",
   "execution_count": 16,
   "id": "3ad624e1",
   "metadata": {},
   "outputs": [],
   "source": [
    "awards_dict = {id: select_awards[select_awards[\n",
    "    'playerId']==id] for id in target_v['playerId'].unique()}    "
   ]
  },
  {
   "cell_type": "code",
   "execution_count": 17,
   "id": "f24d5c47",
   "metadata": {},
   "outputs": [],
   "source": [
    "merge_2  = {}\n",
    "for key, df in target_dict.items():\n",
    "    df = merge_1[key].merge(awards_dict[key], on = ['date', 'playerId'], how = 'left')\n",
    "    merge_2[key] = df"
   ]
  },
  {
   "cell_type": "code",
   "execution_count": 18,
   "id": "b43ee54b",
   "metadata": {},
   "outputs": [],
   "source": [
    "select_stand = train_dict['standings'][['gameDate', 'divisionId', 'teamId', 'divisionRank', 'leagueRank', 'wildCardRank', \n",
    "                                         'pct', 'homeWins', 'xWinLossPct', 'date']]"
   ]
  },
  {
   "cell_type": "code",
   "execution_count": 19,
   "id": "cf6cfc2c",
   "metadata": {},
   "outputs": [],
   "source": [
    "# train_dict['standings'].head()\n",
    "merge_3  = {}\n",
    "for key, df in target_dict.items():\n",
    "    df = merge_2[key].merge(select_stand, on = ['date', 'teamId', 'gameDate'], how = 'left')\n",
    "    merge_3[key] = df"
   ]
  },
  {
   "cell_type": "code",
   "execution_count": 20,
   "id": "35282470",
   "metadata": {},
   "outputs": [],
   "source": [
    "select_rosters = train_dict['rosters'].drop(['status', 'index'], axis = 1)"
   ]
  },
  {
   "cell_type": "code",
   "execution_count": 21,
   "id": "8e3bbc91",
   "metadata": {},
   "outputs": [],
   "source": [
    "rosters_dict = {id: select_rosters[select_rosters['playerId']==id] for id in target_v['playerId'].unique()}"
   ]
  },
  {
   "cell_type": "code",
   "execution_count": 22,
   "id": "551b0fa5",
   "metadata": {},
   "outputs": [],
   "source": [
    "merge_4  = {}\n",
    "for key, df in target_dict.items():\n",
    "    df = merge_3[key].merge(rosters_dict[key], on = ['date', 'playerId', 'teamId', 'gameDate'], how = 'left')\n",
    "    merge_4[key] = df"
   ]
  },
  {
   "cell_type": "code",
   "execution_count": 23,
   "id": "725d3ea2",
   "metadata": {},
   "outputs": [],
   "source": [
    "select_games = train_dict['games'][['gamePk', 'gameType', 'gameTimeUTC', 'codedGameState', 'gameNumber',\n",
    "                                   'homeId', 'homeWinPct', 'homeScore',]]"
   ]
  },
  {
   "cell_type": "code",
   "execution_count": 24,
   "id": "1f403d16",
   "metadata": {},
   "outputs": [],
   "source": [
    "merge_5  = {}\n",
    "for key, df in target_dict.items():\n",
    "    df = merge_4[key].merge(select_games, on = ['gameTimeUTC', 'gamePk'], how = 'left')\n",
    "    merge_5[key] = df"
   ]
  },
  {
   "cell_type": "code",
   "execution_count": 25,
   "id": "594bc261",
   "metadata": {},
   "outputs": [],
   "source": [
    "team_stats = pd.DataFrame()\n",
    "performance_team = train_dict['teamBoxScores']\n",
    "team_stats['Out_team'] = performance_team['groundOuts'] + performance_team['strikeOuts'] + performance_team['flyOuts']\n",
    "\n",
    "# Offence\n",
    "team_stats['AB_team'] = performance_team['atBats']\n",
    "team_stats['B2_team'] = performance_team['doubles']\n",
    "team_stats['B3_team'] = performance_team['triples']\n",
    "team_stats['SB_team'] = performance_team['stolenBases']\n",
    "team_stats['CS_team'] = performance_team['caughtStealing']\n",
    "team_stats['H_team'] = performance_team['hits']\n",
    "team_stats['HR_team'] = performance_team['homeRuns']\n",
    "team_stats['IBB_team'] = performance_team['intentionalWalks']\n",
    "team_stats['HBP_team'] = performance_team['hitByPitch']\n",
    "team_stats['LOB_team'] = performance_team['leftOnBase']\n",
    "team_stats['PA_team'] = performance_team['plateAppearances']\n",
    "team_stats['TB_team'] = performance_team['totalBases']\n",
    "team_stats['GIDP_team'] = performance_team['groundIntoDoublePlay']\n",
    "team_stats['RBI_team'] = performance_team['rbi']\n",
    "team_stats['BB_team'] = performance_team['baseOnBalls']\n",
    "team_stats['SO_team'] = performance_team['strikeOuts']\n",
    "team_stats['AVG_team'] = team_stats['H_team']/team_stats['AB_team']\n",
    "\n",
    "\n",
    "# Pitching\n",
    "team_stats['IR_team'] = performance_team['inheritedRunners']\n",
    "team_stats['IP_team'] = performance_team['inningsPitched']\n",
    "team_stats['ERA_team'] = (9*performance_team['earnedRuns'])/team_stats['IP_team']\n",
    "team_stats['WHIP_team'] = (team_stats['BB_team'] + team_stats['H_team'])/team_stats['IP_team']\n",
    "\n",
    "# Advanced Offence\n",
    "team_stats['ISO_team'] = (team_stats['B2_team']+2*team_stats['B3_team']+3*team_stats['HR_team'])/team_stats['AB_team']\n",
    "team_stats['BABIP_team'] = (team_stats['H_team'] - team_stats['HR_team'])/(\n",
    "    team_stats['AB_team']-team_stats['SO_team']-team_stats['HR_team']+performance_team['sacFlies'])\n",
    "team_stats['RC_team'] = team_stats['TB_team']*(team_stats['H_team']+team_stats['BB_team'])/(\n",
    "    team_stats['AB_team']+team_stats['BB_team'])\n",
    "\n",
    "team_stats['PA/SO_team'] = team_stats['PA_team']/team_stats['SO_team']\n",
    "team_stats['K/BB_team'] = team_stats['SO_team']/team_stats['BB_team']"
   ]
  },
  {
   "cell_type": "code",
   "execution_count": 26,
   "id": "5c5cb079",
   "metadata": {},
   "outputs": [],
   "source": [
    "team_stats['Pytha_WR'] = train_dict['teamBoxScores']['runsScored']**2/(\n",
    "    train_dict['teamBoxScores']['runsScored']**2 + train_dict['teamBoxScores']['runsPitching']**2)"
   ]
  },
  {
   "cell_type": "code",
   "execution_count": 27,
   "id": "edc1c463",
   "metadata": {},
   "outputs": [],
   "source": [
    "team_stats.replace(np.inf, 0, inplace=True)"
   ]
  },
  {
   "cell_type": "code",
   "execution_count": 28,
   "id": "f611cefb",
   "metadata": {},
   "outputs": [],
   "source": [
    "team_stats[['teamId', 'gamePk', 'gameDate', 'gameTimeUTC', 'date']] = train_dict['teamBoxScores'][[\n",
    "    'teamId', 'gamePk', 'gameDate', 'gameTimeUTC', 'date']]"
   ]
  },
  {
   "cell_type": "code",
   "execution_count": 29,
   "id": "b6da97d2",
   "metadata": {},
   "outputs": [],
   "source": [
    "select_teamstat = team_stats[['IBB_team', 'HBP_team', 'LOB_team', 'PA_team',\n",
    "       'TB_team', 'GIDP_team', 'RBI_team', 'AVG_team',\n",
    "       'IR_team', 'IP_team', 'ERA_team', 'ISO_team', 'BABIP_team', 'RC_team',\n",
    "       'PA/SO_team', 'K/BB_team', 'Pytha_WR', 'teamId', 'gamePk', 'gameDate',\n",
    "       'gameTimeUTC', 'date']]"
   ]
  },
  {
   "cell_type": "code",
   "execution_count": 30,
   "id": "0e8c5806",
   "metadata": {},
   "outputs": [],
   "source": [
    "merge_6  = {}\n",
    "for key, df in target_dict.items():\n",
    "    df = merge_5[key].merge(select_teamstat, on = ['gamePk', 'gameDate', 'gameTimeUTC','teamId', 'date'], how = 'left')\n",
    "    merge_6[key] = df"
   ]
  },
  {
   "cell_type": "code",
   "execution_count": 31,
   "id": "0ff1b391",
   "metadata": {},
   "outputs": [],
   "source": [
    "select_playtwt = train_dict['playerTwitterFollowers'][['date', 'playerId', 'numberOfFollowers']]\n",
    "playtwt_dict = {id: select_playtwt[select_playtwt['playerId']==id] for id in target_v['playerId'].unique()}    \n",
    "\n",
    "merge_7  = {}\n",
    "for key, df in target_dict.items():\n",
    "    df = merge_6[key].merge(playtwt_dict[key], on = ['date', 'playerId'], how = 'left')\n",
    "    merge_7[key] = df"
   ]
  },
  {
   "cell_type": "code",
   "execution_count": 32,
   "id": "404be659",
   "metadata": {},
   "outputs": [],
   "source": [
    "select_playtwt = train_dict['teamTwitterFollowers'][['date', 'teamId', 'numberOfFollowers']]\n",
    "\n",
    "merge_8  = {}\n",
    "for key, df in target_dict.items():\n",
    "    df = merge_7[key].merge(select_playtwt, on = ['date', 'teamId'], how = 'left')\n",
    "    merge_8[key] = df"
   ]
  },
  {
   "cell_type": "code",
   "execution_count": 33,
   "id": "0ad32108",
   "metadata": {},
   "outputs": [],
   "source": [
    "# train_dict['events'].columns"
   ]
  },
  {
   "cell_type": "code",
   "execution_count": 34,
   "id": "07898027",
   "metadata": {},
   "outputs": [],
   "source": [
    "# select_events = train_dict['events'][['gamePk', 'gameDate', 'gameTimeUTC','gameType', 'eventId', \n",
    "#                                       'inning', 'halfInning', 'homeScore', 'pitcherTeamId', \n",
    "#                                      'hitterTeamId', 'pitchType', 'pitchType', 'date']]"
   ]
  },
  {
   "cell_type": "code",
   "execution_count": 35,
   "id": "0e46d758",
   "metadata": {},
   "outputs": [],
   "source": [
    "# merge_6  = {}\n",
    "# for key, df in target_dict.items():\n",
    "#     df = merge_5[key].merge(select_events, on = ['gamePk', 'gameDate', 'gameTimeUTC','gameType'], how = 'left')\n",
    "#     merge_6[key] = df"
   ]
  },
  {
   "cell_type": "markdown",
   "id": "6a3060ac",
   "metadata": {},
   "source": [
    "## Construct whole df"
   ]
  },
  {
   "cell_type": "code",
   "execution_count": 36,
   "id": "884e40e6",
   "metadata": {},
   "outputs": [],
   "source": [
    "df = pd.concat(merge_6.values() ,axis=0)\n",
    "df = df.drop(['gamePk', 'gameDate', 'gameTimeUTC', 'engagementMetricsDate'], axis = 1)\n",
    "df['pct'] = df['pct'].astype('float')"
   ]
  },
  {
   "cell_type": "code",
   "execution_count": 37,
   "id": "4b66cb50",
   "metadata": {},
   "outputs": [],
   "source": [
    "object_encode = df.select_dtypes(include=['object'])\n",
    "\n",
    "def label_encode(df, column):\n",
    "    func = {c: i for i, c in enumerate(df[column].unique()) if not pd.isna(c)}\n",
    "    df[column] = df[column].map(func)\n",
    "\n",
    "for col in object_encode.columns:\n",
    "    label_encode(object_encode, col)\n",
    "df[object_encode.columns] = object_encode"
   ]
  },
  {
   "cell_type": "code",
   "execution_count": 38,
   "id": "38a9fc6a",
   "metadata": {},
   "outputs": [],
   "source": [
    "df.replace(np.inf, 0, inplace=True)\n",
    "\n",
    "# df = df.drop(['teamId'], axis = 1)\n",
    "df = df.fillna(-99)\n",
    "# df = df[df.columns.difference(['engagementMetricsDate'])].astype('float32')"
   ]
  },
  {
   "cell_type": "code",
   "execution_count": 39,
   "id": "74004c72",
   "metadata": {},
   "outputs": [
    {
     "data": {
      "text/html": [
       "<div>\n",
       "<style scoped>\n",
       "    .dataframe tbody tr th:only-of-type {\n",
       "        vertical-align: middle;\n",
       "    }\n",
       "\n",
       "    .dataframe tbody tr th {\n",
       "        vertical-align: top;\n",
       "    }\n",
       "\n",
       "    .dataframe thead th {\n",
       "        text-align: right;\n",
       "    }\n",
       "</style>\n",
       "<table border=\"1\" class=\"dataframe\">\n",
       "  <thead>\n",
       "    <tr style=\"text-align: right;\">\n",
       "      <th></th>\n",
       "      <th>playerId</th>\n",
       "      <th>target1</th>\n",
       "      <th>target2</th>\n",
       "      <th>target3</th>\n",
       "      <th>target4</th>\n",
       "      <th>date</th>\n",
       "      <th>teamId</th>\n",
       "      <th>CS</th>\n",
       "      <th>IBB</th>\n",
       "      <th>HBP</th>\n",
       "      <th>...</th>\n",
       "      <th>AVG_team</th>\n",
       "      <th>IR_team</th>\n",
       "      <th>IP_team</th>\n",
       "      <th>ERA_team</th>\n",
       "      <th>ISO_team</th>\n",
       "      <th>BABIP_team</th>\n",
       "      <th>RC_team</th>\n",
       "      <th>PA/SO_team</th>\n",
       "      <th>K/BB_team</th>\n",
       "      <th>Pytha_WR</th>\n",
       "    </tr>\n",
       "  </thead>\n",
       "  <tbody>\n",
       "    <tr>\n",
       "      <th>0</th>\n",
       "      <td>628317</td>\n",
       "      <td>0.011167</td>\n",
       "      <td>4.474708</td>\n",
       "      <td>0.005168</td>\n",
       "      <td>5.735294</td>\n",
       "      <td>20180101</td>\n",
       "      <td>-99.0</td>\n",
       "      <td>-99.0</td>\n",
       "      <td>-99.0</td>\n",
       "      <td>-99.0</td>\n",
       "      <td>...</td>\n",
       "      <td>-99.0</td>\n",
       "      <td>-99.0</td>\n",
       "      <td>-99.0</td>\n",
       "      <td>-99.0</td>\n",
       "      <td>-99.0</td>\n",
       "      <td>-99.0</td>\n",
       "      <td>-99.0</td>\n",
       "      <td>-99.0</td>\n",
       "      <td>-99.0</td>\n",
       "      <td>-99.0</td>\n",
       "    </tr>\n",
       "    <tr>\n",
       "      <th>1</th>\n",
       "      <td>628317</td>\n",
       "      <td>0.006356</td>\n",
       "      <td>2.521008</td>\n",
       "      <td>0.001648</td>\n",
       "      <td>2.766917</td>\n",
       "      <td>20180102</td>\n",
       "      <td>-99.0</td>\n",
       "      <td>-99.0</td>\n",
       "      <td>-99.0</td>\n",
       "      <td>-99.0</td>\n",
       "      <td>...</td>\n",
       "      <td>-99.0</td>\n",
       "      <td>-99.0</td>\n",
       "      <td>-99.0</td>\n",
       "      <td>-99.0</td>\n",
       "      <td>-99.0</td>\n",
       "      <td>-99.0</td>\n",
       "      <td>-99.0</td>\n",
       "      <td>-99.0</td>\n",
       "      <td>-99.0</td>\n",
       "      <td>-99.0</td>\n",
       "    </tr>\n",
       "    <tr>\n",
       "      <th>2</th>\n",
       "      <td>628317</td>\n",
       "      <td>0.003556</td>\n",
       "      <td>2.380952</td>\n",
       "      <td>0.003624</td>\n",
       "      <td>3.439381</td>\n",
       "      <td>20180103</td>\n",
       "      <td>-99.0</td>\n",
       "      <td>-99.0</td>\n",
       "      <td>-99.0</td>\n",
       "      <td>-99.0</td>\n",
       "      <td>...</td>\n",
       "      <td>-99.0</td>\n",
       "      <td>-99.0</td>\n",
       "      <td>-99.0</td>\n",
       "      <td>-99.0</td>\n",
       "      <td>-99.0</td>\n",
       "      <td>-99.0</td>\n",
       "      <td>-99.0</td>\n",
       "      <td>-99.0</td>\n",
       "      <td>-99.0</td>\n",
       "      <td>-99.0</td>\n",
       "    </tr>\n",
       "    <tr>\n",
       "      <th>3</th>\n",
       "      <td>628317</td>\n",
       "      <td>0.003363</td>\n",
       "      <td>3.332367</td>\n",
       "      <td>0.012294</td>\n",
       "      <td>4.849601</td>\n",
       "      <td>20180104</td>\n",
       "      <td>-99.0</td>\n",
       "      <td>-99.0</td>\n",
       "      <td>-99.0</td>\n",
       "      <td>-99.0</td>\n",
       "      <td>...</td>\n",
       "      <td>-99.0</td>\n",
       "      <td>-99.0</td>\n",
       "      <td>-99.0</td>\n",
       "      <td>-99.0</td>\n",
       "      <td>-99.0</td>\n",
       "      <td>-99.0</td>\n",
       "      <td>-99.0</td>\n",
       "      <td>-99.0</td>\n",
       "      <td>-99.0</td>\n",
       "      <td>-99.0</td>\n",
       "    </tr>\n",
       "    <tr>\n",
       "      <th>4</th>\n",
       "      <td>628317</td>\n",
       "      <td>0.023976</td>\n",
       "      <td>1.440761</td>\n",
       "      <td>0.001501</td>\n",
       "      <td>2.371288</td>\n",
       "      <td>20180105</td>\n",
       "      <td>-99.0</td>\n",
       "      <td>-99.0</td>\n",
       "      <td>-99.0</td>\n",
       "      <td>-99.0</td>\n",
       "      <td>...</td>\n",
       "      <td>-99.0</td>\n",
       "      <td>-99.0</td>\n",
       "      <td>-99.0</td>\n",
       "      <td>-99.0</td>\n",
       "      <td>-99.0</td>\n",
       "      <td>-99.0</td>\n",
       "      <td>-99.0</td>\n",
       "      <td>-99.0</td>\n",
       "      <td>-99.0</td>\n",
       "      <td>-99.0</td>\n",
       "    </tr>\n",
       "  </tbody>\n",
       "</table>\n",
       "<p>5 rows × 63 columns</p>\n",
       "</div>"
      ],
      "text/plain": [
       "   playerId   target1   target2   target3   target4      date  teamId    CS  \\\n",
       "0    628317  0.011167  4.474708  0.005168  5.735294  20180101   -99.0 -99.0   \n",
       "1    628317  0.006356  2.521008  0.001648  2.766917  20180102   -99.0 -99.0   \n",
       "2    628317  0.003556  2.380952  0.003624  3.439381  20180103   -99.0 -99.0   \n",
       "3    628317  0.003363  3.332367  0.012294  4.849601  20180104   -99.0 -99.0   \n",
       "4    628317  0.023976  1.440761  0.001501  2.371288  20180105   -99.0 -99.0   \n",
       "\n",
       "    IBB   HBP  ...  AVG_team  IR_team  IP_team  ERA_team  ISO_team  \\\n",
       "0 -99.0 -99.0  ...     -99.0    -99.0    -99.0     -99.0     -99.0   \n",
       "1 -99.0 -99.0  ...     -99.0    -99.0    -99.0     -99.0     -99.0   \n",
       "2 -99.0 -99.0  ...     -99.0    -99.0    -99.0     -99.0     -99.0   \n",
       "3 -99.0 -99.0  ...     -99.0    -99.0    -99.0     -99.0     -99.0   \n",
       "4 -99.0 -99.0  ...     -99.0    -99.0    -99.0     -99.0     -99.0   \n",
       "\n",
       "   BABIP_team  RC_team  PA/SO_team  K/BB_team  Pytha_WR  \n",
       "0       -99.0    -99.0       -99.0      -99.0     -99.0  \n",
       "1       -99.0    -99.0       -99.0      -99.0     -99.0  \n",
       "2       -99.0    -99.0       -99.0      -99.0     -99.0  \n",
       "3       -99.0    -99.0       -99.0      -99.0     -99.0  \n",
       "4       -99.0    -99.0       -99.0      -99.0     -99.0  \n",
       "\n",
       "[5 rows x 63 columns]"
      ]
     },
     "execution_count": 39,
     "metadata": {},
     "output_type": "execute_result"
    }
   ],
   "source": [
    "df.head()"
   ]
  },
  {
   "cell_type": "markdown",
   "id": "1b29f703",
   "metadata": {},
   "source": [
    "## RandomForest Model"
   ]
  },
  {
   "cell_type": "code",
   "execution_count": 40,
   "id": "272874d7",
   "metadata": {},
   "outputs": [],
   "source": [
    "from sklearn.ensemble import RandomForestRegressor"
   ]
  },
  {
   "cell_type": "code",
   "execution_count": 41,
   "id": "941c01d6",
   "metadata": {},
   "outputs": [],
   "source": [
    "X_pre = df[df.columns.difference(['target1', 'target2', 'target3', 'target4', 'date'])]\n",
    "y = df[['playerId','target1', 'target2', 'target3', 'target4']]\n",
    "\n",
    "X_dict = {id: X_pre[X_pre['playerId']==id] for id in target_v['playerId'].unique()} "
   ]
  },
  {
   "cell_type": "code",
   "execution_count": 42,
   "id": "2e0e3d57",
   "metadata": {},
   "outputs": [],
   "source": [
    "regr = RandomForestRegressor(\n",
    "    max_depth=20, \n",
    "    max_features = 'sqrt', \n",
    "    min_samples_split = 6, \n",
    "    n_estimators = 200, \n",
    "    random_state=0)"
   ]
  },
  {
   "cell_type": "code",
   "execution_count": 43,
   "id": "a3feebbd",
   "metadata": {},
   "outputs": [
    {
     "name": "stdout",
     "output_type": "stream",
     "text": [
      "Wall time: 3min 47s\n"
     ]
    }
   ],
   "source": [
    "%%time\n",
    "fit_4 = regr.fit(X_pre.drop(['playerId'], axis = 1),y['target4'])"
   ]
  },
  {
   "cell_type": "code",
   "execution_count": 44,
   "id": "ad909b51",
   "metadata": {},
   "outputs": [],
   "source": [
    "filename = 'rf_models/esti_200/'+'model_y4_new.sav'\n",
    "pickle.dump(fit_4, open(filename, 'wb'))"
   ]
  },
  {
   "cell_type": "code",
   "execution_count": 45,
   "id": "f652ea39",
   "metadata": {},
   "outputs": [
    {
     "name": "stdout",
     "output_type": "stream",
     "text": [
      "Wall time: 3min 31s\n"
     ]
    }
   ],
   "source": [
    "%%time\n",
    "fit_3 = regr.fit(X_pre.drop(['playerId'], axis = 1),y['target3'])\n",
    "filename = 'rf_models/esti_200/'+'model_y3_new.sav'\n",
    "pickle.dump(fit_3, open(filename, 'wb'))"
   ]
  },
  {
   "cell_type": "code",
   "execution_count": 46,
   "id": "b2cb0c1c",
   "metadata": {},
   "outputs": [
    {
     "name": "stdout",
     "output_type": "stream",
     "text": [
      "Wall time: 3min 48s\n"
     ]
    }
   ],
   "source": [
    "%%time\n",
    "fit_2 = regr.fit(X_pre.drop(['playerId'], axis = 1),y['target2'])\n",
    "filename = 'rf_models/esti_200/'+'model_y2_new.sav'\n",
    "pickle.dump(fit_2, open(filename, 'wb'))"
   ]
  },
  {
   "cell_type": "code",
   "execution_count": 47,
   "id": "85923e54",
   "metadata": {},
   "outputs": [
    {
     "name": "stdout",
     "output_type": "stream",
     "text": [
      "Wall time: 3min 31s\n"
     ]
    }
   ],
   "source": [
    "%%time\n",
    "fit_1 = regr.fit(X_pre.drop(['playerId'], axis = 1),y['target1'])\n",
    "filename = 'rf_models/esti_200/'+'model_y1_new.sav'\n",
    "pickle.dump(fit_1, open(filename, 'wb'))"
   ]
  },
  {
   "cell_type": "code",
   "execution_count": 48,
   "id": "abda7a95",
   "metadata": {},
   "outputs": [
    {
     "name": "stdout",
     "output_type": "stream",
     "text": [
      "1\n",
      "2\n",
      "3\n",
      "4\n"
     ]
    }
   ],
   "source": [
    "features = pd.DataFrame(index = X_pre.drop(['playerId'], axis = 1).columns)\n",
    "for i in range(1,5):\n",
    "    print(i)\n",
    "    filename = 'rf_models/esti_200/'+'model_y'+str(i)+'_new.sav'\n",
    "    loaded_model = pickle.load(open(filename, 'rb'))\n",
    "    col_name = 'y'+str(i)\n",
    "    features[col_name] = loaded_model.feature_importances_"
   ]
  },
  {
   "cell_type": "code",
   "execution_count": 49,
   "id": "7df9ca00",
   "metadata": {},
   "outputs": [],
   "source": [
    "stand_features = ['divisionRank', 'leagueRank', 'wildCardRank', 'pct', 'xWinLossPct']\n",
    "games_features = ['gameType','codedGameState', 'gameNumber', 'homeId', 'homeWinPct', 'homeScore', 'homeWins']\n",
    "team_features = ['teamId', 'IBB_team', 'HBP_team', 'LOB_team', 'PA_team', 'TB_team', 'GIDP_team', 'RBI_team', 'AVG_team','IR_team',\n",
    "                  'IP_team', 'ERA_team', 'ISO_team', 'BABIP_team', 'RC_team', 'PA/SO_team', 'K/BB_team', 'Pytha_WR']\n",
    "player_features = ['awardId', 'CS', 'IBB', 'HBP','LOB', 'PA', 'TB', 'GIDP', 'RBI', 'BB', 'SO', 'AVG', 'SV_percnt', 'HLD','BS', 'IR',\n",
    "                    'IP', 'ERA', 'WHIP', 'ISO', 'BABIP', 'RC', 'PA/SO', 'K/BB', 'GS', 'statusCode']"
   ]
  },
  {
   "cell_type": "code",
   "execution_count": 50,
   "id": "a2c23cbe",
   "metadata": {},
   "outputs": [],
   "source": [
    "y1_15 = features['y1'].sort_values(ascending = False)[:15]\n",
    "y2_15 = features['y2'].sort_values(ascending = False)[:15]\n",
    "y3_15 = features['y3'].sort_values(ascending = False)[:15]\n",
    "y4_15 = features['y4'].sort_values(ascending = False)[:15]"
   ]
  },
  {
   "cell_type": "code",
   "execution_count": 51,
   "id": "078bf998",
   "metadata": {},
   "outputs": [],
   "source": [
    "colors1 = []\n",
    "for value in y1_15.index:\n",
    "    if value in stand_features:\n",
    "        colors1.append('r')\n",
    "    elif value in games_features:\n",
    "        colors1.append('b')\n",
    "    elif value in team_features:\n",
    "        colors1.append('g')\n",
    "    elif value in player_features:\n",
    "        colors1.append('y')\n",
    "\n",
    "colors2 = []\n",
    "for value in y2_15.index:\n",
    "    if value in stand_features:\n",
    "        colors2.append('r')\n",
    "    elif value in games_features:\n",
    "        colors2.append('b')\n",
    "    elif value in team_features:\n",
    "        colors2.append('g')\n",
    "    elif value in player_features:\n",
    "        colors2.append('y')\n",
    "        \n",
    "colors3 = []\n",
    "for value in y3_15.index:\n",
    "    if value in stand_features:\n",
    "        colors3.append('r')\n",
    "    elif value in games_features:\n",
    "        colors3.append('b')\n",
    "    elif value in team_features:\n",
    "        colors3.append('g')\n",
    "    elif value in player_features:\n",
    "        colors3.append('y')\n",
    "        \n",
    "colors4 = []\n",
    "for value in y4_15.index:\n",
    "    if value in stand_features:\n",
    "        colors4.append('r')\n",
    "    elif value in games_features:\n",
    "        colors4.append('b')\n",
    "    elif value in team_features:\n",
    "        colors4.append('g')\n",
    "    elif value in player_features:\n",
    "        colors4.append('y')"
   ]
  },
  {
   "cell_type": "code",
   "execution_count": 52,
   "id": "ee40f52e",
   "metadata": {},
   "outputs": [
    {
     "data": {
      "text/plain": [
       "Text(0.5, 1.0, 'feature importance for y4')"
      ]
     },
     "execution_count": 52,
     "metadata": {},
     "output_type": "execute_result"
    },
    {
     "data": {
      "image/png": "[encoded data removed]",
      "text/plain": [
       "<Figure size 1152x720 with 4 Axes>"
      ]
     },
     "metadata": {
      "needs_background": "light"
     },
     "output_type": "display_data"
    }
   ],
   "source": [
    "# plt.figure(figsize = (10,10))\n",
    "fig, axs = plt.subplots(2, 2, figsize = (16,10), sharex = True)\n",
    "axs[0, 0].barh(y1_15[:10].index, y1_15[:10], color=colors1)\n",
    "axs[0, 0].set_title('feature importance for y1')\n",
    "axs[0, 1].barh(y2_15[:10].index, y2_15[:10], color=colors2)\n",
    "axs[0, 1].set_title('feature importance for y2')\n",
    "axs[1, 0].barh(y3_15[:10].index, y3_15[:10], color=colors3)\n",
    "axs[1, 0].set_title('feature importance for y3')\n",
    "axs[1, 1].barh(y4_15[:10].index, y4_15[:10], color=colors4)\n",
    "axs[1, 1].set_title('feature importance for y4')"
   ]
  },
  {
   "cell_type": "code",
   "execution_count": 53,
   "id": "6f85cccf",
   "metadata": {},
   "outputs": [],
   "source": [
    "y1_all = features['y1'].sort_values(ascending = True)\n",
    "y2_all = features['y2'].sort_values(ascending = True)\n",
    "y3_all = features['y3'].sort_values(ascending = True)\n",
    "y4_all = features['y4'].sort_values(ascending = True)\n",
    "\n",
    "fcolors1 = []\n",
    "for value in y1_all.index:\n",
    "    if value in stand_features:\n",
    "        fcolors1.append('r')\n",
    "    elif value in games_features:\n",
    "        fcolors1.append('b')\n",
    "    elif value in team_features:\n",
    "        fcolors1.append('g')\n",
    "    elif value in player_features:\n",
    "        fcolors1.append('y')\n",
    "\n",
    "fcolors2 = []\n",
    "for value in y2_all.index:\n",
    "    if value in stand_features:\n",
    "        fcolors2.append('r')\n",
    "    elif value in games_features:\n",
    "        fcolors2.append('b')\n",
    "    elif value in team_features:\n",
    "        fcolors2.append('g')\n",
    "    elif value in player_features:\n",
    "        fcolors2.append('y')\n",
    "        \n",
    "fcolors3 = []\n",
    "for value in y3_all.index:\n",
    "    if value in stand_features:\n",
    "        fcolors3.append('r')\n",
    "    elif value in games_features:\n",
    "        fcolors3.append('b')\n",
    "    elif value in team_features:\n",
    "        fcolors3.append('g')\n",
    "    elif value in player_features:\n",
    "        fcolors3.append('y')\n",
    "        \n",
    "fcolors4 = []\n",
    "for value in y4_all.index:\n",
    "    if value in stand_features:\n",
    "        fcolors4.append('r')\n",
    "    elif value in games_features:\n",
    "        fcolors4.append('b')\n",
    "    elif value in team_features:\n",
    "        fcolors4.append('g')\n",
    "    elif value in player_features:\n",
    "        fcolors4.append('y')"
   ]
  },
  {
   "cell_type": "code",
   "execution_count": 54,
   "id": "d0f77112",
   "metadata": {},
   "outputs": [
    {
     "data": {
      "text/plain": [
       "Text(0.5, 1.0, 'feature importance for y4')"
      ]
     },
     "execution_count": 54,
     "metadata": {},
     "output_type": "execute_result"
    },
    {
     "data": {
      "image/png": "[encoded data removed]",
      "text/plain": [
       "<Figure size 1440x2160 with 4 Axes>"
      ]
     },
     "metadata": {
      "needs_background": "light"
     },
     "output_type": "display_data"
    }
   ],
   "source": [
    "# plt.figure(figsize = (30,20))\n",
    "fig, axs = plt.subplots(2, 2, figsize = (20,30), sharex = True)\n",
    "axs[0, 0].barh(y1_all.index, y1_all, color = fcolors1)\n",
    "axs[0, 0].set_title('feature importance for y1')\n",
    "axs[0, 1].barh(y2_all.index, y2_all, color = fcolors2)\n",
    "axs[0, 1].set_title('feature importance for y2')\n",
    "axs[1, 0].barh(y3_all.index, y3_all, color = fcolors3)\n",
    "axs[1, 0].set_title('feature importance for y3')\n",
    "axs[1, 1].barh(y4_all.index, y4_all, color = fcolors4)\n",
    "axs[1, 1].set_title('feature importance for y4')"
   ]
  },
  {
   "cell_type": "code",
   "execution_count": 55,
   "id": "2a252f8d",
   "metadata": {},
   "outputs": [],
   "source": [
    "stand_imp = features.T[stand_features]\n",
    "games_imp = features.T[games_features]\n",
    "team_imp = features.T[team_features]\n",
    "player_imp = features.T[player_features]"
   ]
  },
  {
   "cell_type": "code",
   "execution_count": 56,
   "id": "2ecf26c3",
   "metadata": {},
   "outputs": [],
   "source": [
    "grouped_feature = pd.DataFrame(columns = ['standings', 'games', 'team_perform', 'player_perform'])"
   ]
  },
  {
   "cell_type": "code",
   "execution_count": 57,
   "id": "c9c82fe4",
   "metadata": {},
   "outputs": [],
   "source": [
    "grouped_feature['standings'] = stand_imp.mean(axis = 1)\n",
    "grouped_feature['games'] = games_imp.mean(axis = 1)\n",
    "grouped_feature['team_perform'] = team_imp.mean(axis = 1)\n",
    "grouped_feature['player_perform'] = player_imp.mean(axis = 1)"
   ]
  },
  {
   "cell_type": "code",
   "execution_count": 58,
   "id": "a0851bd7",
   "metadata": {},
   "outputs": [
    {
     "data": {
      "text/html": [
       "<div>\n",
       "<style scoped>\n",
       "    .dataframe tbody tr th:only-of-type {\n",
       "        vertical-align: middle;\n",
       "    }\n",
       "\n",
       "    .dataframe tbody tr th {\n",
       "        vertical-align: top;\n",
       "    }\n",
       "\n",
       "    .dataframe thead th {\n",
       "        text-align: right;\n",
       "    }\n",
       "</style>\n",
       "<table border=\"1\" class=\"dataframe\">\n",
       "  <thead>\n",
       "    <tr style=\"text-align: right;\">\n",
       "      <th></th>\n",
       "      <th>standings</th>\n",
       "      <th>games</th>\n",
       "      <th>team_perform</th>\n",
       "      <th>player_perform</th>\n",
       "    </tr>\n",
       "  </thead>\n",
       "  <tbody>\n",
       "    <tr>\n",
       "      <th>y1</th>\n",
       "      <td>0.021122</td>\n",
       "      <td>0.014621</td>\n",
       "      <td>0.017831</td>\n",
       "      <td>0.017509</td>\n",
       "    </tr>\n",
       "    <tr>\n",
       "      <th>y2</th>\n",
       "      <td>0.020632</td>\n",
       "      <td>0.012864</td>\n",
       "      <td>0.016492</td>\n",
       "      <td>0.019099</td>\n",
       "    </tr>\n",
       "    <tr>\n",
       "      <th>y3</th>\n",
       "      <td>0.023648</td>\n",
       "      <td>0.018883</td>\n",
       "      <td>0.021400</td>\n",
       "      <td>0.013473</td>\n",
       "    </tr>\n",
       "    <tr>\n",
       "      <th>y4</th>\n",
       "      <td>0.021316</td>\n",
       "      <td>0.016617</td>\n",
       "      <td>0.019403</td>\n",
       "      <td>0.015887</td>\n",
       "    </tr>\n",
       "  </tbody>\n",
       "</table>\n",
       "</div>"
      ],
      "text/plain": [
       "    standings     games  team_perform  player_perform\n",
       "y1   0.021122  0.014621      0.017831        0.017509\n",
       "y2   0.020632  0.012864      0.016492        0.019099\n",
       "y3   0.023648  0.018883      0.021400        0.013473\n",
       "y4   0.021316  0.016617      0.019403        0.015887"
      ]
     },
     "execution_count": 58,
     "metadata": {},
     "output_type": "execute_result"
    }
   ],
   "source": [
    "grouped_feature"
   ]
  },
  {
   "cell_type": "code",
   "execution_count": 59,
   "id": "020b80b2",
   "metadata": {},
   "outputs": [],
   "source": [
    "grouped_feature['target'] = grouped_feature.index"
   ]
  },
  {
   "cell_type": "code",
   "execution_count": 60,
   "id": "0f7ea6b2",
   "metadata": {},
   "outputs": [],
   "source": [
    "grouped_feature['sum'] = grouped_feature.sum(axis = 1)"
   ]
  },
  {
   "cell_type": "code",
   "execution_count": 61,
   "id": "a0439f72",
   "metadata": {},
   "outputs": [],
   "source": [
    "grouped_feature['standings'], grouped_feature['games'], grouped_feature['team_perform'], grouped_feature['player_perform'] =grouped_feature['standings']/grouped_feature['sum'], grouped_feature['games']/grouped_feature['sum'], grouped_feature['team_perform']/grouped_feature['sum'], grouped_feature['player_perform']/grouped_feature['sum']"
   ]
  },
  {
   "cell_type": "code",
   "execution_count": 62,
   "id": "a5e51369",
   "metadata": {},
   "outputs": [],
   "source": [
    "grouped_feature = grouped_feature.drop(['sum'], axis = 1)"
   ]
  },
  {
   "cell_type": "code",
   "execution_count": 63,
   "id": "e391e4cb",
   "metadata": {},
   "outputs": [
    {
     "data": {
      "text/plain": [
       "<AxesSubplot:>"
      ]
     },
     "execution_count": 63,
     "metadata": {},
     "output_type": "execute_result"
    },
    {
     "data": {
      "image/png": "[encoded data removed]",
      "text/plain": [
       "<Figure size 864x288 with 1 Axes>"
      ]
     },
     "metadata": {
      "needs_background": "light"
     },
     "output_type": "display_data"
    }
   ],
   "source": [
    "grouped_feature.plot(kind = 'barh', stacked = True, figsize = (12,4))"
   ]
  },
  {
   "cell_type": "markdown",
   "id": "4c0ec07c",
   "metadata": {},
   "source": [
    "### Start feature importances plots"
   ]
  },
  {
   "cell_type": "code",
   "execution_count": 64,
   "id": "2074e3f7",
   "metadata": {},
   "outputs": [],
   "source": [
    "modelpath1 = 'rf_models/esti_200/y1' \n",
    "if not os.path.exists(modelpath1):\n",
    "    os.makedirs(modelpath1)\n",
    "    \n",
    "modelpath2 = 'rf_models/esti_200/y2' \n",
    "if not os.path.exists(modelpath2):\n",
    "    os.makedirs(modelpath2)\n",
    "    \n",
    "modelpath3 = 'rf_models/esti_200/y3' \n",
    "if not os.path.exists(modelpath3):\n",
    "    os.makedirs(modelpath3)\n",
    "    \n",
    "modelpath4 = 'rf_models/esti_200/y4' \n",
    "if not os.path.exists(modelpath4):\n",
    "    os.makedirs(modelpath4)\n",
    "    \n",
    "figpath = 'plots/' \n",
    "if not os.path.exists(figpath):\n",
    "    os.makedirs(figpath)"
   ]
  },
  {
   "cell_type": "code",
   "execution_count": 65,
   "id": "ebca3ab9",
   "metadata": {},
   "outputs": [
    {
     "name": "stdout",
     "output_type": "stream",
     "text": [
      "Wall time: 40.1 s\n"
     ]
    }
   ],
   "source": [
    "%%time\n",
    "regr_dict_y1 = {}\n",
    "feature_imp_y1 = pd.DataFrame(columns = X_dict[112526].drop(['playerId', 'awardId'], axis = 1).columns).T\n",
    "for key, item in X_dict.items():\n",
    "    if os.path.isfile(\"rf_models/esti_200/y1/\"+ str(key)+\"_model_y1.sav\"):\n",
    "        with open(\"rf_models/esti_200/y1/\"+ str(key)+\"_model_y1.sav\", 'rb') as fin:\n",
    "            regr_dict_y1[key] = pickle.load(fin)\n",
    "            feature_imp_y1[key] = regr_dict_y1[key].feature_importances_\n",
    "    else:\n",
    "        regr_dict_y1[key] = regr.fit(X_dict[key].drop(['playerId', 'awardId'], axis = 1), y[y['playerId'] == key]['target1'])\n",
    "        feature_imp_y1[key] = regr_dict_y1[key].feature_importances_\n",
    "        filename = str(key)+'_model_y1.sav'\n",
    "        pickle.dump(regr_dict_y1[key], open(modelpath1 +'/'+ filename, 'wb'))"
   ]
  },
  {
   "cell_type": "code",
   "execution_count": 66,
   "id": "a42f3e1e",
   "metadata": {},
   "outputs": [
    {
     "ename": "NameError",
     "evalue": "name 'feature_imp_y2' is not defined",
     "output_type": "error",
     "traceback": [
      "\u001b[1;31m---------------------------------------------------------------------------\u001b[0m",
      "\u001b[1;31mNameError\u001b[0m                                 Traceback (most recent call last)",
      "\u001b[1;32m<ipython-input-66-3665a60e0042>\u001b[0m in \u001b[0;36m<module>\u001b[1;34m\u001b[0m\n\u001b[0;32m      1\u001b[0m \u001b[0mfeature_mean\u001b[0m \u001b[1;33m=\u001b[0m \u001b[0mpd\u001b[0m\u001b[1;33m.\u001b[0m\u001b[0mDataFrame\u001b[0m\u001b[1;33m(\u001b[0m\u001b[1;33m)\u001b[0m\u001b[1;33m\u001b[0m\u001b[1;33m\u001b[0m\u001b[0m\n\u001b[0;32m      2\u001b[0m \u001b[0mfeature_mean\u001b[0m\u001b[1;33m[\u001b[0m\u001b[1;34m'y1'\u001b[0m\u001b[1;33m]\u001b[0m \u001b[1;33m=\u001b[0m \u001b[0mfeature_imp_y1\u001b[0m\u001b[1;33m.\u001b[0m\u001b[0mmean\u001b[0m\u001b[1;33m(\u001b[0m\u001b[0maxis\u001b[0m \u001b[1;33m=\u001b[0m \u001b[1;36m1\u001b[0m\u001b[1;33m)\u001b[0m\u001b[1;33m\u001b[0m\u001b[1;33m\u001b[0m\u001b[0m\n\u001b[1;32m----> 3\u001b[1;33m \u001b[0mfeature_mean\u001b[0m\u001b[1;33m[\u001b[0m\u001b[1;34m'y2'\u001b[0m\u001b[1;33m]\u001b[0m \u001b[1;33m=\u001b[0m \u001b[0mfeature_imp_y2\u001b[0m\u001b[1;33m.\u001b[0m\u001b[0mmean\u001b[0m\u001b[1;33m(\u001b[0m\u001b[0maxis\u001b[0m \u001b[1;33m=\u001b[0m \u001b[1;36m1\u001b[0m\u001b[1;33m)\u001b[0m\u001b[1;33m\u001b[0m\u001b[1;33m\u001b[0m\u001b[0m\n\u001b[0m\u001b[0;32m      4\u001b[0m \u001b[0mfeature_mean\u001b[0m\u001b[1;33m[\u001b[0m\u001b[1;34m'y3'\u001b[0m\u001b[1;33m]\u001b[0m \u001b[1;33m=\u001b[0m \u001b[0mfeature_imp_y3\u001b[0m\u001b[1;33m.\u001b[0m\u001b[0mmean\u001b[0m\u001b[1;33m(\u001b[0m\u001b[0maxis\u001b[0m \u001b[1;33m=\u001b[0m \u001b[1;36m1\u001b[0m\u001b[1;33m)\u001b[0m\u001b[1;33m\u001b[0m\u001b[1;33m\u001b[0m\u001b[0m\n\u001b[0;32m      5\u001b[0m \u001b[0mfeature_mean\u001b[0m\u001b[1;33m[\u001b[0m\u001b[1;34m'y4'\u001b[0m\u001b[1;33m]\u001b[0m \u001b[1;33m=\u001b[0m \u001b[0mfeature_imp_y4\u001b[0m\u001b[1;33m.\u001b[0m\u001b[0mmean\u001b[0m\u001b[1;33m(\u001b[0m\u001b[0maxis\u001b[0m \u001b[1;33m=\u001b[0m \u001b[1;36m1\u001b[0m\u001b[1;33m)\u001b[0m\u001b[1;33m\u001b[0m\u001b[1;33m\u001b[0m\u001b[0m\n",
      "\u001b[1;31mNameError\u001b[0m: name 'feature_imp_y2' is not defined"
     ]
    }
   ],
   "source": [
    "feature_mean = pd.DataFrame()\n",
    "feature_mean['y1'] = feature_imp_y1.mean(axis = 1)\n",
    "feature_mean['y2'] = feature_imp_y2.mean(axis = 1)\n",
    "feature_mean['y3'] = feature_imp_y3.mean(axis = 1)\n",
    "feature_mean['y4'] = feature_imp_y4.mean(axis = 1)\n",
    "feature_mean['mean'] = feature_mean.mean(axis = 1)"
   ]
  },
  {
   "cell_type": "code",
   "execution_count": null,
   "id": "0ab599a4",
   "metadata": {},
   "outputs": [],
   "source": [
    "mean_index = feature_mean.sort_values('mean', ascending = False).index"
   ]
  },
  {
   "cell_type": "code",
   "execution_count": null,
   "id": "d07b218b",
   "metadata": {},
   "outputs": [],
   "source": [
    "mean_index"
   ]
  },
  {
   "cell_type": "code",
   "execution_count": null,
   "id": "29bee5bf",
   "metadata": {},
   "outputs": [],
   "source": [
    "# plt.figure(figsize = (16,12))\n",
    "# sns.heatmap(feature_imp_y1, vmax = 0.15, xticklabels=False)\n",
    "# plt.savefig('plots/y1_200.jpg')"
   ]
  },
  {
   "cell_type": "code",
   "execution_count": null,
   "id": "17487ab3",
   "metadata": {},
   "outputs": [],
   "source": [
    "%%time\n",
    "regr_dict_y2 = {}\n",
    "feature_imp_y2 = pd.DataFrame(columns = X_dict[112526].drop(['playerId', 'awardId'], axis = 1).columns).T\n",
    "for key, item in X_dict.items():\n",
    "    if os.path.isfile(\"rf_models/esti_200/y2/\"+ str(key)+\"_model_y2.sav\"):\n",
    "        with open(\"rf_models/esti_200/y2/\"+ str(key)+\"_model_y2.sav\", 'rb') as fin:\n",
    "            regr_dict_y2[key] = pickle.load(fin)\n",
    "            feature_imp_y2[key] = regr_dict_y2[key].feature_importances_\n",
    "    else:\n",
    "        regr_dict_y2[key] = regr.fit(X_dict[key].drop(['playerId', 'awardId'], axis = 1), y[y['playerId'] == key]['target2'])\n",
    "        feature_imp_y2[key] = regr_dict_y2[key].feature_importances_\n",
    "        filename = str(key)+'_model_y2.sav'\n",
    "        pickle.dump(regr_dict_y2[key], open(modelpath2 +'/'+ filename, 'wb'))"
   ]
  },
  {
   "cell_type": "code",
   "execution_count": null,
   "id": "4f16012d",
   "metadata": {},
   "outputs": [],
   "source": [
    "feature_imp_y2.shape"
   ]
  },
  {
   "cell_type": "code",
   "execution_count": null,
   "id": "f4203a19",
   "metadata": {},
   "outputs": [],
   "source": [
    "# plt.figure(figsize = (16,12))\n",
    "# sns.heatmap(feature_imp_y2, vmax = 0.15, xticklabels=False)\n",
    "# # plt.savefig('plots/y2_200.jpg')"
   ]
  },
  {
   "cell_type": "code",
   "execution_count": null,
   "id": "fcd8d1c9",
   "metadata": {},
   "outputs": [],
   "source": [
    "%%time\n",
    "regr_dict_y3 = {}\n",
    "feature_imp_y3 = pd.DataFrame(columns = X_dict[112526].drop(['playerId', 'awardId'], axis = 1).columns).T\n",
    "for key, item in X_dict.items():\n",
    "    if os.path.isfile(\"rf_models/esti_200/y3/\"+ str(key)+\"_model_y3.sav\"):\n",
    "        with open(\"rf_models/esti_200/y3/\"+ str(key)+\"_model_y3.sav\", 'rb') as fin:\n",
    "            regr_dict_y3[key] = pickle.load(fin)\n",
    "            feature_imp_y3[key] = regr_dict_y3[key].feature_importances_\n",
    "    else:\n",
    "        regr_dict_y3[key] = regr.fit(X_dict[key].drop(['playerId', 'awardId'], axis = 1), y[y['playerId'] == key]['target3'])\n",
    "        feature_imp_y3[key] = regr_dict_y3[key].feature_importances_\n",
    "        filename = str(key)+'_model_y3.sav'\n",
    "        pickle.dump(regr_dict_y3[key], open(modelpath3 +'/'+ filename, 'wb'))"
   ]
  },
  {
   "cell_type": "code",
   "execution_count": null,
   "id": "7915059e",
   "metadata": {},
   "outputs": [],
   "source": [
    "# plt.figure(figsize = (16,12))\n",
    "# sns.heatmap(feature_imp_y3, vmax = 0.15, xticklabels=False)\n",
    "# # plt.savefig('plots/y3_200.jpg')"
   ]
  },
  {
   "cell_type": "code",
   "execution_count": null,
   "id": "f277db5d",
   "metadata": {},
   "outputs": [],
   "source": [
    "%%time\n",
    "regr_dict_y4 = {}\n",
    "feature_imp_y4 = pd.DataFrame(columns = X_dict[112526].drop(['playerId', 'awardId'], axis = 1).columns).T\n",
    "for key, item in X_dict.items():\n",
    "    if os.path.isfile(\"rf_models/esti_200/y4/\"+ str(key)+\"_model_y4.sav\"):\n",
    "        with open(\"rf_models/esti_200/y4/\"+ str(key)+\"_model_y4.sav\", 'rb') as fin:\n",
    "            regr_dict_y4[key] = pickle.load(fin)\n",
    "            feature_imp_y4[key] = regr_dict_y4[key].feature_importances_\n",
    "    else:\n",
    "        regr_dict_y4[key] = regr.fit(X_dict[key].drop(['playerId', 'awardId'], axis = 1), y[y['playerId'] == key]['target4'])\n",
    "        feature_imp_y4[key] = regr_dict_y4[key].feature_importances_\n",
    "        filename = str(key)+'_model_y4.sav'\n",
    "        pickle.dump(regr_dict_y4[key], open(modelpath4 +'/'+ filename, 'wb'))"
   ]
  },
  {
   "cell_type": "code",
   "execution_count": null,
   "id": "7d8f1041",
   "metadata": {},
   "outputs": [],
   "source": [
    "# plt.figure(figsize = (16,12))\n",
    "# sns.heatmap(feature_imp_y4, vmax = 0.15, xticklabels=False)\n",
    "# # plt.savefig('plots/y4_200.jpg')"
   ]
  },
  {
   "cell_type": "code",
   "execution_count": null,
   "id": "30035a90",
   "metadata": {},
   "outputs": [],
   "source": [
    "# def zero_to_nan(values):\n",
    "#     return [float('nan') if x==0 else x for x in values]"
   ]
  },
  {
   "cell_type": "code",
   "execution_count": null,
   "id": "08ca3678",
   "metadata": {},
   "outputs": [],
   "source": [
    "# feature_imp = feature_imp_y1.copy()"
   ]
  },
  {
   "cell_type": "code",
   "execution_count": null,
   "id": "48bfa46a",
   "metadata": {},
   "outputs": [],
   "source": [
    "fig, axes = plt.subplots(10, 4, figsize=(10,40))\n",
    "# sns.distplot(feature_imp_y1.T['homeWinPct'], ax = axes[0,0])\n",
    "# sns.distplot(feature_imp_y1.T['ISO_team'], ax = axes[0,1])\n",
    "\n",
    "for i,j in enumerate(mean_index[:10]):\n",
    "    sns.distplot(feature_imp_y1.T[j], ax = axes[i,0])\n",
    "    sns.distplot(feature_imp_y2.T[j], ax = axes[i,1])\n",
    "    sns.distplot(feature_imp_y3.T[j], ax = axes[i,2])\n",
    "    sns.distplot(feature_imp_y4.T[j], ax = axes[i,3])\n",
    "plt.show()"
   ]
  },
  {
   "cell_type": "markdown",
   "id": "69c96c48",
   "metadata": {},
   "source": [
    "### Add twitter columns "
   ]
  },
  {
   "cell_type": "code",
   "execution_count": null,
   "id": "aa0375cf",
   "metadata": {},
   "outputs": [],
   "source": [
    "select_playtwt = train_dict['playerTwitterFollowers'][['date', 'playerId', 'numberOfFollowers']]\n",
    "playtwt_dict = {id: select_playtwt[select_playtwt['playerId']==id] for id in target_v['playerId'].unique()}    \n",
    "\n",
    "merge_7  = {}\n",
    "for key, df in target_dict.items():\n",
    "    df = merge_6[key].merge(playtwt_dict[key], on = ['date', 'playerId'], how = 'left')\n",
    "    merge_7[key] = df"
   ]
  },
  {
   "cell_type": "code",
   "execution_count": null,
   "id": "0b79cdfa",
   "metadata": {},
   "outputs": [],
   "source": [
    "select_playtwt = train_dict['teamTwitterFollowers'][['date', 'teamId', 'numberOfFollowers']]\n",
    "\n",
    "merge_8  = {}\n",
    "for key, df in target_dict.items():\n",
    "    df = merge_7[key].merge(select_playtwt, on = ['date', 'teamId'], how = 'left')\n",
    "    merge_8[key] = df"
   ]
  },
  {
   "cell_type": "markdown",
   "id": "006e33e8",
   "metadata": {},
   "source": [
    "Players who have their twitter details recorded in the dataset are taken as \"major\" players, are their engagement higher than other players?"
   ]
  },
  {
   "cell_type": "code",
   "execution_count": null,
   "id": "266086dd",
   "metadata": {},
   "outputs": [],
   "source": [
    "players_twitter = {}\n",
    "players_notwit = {}\n",
    "for key, item in merge_8.items():\n",
    "    if merge_8[key]['numberOfFollowers_x'].fillna(-1).max()== -1:\n",
    "        players_notwit[key] = merge_8[key]\n",
    "    else:\n",
    "        players_twitter[key] = merge_8[key]"
   ]
  },
  {
   "cell_type": "code",
   "execution_count": null,
   "id": "31b583aa",
   "metadata": {},
   "outputs": [],
   "source": [
    "team_twitter = {}\n",
    "team_notwit = {}\n",
    "for key, item in merge_8.items():\n",
    "    if merge_8[key]['numberOfFollowers_y'].fillna(-1).max()== -1:\n",
    "        team_notwit[key] = merge_8[key]\n",
    "    else:\n",
    "        team_twitter[key] = merge_8[key]"
   ]
  },
  {
   "cell_type": "code",
   "execution_count": null,
   "id": "4bf4ccc9",
   "metadata": {},
   "outputs": [],
   "source": [
    "play_tw_y1 = pd.DataFrame()\n",
    "play_tw_y2 = pd.DataFrame()\n",
    "play_tw_y3 = pd.DataFrame()\n",
    "play_tw_y4 = pd.DataFrame()\n",
    "\n",
    "for key, item in players_twitter.items():\n",
    "    play_tw_y1[key] = players_twitter[key]['target1']\n",
    "    play_tw_y2[key] = players_twitter[key]['target2']\n",
    "    play_tw_y3[key] = players_twitter[key]['target3']\n",
    "    play_tw_y4[key] = players_twitter[key]['target4']\n",
    "\n",
    "play_nt_y1 = pd.DataFrame()\n",
    "play_nt_y2 = pd.DataFrame()\n",
    "play_nt_y3 = pd.DataFrame()\n",
    "play_nt_y4 = pd.DataFrame()\n",
    "\n",
    "for key, item in players_notwit.items():\n",
    "    play_nt_y1[key] = players_notwit[key]['target1']\n",
    "    play_nt_y2[key] = players_notwit[key]['target2']\n",
    "    play_nt_y3[key] = players_notwit[key]['target3']\n",
    "    play_nt_y4[key] = players_notwit[key]['target4']\n"
   ]
  },
  {
   "cell_type": "code",
   "execution_count": null,
   "id": "0e610f01",
   "metadata": {},
   "outputs": [],
   "source": [
    "# mean target value over players\n",
    "play_tw_mean = pd.DataFrame()\n",
    "play_tw_mean['y1'] = play_tw_y1.mean(axis = 1)\n",
    "play_tw_mean['y2'] = play_tw_y2.mean(axis = 1)\n",
    "play_tw_mean['y3'] = play_tw_y3.mean(axis = 1)\n",
    "play_tw_mean['y4'] = play_tw_y4.mean(axis = 1)\n",
    "\n",
    "play_nt_mean = pd.DataFrame()\n",
    "play_nt_mean['y1'] = play_nt_y1.mean(axis = 1)\n",
    "play_nt_mean['y2'] = play_nt_y2.mean(axis = 1)\n",
    "play_nt_mean['y3'] = play_nt_y3.mean(axis = 1)\n",
    "play_nt_mean['y4'] = play_nt_y4.mean(axis = 1)\n",
    "\n",
    "play_tw_mean = play_tw_mean.assign(Location='has twitter')\n",
    "play_nt_mean = play_nt_mean.assign(Location='no twitter')\n",
    "\n",
    "whole_playtw = pd.concat([play_tw_mean, play_nt_mean])   \n",
    "\n",
    "mdf_players = pd.melt(whole_playtw, id_vars=['Location'], var_name=['target'])"
   ]
  },
  {
   "cell_type": "markdown",
   "id": "35c4247f",
   "metadata": {},
   "source": [
    "The plot below shows the mean target value over players who have ane do not have twitters.For all 4 target value measurements, the mean target values are higher for players who have twitter accounts. \n",
    "\n",
    "However, except for target 2, we can see some players who do not have twitter accounts have a higher engagement values than players who have. Therefore, target 2 may be related more to the players' popularity on internet."
   ]
  },
  {
   "cell_type": "code",
   "execution_count": null,
   "id": "d60fb3ea",
   "metadata": {},
   "outputs": [],
   "source": [
    "ax = sns.boxplot(x=\"target\", y=\"value\", hue=\"Location\", data=mdf_players)    \n",
    "plt.show()"
   ]
  },
  {
   "cell_type": "code",
   "execution_count": null,
   "id": "0ab84cc9",
   "metadata": {},
   "outputs": [],
   "source": [
    "player_twit_y1 = feature_imp_y1[players_twitter.keys()]\n",
    "player_twit_y2 = feature_imp_y2[players_twitter.keys()]\n",
    "player_twit_y3 = feature_imp_y3[players_twitter.keys()]\n",
    "player_twit_y4 = feature_imp_y4[players_twitter.keys()]\n",
    "\n",
    "player_notwit_y1 = feature_imp_y1[players_notwit.keys()]\n",
    "player_notwit_y2 = feature_imp_y2[players_notwit.keys()]\n",
    "player_notwit_y3 = feature_imp_y3[players_notwit.keys()]\n",
    "player_notwit_y4 = feature_imp_y4[players_notwit.keys()]"
   ]
  },
  {
   "cell_type": "code",
   "execution_count": null,
   "id": "c10d420c",
   "metadata": {},
   "outputs": [],
   "source": [
    "player_twit_y1.mean(axis = 1).sort_values(ascending = False)[:11]"
   ]
  },
  {
   "cell_type": "code",
   "execution_count": null,
   "id": "8d0a4f7c",
   "metadata": {},
   "outputs": [],
   "source": [
    "player_twit_y2.mean(axis = 1).sort_values(ascending = False)[:11]"
   ]
  },
  {
   "cell_type": "code",
   "execution_count": null,
   "id": "35068bff",
   "metadata": {},
   "outputs": [],
   "source": [
    "player_twit_y3.mean(axis = 1).sort_values(ascending = False)[:11]"
   ]
  },
  {
   "cell_type": "code",
   "execution_count": null,
   "id": "ab4afbdb",
   "metadata": {},
   "outputs": [],
   "source": [
    "player_twit_y4.mean(axis = 1).sort_values(ascending = False)[:11]"
   ]
  },
  {
   "cell_type": "code",
   "execution_count": null,
   "id": "be0d87fc",
   "metadata": {},
   "outputs": [],
   "source": [
    "player_notwit_y4.mean(axis = 1).sort_values(ascending = False)[:11]"
   ]
  },
  {
   "cell_type": "code",
   "execution_count": null,
   "id": "ed137a71",
   "metadata": {},
   "outputs": [],
   "source": [
    "player_notwit_y3.mean(axis = 1).sort_values(ascending = False)[:10]"
   ]
  },
  {
   "cell_type": "code",
   "execution_count": null,
   "id": "8d90bc30",
   "metadata": {},
   "outputs": [],
   "source": [
    "player_notwit_y2.mean(axis = 1).sort_values(ascending = False)[:10]"
   ]
  },
  {
   "cell_type": "code",
   "execution_count": null,
   "id": "d56f8c8c",
   "metadata": {},
   "outputs": [],
   "source": [
    "player_notwit_y1.mean(axis = 1).sort_values(ascending = False)[:10]"
   ]
  },
  {
   "cell_type": "code",
   "execution_count": null,
   "id": "3c1d4cf4",
   "metadata": {},
   "outputs": [],
   "source": [
    "plt.figure(figsize = (12,8))\n",
    "sns.heatmap(player_twit_y1, vmax = 0.15, xticklabels=False)"
   ]
  },
  {
   "cell_type": "code",
   "execution_count": null,
   "id": "0c383981",
   "metadata": {},
   "outputs": [],
   "source": [
    "plt.figure(figsize = (12,8))\n",
    "sns.heatmap(player_notwit_y1, vmax = 0.15, xticklabels=False)"
   ]
  },
  {
   "cell_type": "code",
   "execution_count": null,
   "id": "e536e101",
   "metadata": {},
   "outputs": [],
   "source": [
    "team_tw_y1 = pd.DataFrame()\n",
    "team_tw_y2 = pd.DataFrame()\n",
    "team_tw_y3 = pd.DataFrame()\n",
    "team_tw_y4 = pd.DataFrame()\n",
    "\n",
    "for key, item in team_twitter.items():\n",
    "    team_tw_y1[key] = team_twitter[key]['target1']\n",
    "    team_tw_y2[key] = team_twitter[key]['target2']\n",
    "    team_tw_y3[key] = team_twitter[key]['target3']\n",
    "    team_tw_y4[key] = team_twitter[key]['target4']\n",
    "\n",
    "team_nt_y1 = pd.DataFrame()\n",
    "team_nt_y2 = pd.DataFrame()\n",
    "team_nt_y3 = pd.DataFrame()\n",
    "team_nt_y4 = pd.DataFrame()\n",
    "\n",
    "for key, item in team_notwit.items():\n",
    "    team_nt_y1[key] = team_notwit[key]['target1']\n",
    "    team_nt_y2[key] = team_notwit[key]['target2']\n",
    "    team_nt_y3[key] = team_notwit[key]['target3']\n",
    "    team_nt_y4[key] = team_notwit[key]['target4']"
   ]
  },
  {
   "cell_type": "code",
   "execution_count": null,
   "id": "2d866070",
   "metadata": {},
   "outputs": [],
   "source": [
    "# mean target value over players\n",
    "team_tw_mean = pd.DataFrame()\n",
    "team_tw_mean['y1'] = team_tw_y1.mean(axis = 1)\n",
    "team_tw_mean['y2'] = team_tw_y2.mean(axis = 1)\n",
    "team_tw_mean['y3'] = team_tw_y3.mean(axis = 1)\n",
    "team_tw_mean['y4'] = team_tw_y4.mean(axis = 1)\n",
    "\n",
    "team_nt_mean = pd.DataFrame()\n",
    "team_nt_mean['y1'] = team_nt_y1.mean(axis = 1)\n",
    "team_nt_mean['y2'] = team_nt_y2.mean(axis = 1)\n",
    "team_nt_mean['y3'] = team_nt_y3.mean(axis = 1)\n",
    "team_nt_mean['y4'] = team_nt_y4.mean(axis = 1)\n",
    "\n",
    "team_tw_mean = team_tw_mean.assign(Location='has twitter')\n",
    "team_nt_mean = team_nt_mean.assign(Location='no twitter')\n",
    "\n",
    "whole_teamtw = pd.concat([team_tw_mean, team_nt_mean])   \n",
    "\n",
    "mdf_team = pd.melt(whole_teamtw, id_vars=['Location'], var_name=['target'])"
   ]
  },
  {
   "cell_type": "code",
   "execution_count": null,
   "id": "cbafa7c8",
   "metadata": {},
   "outputs": [],
   "source": [
    "ax = sns.boxplot(x=\"target\", y=\"value\", hue=\"Location\", data=mdf_team)    \n",
    "plt.show()"
   ]
  },
  {
   "cell_type": "code",
   "execution_count": null,
   "id": "67b8e1b1",
   "metadata": {},
   "outputs": [],
   "source": [
    "# Panel Data Model"
   ]
  },
  {
   "cell_type": "code",
   "execution_count": null,
   "id": "11d1f064",
   "metadata": {},
   "outputs": [],
   "source": [
    "df_panel = pd.concat(merge_8.values() ,axis=0)\n",
    "df_panel = df_panel.drop(['gamePk', 'gameDate', 'gameTimeUTC', 'engagementMetricsDate'], axis = 1)\n",
    "df_panel['pct'] = df_panel['pct'].astype('float')"
   ]
  },
  {
   "cell_type": "code",
   "execution_count": null,
   "id": "0c84e152",
   "metadata": {},
   "outputs": [],
   "source": [
    "object_encode = df_panel.select_dtypes(include=['object'])\n",
    "\n",
    "def label_encode(df, column):\n",
    "    func = {c: i for i, c in enumerate(df[column].unique()) if not pd.isna(c)}\n",
    "    df[column] = df[column].map(func)\n",
    "\n",
    "for col in object_encode.columns:\n",
    "    label_encode(object_encode, col)\n",
    "df_panel[object_encode.columns] = object_encode"
   ]
  },
  {
   "cell_type": "code",
   "execution_count": null,
   "id": "8ceab1d2",
   "metadata": {},
   "outputs": [],
   "source": [
    "df_panel.replace(np.inf, 0, inplace=True)\n",
    "df_panel = df_panel.fillna(-99)\n",
    "df_panel.head()"
   ]
  },
  {
   "cell_type": "code",
   "execution_count": null,
   "id": "cfb766f1",
   "metadata": {},
   "outputs": [],
   "source": [
    "X_panel = df_panel[df_panel.columns.difference(['target1', 'target2', 'target3', 'target4'])]\n",
    "y_panel = df_panel[['playerId','target1', 'target2', 'target3', 'target4']]\n",
    "\n",
    "X_panel_dict = {id: X_panel[X_panel['playerId']==id] for id in target_v['playerId'].unique()} "
   ]
  },
  {
   "cell_type": "code",
   "execution_count": null,
   "id": "93cc1d4f",
   "metadata": {},
   "outputs": [],
   "source": [
    "# Choose features whose importance bigger than 0.01\n",
    "X_y1 = list(features['y1'][features['y1']>0.03].index) + ['playerId', 'date', 'target1']\n",
    "X_y2 = list(features['y2'][features['y2']>0.03].index) + ['playerId', 'date', 'target2']\n",
    "X_y3 = list(features['y3'][features['y3']>0.03].index) + ['playerId', 'date', 'target3']\n",
    "X_y4 = list(features['y4'][features['y4']>0.03].index) + ['playerId', 'date', 'target4']"
   ]
  },
  {
   "cell_type": "code",
   "execution_count": null,
   "id": "438e2397",
   "metadata": {},
   "outputs": [],
   "source": [
    "X_t1 = df_panel[X_y1]\n",
    "X_t2 = df_panel[X_y2]\n",
    "X_t3 = df_panel[X_y3]\n",
    "X_t4 = df_panel[X_y4]"
   ]
  },
  {
   "cell_type": "code",
   "execution_count": null,
   "id": "f9a94ab1",
   "metadata": {},
   "outputs": [],
   "source": [
    "from linearmodels import PanelOLS\n",
    "from linearmodels import RandomEffects\n",
    "import statsmodels.api as sm"
   ]
  },
  {
   "cell_type": "code",
   "execution_count": null,
   "id": "7277d531",
   "metadata": {},
   "outputs": [],
   "source": [
    "X_t1 = X_t1.set_index(['playerId', 'date'], inplace = False, append = False, drop = True)\n",
    "time = X_t1.index.get_level_values('date').to_list()\n",
    "X_t1['time'] = pd.Categorical(time)"
   ]
  },
  {
   "cell_type": "code",
   "execution_count": null,
   "id": "372d925b",
   "metadata": {},
   "outputs": [],
   "source": [
    "exog = sm.tools.tools.add_constant(X_t1)"
   ]
  },
  {
   "cell_type": "code",
   "execution_count": null,
   "id": "db474d90",
   "metadata": {},
   "outputs": [],
   "source": [
    "endog = X_t1['target1']"
   ]
  },
  {
   "cell_type": "code",
   "execution_count": null,
   "id": "03ff76de",
   "metadata": {},
   "outputs": [],
   "source": [
    "endog"
   ]
  },
  {
   "cell_type": "code",
   "execution_count": null,
   "id": "0bf94298",
   "metadata": {},
   "outputs": [],
   "source": [
    "# # random effects model\n",
    "# model_re = RandomEffects(endog, exog) \n",
    "# re_res = model_re.fit() \n",
    "# # fixed effects model\n",
    "# # model_fe = PanelOLS(endog, exog, entity_effects = True) \n",
    "# # fe_res = model_fe.fit() \n",
    "# #print results\n",
    "# print(re_res)\n",
    "# # print(fe_res)"
   ]
  },
  {
   "cell_type": "code",
   "execution_count": null,
   "id": "7f44e1de",
   "metadata": {},
   "outputs": [],
   "source": []
  },
  {
   "cell_type": "code",
   "execution_count": null,
   "id": "fe59cd47",
   "metadata": {},
   "outputs": [],
   "source": []
  },
  {
   "cell_type": "code",
   "execution_count": null,
   "id": "f4b36baf",
   "metadata": {},
   "outputs": [],
   "source": []
  },
  {
   "cell_type": "code",
   "execution_count": null,
   "id": "fad1c745",
   "metadata": {},
   "outputs": [],
   "source": []
  },
  {
   "cell_type": "code",
   "execution_count": null,
   "id": "e12576e7",
   "metadata": {},
   "outputs": [],
   "source": []
  }
 ],
 "metadata": {
  "kernelspec": {
   "display_name": "Python 3",
   "language": "python",
   "name": "python3"
  },
  "language_info": {
   "codemirror_mode": {
    "name": "ipython",
    "version": 3
   },
   "file_extension": ".py",
   "mimetype": "text/x-python",
   "name": "python",
   "nbconvert_exporter": "python",
   "pygments_lexer": "ipython3",
   "version": "3.7.3"
  }
 },
 "nbformat": 4,
 "nbformat_minor": 5
}
